{
 "cells": [
  {
   "cell_type": "markdown",
   "metadata": {},
   "source": [
    "# Demonstrate Interaction of pydantic and omnikeeper"
   ]
  },
  {
   "cell_type": "code",
   "execution_count": 12,
   "metadata": {},
   "outputs": [],
   "source": [
    "import os\n",
    "import omnikeeper_client as okc\n",
    "from omnikeeper_client import TraitDefinition, TraitAttributeDefinition, ATTRIBUTETYPE_TEXT, ATTRIBUTETYPE_INTEGER, get_all_traitentities_pydantic\n",
    "import uuid\n",
    "from pydantic import BaseModel,TypeAdapter, PlainSerializer\n",
    "from typing_extensions import Annotated\n",
    "from typing import List"
   ]
  },
  {
   "cell_type": "code",
   "execution_count": 13,
   "metadata": {},
   "outputs": [],
   "source": [
    "trait_id = \"python_client_demo.test\"\n",
    "layer_id = \"testlayer\""
   ]
  },
  {
   "cell_type": "markdown",
   "metadata": {},
   "source": [
    "create a omnikeeper client"
   ]
  },
  {
   "cell_type": "code",
   "execution_count": 14,
   "metadata": {},
   "outputs": [],
   "source": [
    "okapiclient = okc.OkApiClient(\n",
    "    backend_url=os.getenv('OMNIKEEPER_URL'),\n",
    "    client_id=os.getenv('OMNIKEEPER_AUTH_CLIENTID'),\n",
    "    username=os.getenv('OMNIKEEPER_AUTH_USERNAME'),\n",
    "    password=os.getenv('OMNIKEEPER_AUTH_PASSWORD'),\n",
    ")"
   ]
  },
  {
   "cell_type": "markdown",
   "metadata": {},
   "source": [
    "ensure trait exists"
   ]
  },
  {
   "cell_type": "code",
   "execution_count": 15,
   "metadata": {},
   "outputs": [],
   "source": [
    "ret = okc.upsert_trait(okapiclient, TraitDefinition(trait_id, [\n",
    "        TraitAttributeDefinition(\"id\", \"test.id\", ATTRIBUTETYPE_INTEGER),\n",
    "        TraitAttributeDefinition(\"array\", \"test.array\", ATTRIBUTETYPE_TEXT, is_array=True),\n",
    "        TraitAttributeDefinition(\"some_key\", \"test.mapped_some_key\", ATTRIBUTETYPE_TEXT),\n",
    "      ]))\n",
    "assert(ret)"
   ]
  },
  {
   "cell_type": "markdown",
   "metadata": {},
   "source": [
    "ensure layer exists"
   ]
  },
  {
   "cell_type": "code",
   "execution_count": 16,
   "metadata": {},
   "outputs": [],
   "source": [
    "ret = okc.create_layer(okapiclient, layer_id, \"just a test layer\", okc.hex_string_to_rgb_color(\"#6666FF\"))\n",
    "assert(ret)"
   ]
  },
  {
   "cell_type": "markdown",
   "metadata": {},
   "source": [
    "Define pydantic class, same as trait, with the addition of a ciid field"
   ]
  },
  {
   "cell_type": "code",
   "execution_count": 17,
   "metadata": {},
   "outputs": [],
   "source": [
    "class Test(BaseModel):\n",
    "    ciid: okc.SerializableUUID # this is the short form for an annotated UUID field that is properly serializable to a string\n",
    "    id: int\n",
    "    array: List[str] = ['foo', 'bar'],\n",
    "    some_key: str"
   ]
  },
  {
   "cell_type": "markdown",
   "metadata": {},
   "source": [
    "Init data"
   ]
  },
  {
   "cell_type": "code",
   "execution_count": 18,
   "metadata": {},
   "outputs": [
    {
     "data": {
      "text/plain": [
       "[Test(ciid=UUID('28f37810-e012-4883-8a03-e97ab6c8b344'), id=1, array=['a', 'b'], some_key='Value 1'),\n",
       " Test(ciid=UUID('aefd377f-fd95-4061-8e5b-b8068e8a2b74'), id=3, array=['c', 'd'], some_key='another Value')]"
      ]
     },
     "execution_count": 18,
     "metadata": {},
     "output_type": "execute_result"
    }
   ],
   "source": [
    "data_init = [\n",
    "    Test(ciid=uuid.uuid4(), id=1, array=[\"a\", \"b\"], some_key=\"Value 1\"),\n",
    "    Test(ciid=uuid.uuid4(), id=3, array=[\"c\", \"d\"], some_key=\"another Value\"),\n",
    "]\n",
    "data_init"
   ]
  },
  {
   "cell_type": "markdown",
   "metadata": {},
   "source": [
    "Write data to omnikeeper"
   ]
  },
  {
   "cell_type": "code",
   "execution_count": 19,
   "metadata": {},
   "outputs": [],
   "source": [
    "ret = okc.bulk_replace_trait_entities_pydantic(okapiclient, trait_name=trait_id, input=data_init, write_layer=layer_id)\n",
    "assert(ret)"
   ]
  },
  {
   "cell_type": "markdown",
   "metadata": {},
   "source": [
    "Read data back from omnikeeper, should be the same"
   ]
  },
  {
   "cell_type": "code",
   "execution_count": 20,
   "metadata": {},
   "outputs": [
    {
     "data": {
      "text/plain": [
       "[Test(ciid=UUID('28f37810-e012-4883-8a03-e97ab6c8b344'), id=1, array=['a', 'b'], some_key='Value 1'),\n",
       " Test(ciid=UUID('aefd377f-fd95-4061-8e5b-b8068e8a2b74'), id=3, array=['c', 'd'], some_key='another Value')]"
      ]
     },
     "execution_count": 20,
     "metadata": {},
     "output_type": "execute_result"
    }
   ],
   "source": [
    "m = get_all_traitentities_pydantic(okapiclient, trait_name=trait_id, ta=TypeAdapter(List[Test]), layers=[layer_id])\n",
    "m"
   ]
  },
  {
   "cell_type": "markdown",
   "metadata": {},
   "source": [
    "Change some data locally"
   ]
  },
  {
   "cell_type": "code",
   "execution_count": 21,
   "metadata": {},
   "outputs": [],
   "source": [
    "m[0].array=['x', 'y']"
   ]
  },
  {
   "cell_type": "markdown",
   "metadata": {},
   "source": [
    "Write it to omnikeeper again and read it again"
   ]
  },
  {
   "cell_type": "code",
   "execution_count": 22,
   "metadata": {},
   "outputs": [
    {
     "data": {
      "text/plain": [
       "[Test(ciid=UUID('28f37810-e012-4883-8a03-e97ab6c8b344'), id=1, array=['x', 'y'], some_key='Value 1'),\n",
       " Test(ciid=UUID('aefd377f-fd95-4061-8e5b-b8068e8a2b74'), id=3, array=['c', 'd'], some_key='another Value')]"
      ]
     },
     "execution_count": 22,
     "metadata": {},
     "output_type": "execute_result"
    }
   ],
   "source": [
    "ret = okc.bulk_replace_trait_entities_pydantic(okapiclient, trait_name=trait_id, input=m, write_layer=layer_id)\n",
    "assert(ret)\n",
    "m = get_all_traitentities_pydantic(okapiclient, trait_name=trait_id, ta=TypeAdapter(List[Test]), layers=[layer_id])\n",
    "m"
   ]
  }
 ],
 "metadata": {
  "kernelspec": {
   "display_name": ".venv",
   "language": "python",
   "name": "python3"
  },
  "language_info": {
   "codemirror_mode": {
    "name": "ipython",
    "version": 3
   },
   "file_extension": ".py",
   "mimetype": "text/x-python",
   "name": "python",
   "nbconvert_exporter": "python",
   "pygments_lexer": "ipython3",
   "version": "3.10.6"
  }
 },
 "nbformat": 4,
 "nbformat_minor": 2
}
