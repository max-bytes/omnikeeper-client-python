{
 "cells": [
  {
   "cell_type": "markdown",
   "metadata": {},
   "source": [
    "## Demonstrate interactions with relations using omnikeeper"
   ]
  },
  {
   "cell_type": "code",
   "execution_count": 1,
   "metadata": {},
   "outputs": [],
   "source": [
    "import os\n",
    "import omnikeeper_client as okc\n",
    "from omnikeeper_client import TraitDefinition, TraitAttributeDefinition, TraitRelationDefinition, ATTRIBUTETYPE_TEXT, ATTRIBUTETYPE_INTEGER\n",
    "import pandas as pd"
   ]
  },
  {
   "cell_type": "code",
   "execution_count": 2,
   "metadata": {},
   "outputs": [],
   "source": [
    "#TODO add prerequisites for this notebook creation of hosts and interfaces omnikeeper cis"
   ]
  },
  {
   "cell_type": "markdown",
   "metadata": {},
   "source": [
    "As usual create the omnikeeper client"
   ]
  },
  {
   "cell_type": "code",
   "execution_count": 3,
   "metadata": {},
   "outputs": [],
   "source": [
    "okapiclient = okc.OkApiClient(\n",
    "    backend_url=os.getenv('OMNIKEEPER_URL'),\n",
    "    client_id=os.getenv('OMNIKEEPER_AUTH_CLIENTID'),\n",
    "    username=os.getenv('OMNIKEEPER_AUTH_USERNAME'),\n",
    "    password=os.getenv('OMNIKEEPER_AUTH_PASSWORD'),\n",
    ")"
   ]
  },
  {
   "cell_type": "markdown",
   "metadata": {},
   "source": [
    "Define the trait names and layer"
   ]
  },
  {
   "cell_type": "code",
   "execution_count": 4,
   "metadata": {},
   "outputs": [],
   "source": [
    "host_trait_name = \"python_client_demo.host\"\n",
    "interface_trait_name = \"python_client_demo.interface\"\n",
    "layer_name = \"relations\""
   ]
  },
  {
   "cell_type": "markdown",
   "metadata": {},
   "source": [
    "Make sure that traits are created correctly"
   ]
  },
  {
   "cell_type": "code",
   "execution_count": 5,
   "metadata": {},
   "outputs": [
    {
     "name": "stdout",
     "output_type": "stream",
     "text": [
      "True\n",
      "True\n"
     ]
    }
   ],
   "source": [
    "is_host_trait_created = okc.upsert_trait(okapiclient, TraitDefinition(host_trait_name, [\n",
    "        TraitAttributeDefinition(\"id\", \"host.id\", ATTRIBUTETYPE_TEXT),\n",
    "      ], optional_relations = [\n",
    "        TraitRelationDefinition(identifier = \"has_interface\", predicate_id = \"has_interface\", direction_forward=True)\n",
    "      ]))\n",
    "print(is_host_trait_created)\n",
    "\n",
    "is_interface_trait_created = okc.upsert_trait(okapiclient, TraitDefinition(interface_trait_name, [\n",
    "        TraitAttributeDefinition(\"id\", \"interface.id\", ATTRIBUTETYPE_TEXT),\n",
    "      ], optional_relations = [\n",
    "        TraitRelationDefinition(identifier = \"has_host\", predicate_id = \"has_host\", direction_forward=True)\n",
    "      ]))\n",
    "print(is_interface_trait_created)"
   ]
  },
  {
   "cell_type": "markdown",
   "metadata": {},
   "source": [
    "### Relations operations using lists"
   ]
  },
  {
   "cell_type": "markdown",
   "metadata": {},
   "source": [
    "Fetch hosts and interfaces from the specified layer"
   ]
  },
  {
   "cell_type": "code",
   "execution_count": 6,
   "metadata": {},
   "outputs": [
    {
     "data": {
      "text/plain": [
       "[{'ciid': 'c0492e67-71bf-43e7-8204-2620be7856e5', 'id': '1'}]"
      ]
     },
     "execution_count": 6,
     "metadata": {},
     "output_type": "execute_result"
    }
   ],
   "source": [
    "hosts = okc.get_all_traitentities_list(okapiclient, trait_name=host_trait_name, layers=[layer_name])\n",
    "hosts"
   ]
  },
  {
   "cell_type": "code",
   "execution_count": 7,
   "metadata": {},
   "outputs": [
    {
     "data": {
      "text/plain": [
       "[{'ciid': 'f233782e-51b4-4d80-8207-6f2363dd9227', 'id': '1'}]"
      ]
     },
     "execution_count": 7,
     "metadata": {},
     "output_type": "execute_result"
    }
   ],
   "source": [
    "interfaces = okc.get_all_traitentities_list(okapiclient, trait_name=interface_trait_name, layers=[layer_name])\n",
    "interfaces"
   ]
  },
  {
   "cell_type": "markdown",
   "metadata": {},
   "source": [
    "Fetch has_host realtions. In the result interfaces will be as base_cis and hosts as related cis"
   ]
  },
  {
   "cell_type": "code",
   "execution_count": 8,
   "metadata": {},
   "outputs": [
    {
     "data": {
      "text/plain": [
       "[{'base_ciid': 'f233782e-51b4-4d80-8207-6f2363dd9227',\n",
       "  'related_ciids': ['c0492e67-71bf-43e7-8204-2620be7856e5']}]"
      ]
     },
     "execution_count": 8,
     "metadata": {},
     "output_type": "execute_result"
    }
   ],
   "source": [
    "has_host_relations = okc.get_trait_relation(okapiclient, trait_name=interface_trait_name, relation_name=\"has_host\", layers=[layer_name])\n",
    "has_host_relations"
   ]
  },
  {
   "cell_type": "markdown",
   "metadata": {},
   "source": [
    "Fetch has_interface relations for all hosts"
   ]
  },
  {
   "cell_type": "code",
   "execution_count": 9,
   "metadata": {},
   "outputs": [
    {
     "data": {
      "text/plain": [
       "[{'base_ciid': 'c0492e67-71bf-43e7-8204-2620be7856e5',\n",
       "  'related_ciids': ['f233782e-51b4-4d80-8207-6f2363dd9227']}]"
      ]
     },
     "execution_count": 9,
     "metadata": {},
     "output_type": "execute_result"
    }
   ],
   "source": [
    "has_interface_relations = okc.get_trait_relation(okapiclient, trait_name=host_trait_name, relation_name=\"has_interface\", layers=[layer_name])\n",
    "has_interface_relations"
   ]
  },
  {
   "cell_type": "markdown",
   "metadata": {},
   "source": [
    "Merge hosts with realted cis in this case interfaces"
   ]
  },
  {
   "cell_type": "code",
   "execution_count": 10,
   "metadata": {},
   "outputs": [
    {
     "data": {
      "text/plain": [
       "[{'ciid': 'c0492e67-71bf-43e7-8204-2620be7856e5',\n",
       "  'id': '1',\n",
       "  'related_ciis': {'ciid': 'f233782e-51b4-4d80-8207-6f2363dd9227', 'id': '1'}}]"
      ]
     },
     "execution_count": 10,
     "metadata": {},
     "output_type": "execute_result"
    }
   ],
   "source": [
    "interface_dict = {interface['ciid']: interface for interface in interfaces}\n",
    "\n",
    "hosts_with_relations = []\n",
    "for host in hosts:\n",
    "    for relation in has_interface_relations:\n",
    "        if host['ciid'] == relation['base_ciid']:\n",
    "            for related_ciid in relation['related_ciids']:\n",
    "                if related_ciid in interface_dict:\n",
    "                    merged_dict = host.copy()  # copy the dictionary to not modify the original\n",
    "                    merged_dict['related_ciis'] = interface_dict[related_ciid]\n",
    "                    hosts_with_relations.append(merged_dict)\n",
    "\n",
    "hosts_with_relations"
   ]
  },
  {
   "cell_type": "markdown",
   "metadata": {},
   "source": [
    "The same can be done for interfaces to fetch its relations"
   ]
  },
  {
   "cell_type": "code",
   "execution_count": 11,
   "metadata": {},
   "outputs": [
    {
     "data": {
      "text/plain": [
       "[{'base_ciid': 'f233782e-51b4-4d80-8207-6f2363dd9227',\n",
       "  'related_ciids': ['c0492e67-71bf-43e7-8204-2620be7856e5']}]"
      ]
     },
     "execution_count": 11,
     "metadata": {},
     "output_type": "execute_result"
    }
   ],
   "source": [
    "has_host_relations"
   ]
  },
  {
   "cell_type": "code",
   "execution_count": 12,
   "metadata": {},
   "outputs": [
    {
     "data": {
      "text/plain": [
       "[{'ciid': 'f233782e-51b4-4d80-8207-6f2363dd9227',\n",
       "  'id': '1',\n",
       "  'related_ciis': {'ciid': 'c0492e67-71bf-43e7-8204-2620be7856e5', 'id': '1'}}]"
      ]
     },
     "execution_count": 12,
     "metadata": {},
     "output_type": "execute_result"
    }
   ],
   "source": [
    "host_dict = {host['ciid']: host for host in hosts}\n",
    "\n",
    "interfaces_with_relations = []\n",
    "for interface in interfaces:\n",
    "    for relation in has_host_relations:\n",
    "        if interface['ciid'] == relation['base_ciid']:\n",
    "            for related_ciid in relation['related_ciids']:\n",
    "                if related_ciid in host_dict:\n",
    "                    merged_dict = interface.copy()  # copy the dictionary to not modify the original\n",
    "                    merged_dict['related_ciis'] = host_dict[related_ciid]\n",
    "                    interfaces_with_relations.append(merged_dict)\n",
    "\n",
    "interfaces_with_relations"
   ]
  },
  {
   "cell_type": "markdown",
   "metadata": {},
   "source": [
    "### Relations operations using pandas dataframes"
   ]
  },
  {
   "cell_type": "code",
   "execution_count": 13,
   "metadata": {},
   "outputs": [],
   "source": [
    "# TODO"
   ]
  }
 ],
 "metadata": {
  "kernelspec": {
   "display_name": ".venv",
   "language": "python",
   "name": "python3"
  },
  "language_info": {
   "codemirror_mode": {
    "name": "ipython",
    "version": 3
   },
   "file_extension": ".py",
   "mimetype": "text/x-python",
   "name": "python",
   "nbconvert_exporter": "python",
   "pygments_lexer": "ipython3",
   "version": "3.12.0"
  }
 },
 "nbformat": 4,
 "nbformat_minor": 2
}
