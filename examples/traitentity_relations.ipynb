{
 "cells": [
  {
   "cell_type": "markdown",
   "metadata": {},
   "source": [
    "## Demonstrate interactions with traitentity relations using omnikeeper"
   ]
  },
  {
   "cell_type": "code",
   "execution_count": 14,
   "metadata": {},
   "outputs": [],
   "source": [
    "import os\n",
    "import omnikeeper_client as okc\n",
    "from omnikeeper_client import TraitDefinition, TraitAttributeDefinition, TraitRelationDefinition, ATTRIBUTETYPE_TEXT, ATTRIBUTETYPE_INTEGER"
   ]
  },
  {
   "cell_type": "markdown",
   "metadata": {},
   "source": [
    "As usual create the omnikeeper client"
   ]
  },
  {
   "cell_type": "code",
   "execution_count": 15,
   "metadata": {},
   "outputs": [],
   "source": [
    "okapiclient = okc.OkApiClient(\n",
    "    backend_url=os.getenv('OMNIKEEPER_URL'),\n",
    "    client_id=os.getenv('OMNIKEEPER_AUTH_CLIENTID'),\n",
    "    username=os.getenv('OMNIKEEPER_AUTH_USERNAME'),\n",
    "    password=os.getenv('OMNIKEEPER_AUTH_PASSWORD'),\n",
    ")"
   ]
  },
  {
   "cell_type": "markdown",
   "metadata": {},
   "source": [
    "In this example we will work with two traits host and interface and we will define relations using okc public functions. \n",
    "\n",
    "First lets define the trait names and layer."
   ]
  },
  {
   "cell_type": "code",
   "execution_count": 16,
   "metadata": {},
   "outputs": [],
   "source": [
    "host_trait_id = \"python_client_demo.host\"\n",
    "interface_trait_id = \"python_client_demo.interface\"\n",
    "layer_id = \"traitrelations_test\""
   ]
  },
  {
   "cell_type": "markdown",
   "metadata": {},
   "source": [
    "Create the layer, traits and trait entities"
   ]
  },
  {
   "cell_type": "code",
   "execution_count": 17,
   "metadata": {},
   "outputs": [],
   "source": [
    "# create layer\n",
    "ret = okc.create_layer(okapiclient, layer_id, \"layer used for relation tests\", okc.hex_string_to_rgb_color(\"#FF0000\"))\n",
    "assert(ret)\n",
    "\n",
    "# create traits\n",
    "ret = is_host_trait_created = okc.upsert_trait(okapiclient, TraitDefinition(host_trait_id, [\n",
    "        TraitAttributeDefinition(\"id\", \"host.id\", ATTRIBUTETYPE_INTEGER),\n",
    "      ], optional_relations = [\n",
    "        TraitRelationDefinition(identifier = \"has_interface\", predicate_id = \"has_interface\", direction_forward=True)\n",
    "      ]))\n",
    "assert(ret)\n",
    "\n",
    "ret = okc.upsert_trait(okapiclient, TraitDefinition(interface_trait_id, [\n",
    "        TraitAttributeDefinition(\"id\", \"interface.id\", ATTRIBUTETYPE_INTEGER),\n",
    "      ], optional_relations = [\n",
    "        TraitRelationDefinition(identifier = \"belongs_to_host\", predicate_id = \"has_interface\", direction_forward=False)\n",
    "      ]))\n",
    "assert(ret)\n",
    "\n",
    "# insert hosts (attributes only)\n",
    "hosts = [\n",
    "    {\"ciid\": \"136DA01F-9ABD-4D9D-80C7-02AF85C822A8\", \"id\": 1},\n",
    "    {\"ciid\": \"236DA01F-9ABD-4D9D-80C7-02AF85C822A8\", \"id\": 2},\n",
    "]\n",
    "ret = okc.bulk_replace_trait_entities(okapiclient, host_trait_id, hosts, layer_id, layer_id)\n",
    "assert(ret)\n",
    "\n",
    "# insert interfaces (attributes only)\n",
    "interfaces = [\n",
    "    {\"ciid\": \"736DA01F-9ABD-4D9D-80C7-02AF85C822A8\", \"id\": 1},\n",
    "    {\"ciid\": \"836DA01F-9ABD-4D9D-80C7-02AF85C822A8\", \"id\": 2},\n",
    "    {\"ciid\": \"936DA01F-9ABD-4D9D-80C7-02AF85C822A8\", \"id\": 3}\n",
    "]\n",
    "ret = okc.bulk_replace_trait_entities(okapiclient, interface_trait_id, interfaces, layer_id, layer_id)\n",
    "assert(ret)\n",
    "\n",
    "# insert relations between hosts and services\n",
    "ret = okc.set_traitentity_relations(okapiclient, host_trait_id, \"has_interface\", hosts[0][\"ciid\"], [interfaces[0][\"ciid\"], interfaces[1][\"ciid\"]], layer_id, layer_id)\n",
    "assert(ret)\n",
    "ret = okc.set_traitentity_relations(okapiclient, host_trait_id, \"has_interface\", hosts[1][\"ciid\"], [interfaces[2][\"ciid\"]], layer_id, layer_id)\n",
    "assert(ret)\n"
   ]
  },
  {
   "cell_type": "markdown",
   "metadata": {},
   "source": [
    "Create the host and interface CIs"
   ]
  },
  {
   "cell_type": "markdown",
   "metadata": {},
   "source": [
    "Fetch host and interface trait entities (attributes only)"
   ]
  },
  {
   "cell_type": "code",
   "execution_count": 18,
   "metadata": {},
   "outputs": [],
   "source": [
    "# hosts_list = [\n",
    "#     {\"id\": 1},\n",
    "#     {\"id\": 2},\n",
    "#     {\"id\": 3},\n",
    "# ]\n",
    "# okc.bulk_replace_trait_entities_by_filter(okapiclient, trait_id=host_trait_id, input=hosts_list, id_attributes=[\"id\"], id_relations=[], write_layer=layer_id, filter={})"
   ]
  },
  {
   "cell_type": "markdown",
   "metadata": {},
   "source": [
    "Create Interface traitentities"
   ]
  },
  {
   "cell_type": "code",
   "execution_count": 19,
   "metadata": {},
   "outputs": [],
   "source": [
    "# interfaces_list = [\n",
    "#     {\"id\": 1},\n",
    "#     {\"id\": 2}, \n",
    "#     {\"id\": 3}\n",
    "# ]\n",
    "# okc.bulk_replace_trait_entities_by_filter(okapiclient, trait_id=interface_trait_id, input=interfaces_list, id_attributes=[\"id\"], id_relations=[], write_layer=layer_id, filter={})"
   ]
  },
  {
   "cell_type": "markdown",
   "metadata": {},
   "source": [
    "Fetch the created trait entities"
   ]
  },
  {
   "cell_type": "code",
   "execution_count": 20,
   "metadata": {},
   "outputs": [
    {
     "data": {
      "text/plain": [
       "[{'ciid': '136da01f-9abd-4d9d-80c7-02af85c822a8', 'id': 1},\n",
       " {'ciid': '236da01f-9abd-4d9d-80c7-02af85c822a8', 'id': 2}]"
      ]
     },
     "execution_count": 20,
     "metadata": {},
     "output_type": "execute_result"
    }
   ],
   "source": [
    "hosts = okc.get_all_traitentities(okapiclient, trait_id=host_trait_id, layers=[layer_id])\n",
    "hosts"
   ]
  },
  {
   "cell_type": "code",
   "execution_count": 21,
   "metadata": {},
   "outputs": [
    {
     "data": {
      "text/plain": [
       "[{'ciid': '736da01f-9abd-4d9d-80c7-02af85c822a8', 'id': 1},\n",
       " {'ciid': '836da01f-9abd-4d9d-80c7-02af85c822a8', 'id': 2},\n",
       " {'ciid': '936da01f-9abd-4d9d-80c7-02af85c822a8', 'id': 3}]"
      ]
     },
     "execution_count": 21,
     "metadata": {},
     "output_type": "execute_result"
    }
   ],
   "source": [
    "interfaces = okc.get_all_traitentities(okapiclient, trait_id=interface_trait_id, layers=[layer_id])\n",
    "interfaces"
   ]
  },
  {
   "cell_type": "markdown",
   "metadata": {},
   "source": [
    "Fetch belongs_to_host traitrelations. In the result interfaces will be as base_cis and hosts as related cis"
   ]
  },
  {
   "cell_type": "code",
   "execution_count": 22,
   "metadata": {},
   "outputs": [
    {
     "data": {
      "text/plain": [
       "[{'base_ciid': '736da01f-9abd-4d9d-80c7-02af85c822a8',\n",
       "  'related_ciids': ['136da01f-9abd-4d9d-80c7-02af85c822a8']},\n",
       " {'base_ciid': '836da01f-9abd-4d9d-80c7-02af85c822a8',\n",
       "  'related_ciids': ['136da01f-9abd-4d9d-80c7-02af85c822a8']},\n",
       " {'base_ciid': '936da01f-9abd-4d9d-80c7-02af85c822a8',\n",
       "  'related_ciids': ['236da01f-9abd-4d9d-80c7-02af85c822a8']}]"
      ]
     },
     "execution_count": 22,
     "metadata": {},
     "output_type": "execute_result"
    }
   ],
   "source": [
    "has_host_relations = okc.get_all_traitentity_relations(okapiclient, trait_id=interface_trait_id, traitrelation_id=\"belongs_to_host\", layers=[layer_id])\n",
    "has_host_relations"
   ]
  },
  {
   "cell_type": "markdown",
   "metadata": {},
   "source": [
    "Fetch has_interface traitrelations for all hosts"
   ]
  },
  {
   "cell_type": "code",
   "execution_count": 23,
   "metadata": {},
   "outputs": [
    {
     "data": {
      "text/plain": [
       "[{'base_ciid': '136da01f-9abd-4d9d-80c7-02af85c822a8',\n",
       "  'related_ciids': ['736da01f-9abd-4d9d-80c7-02af85c822a8',\n",
       "   '836da01f-9abd-4d9d-80c7-02af85c822a8']},\n",
       " {'base_ciid': '236da01f-9abd-4d9d-80c7-02af85c822a8',\n",
       "  'related_ciids': ['936da01f-9abd-4d9d-80c7-02af85c822a8']}]"
      ]
     },
     "execution_count": 23,
     "metadata": {},
     "output_type": "execute_result"
    }
   ],
   "source": [
    "has_interface_relations = okc.get_all_traitentity_relations(okapiclient, trait_id=host_trait_id, traitrelation_id=\"has_interface\", layers=[layer_id])\n",
    "has_interface_relations"
   ]
  },
  {
   "cell_type": "markdown",
   "metadata": {},
   "source": [
    "Merge hosts with related interfaces"
   ]
  },
  {
   "cell_type": "code",
   "execution_count": 24,
   "metadata": {},
   "outputs": [
    {
     "data": {
      "text/plain": [
       "[{'ciid': '136da01f-9abd-4d9d-80c7-02af85c822a8',\n",
       "  'id': 1,\n",
       "  'related_ciis': [{'ciid': '736da01f-9abd-4d9d-80c7-02af85c822a8', 'id': 1},\n",
       "   {'ciid': '836da01f-9abd-4d9d-80c7-02af85c822a8', 'id': 2}]},\n",
       " {'ciid': '236da01f-9abd-4d9d-80c7-02af85c822a8',\n",
       "  'id': 2,\n",
       "  'related_ciis': [{'ciid': '936da01f-9abd-4d9d-80c7-02af85c822a8', 'id': 3}]}]"
      ]
     },
     "execution_count": 24,
     "metadata": {},
     "output_type": "execute_result"
    }
   ],
   "source": [
    "interface_dict = {interface['ciid']: interface for interface in interfaces}\n",
    "\n",
    "hosts_with_relations = []\n",
    "for host in hosts:\n",
    "    merged_dict = host.copy()\n",
    "    merged_dict['related_ciis'] = []\n",
    "    for relation in has_interface_relations:\n",
    "        if host['ciid'] == relation['base_ciid']:\n",
    "            for related_ciid in relation['related_ciids']:\n",
    "                if related_ciid in interface_dict:\n",
    "                    merged_dict['related_ciis'].append(interface_dict[related_ciid])\n",
    "    hosts_with_relations.append(merged_dict)\n",
    "\n",
    "hosts_with_relations"
   ]
  },
  {
   "cell_type": "markdown",
   "metadata": {},
   "source": [
    "The same can be done for interfaces to fetch its relations"
   ]
  },
  {
   "cell_type": "code",
   "execution_count": 25,
   "metadata": {},
   "outputs": [
    {
     "data": {
      "text/plain": [
       "[{'ciid': '736da01f-9abd-4d9d-80c7-02af85c822a8',\n",
       "  'id': 1,\n",
       "  'related_ciis': [{'ciid': '136da01f-9abd-4d9d-80c7-02af85c822a8', 'id': 1}]},\n",
       " {'ciid': '836da01f-9abd-4d9d-80c7-02af85c822a8',\n",
       "  'id': 2,\n",
       "  'related_ciis': [{'ciid': '136da01f-9abd-4d9d-80c7-02af85c822a8', 'id': 1}]},\n",
       " {'ciid': '936da01f-9abd-4d9d-80c7-02af85c822a8',\n",
       "  'id': 3,\n",
       "  'related_ciis': [{'ciid': '236da01f-9abd-4d9d-80c7-02af85c822a8', 'id': 2}]}]"
      ]
     },
     "execution_count": 25,
     "metadata": {},
     "output_type": "execute_result"
    }
   ],
   "source": [
    "host_dict = {host['ciid']: host for host in hosts}\n",
    "\n",
    "interfaces_with_relations = []\n",
    "for interface in interfaces:\n",
    "    merged_dict = interface.copy()\n",
    "    merged_dict['related_ciis'] = []\n",
    "    for relation in has_host_relations:\n",
    "        if interface['ciid'] == relation['base_ciid']:\n",
    "            for related_ciid in relation['related_ciids']:\n",
    "                if related_ciid in host_dict:\n",
    "                    merged_dict['related_ciis'].append(host_dict[related_ciid])\n",
    "    interfaces_with_relations.append(merged_dict)\n",
    "\n",
    "interfaces_with_relations"
   ]
  },
  {
   "cell_type": "markdown",
   "metadata": {},
   "source": [
    "Use bulk replace to completely change the relations"
   ]
  },
  {
   "cell_type": "code",
   "execution_count": 26,
   "metadata": {},
   "outputs": [
    {
     "ename": "GraphQLError",
     "evalue": "Unknown type 'GuidGraphType'.\n\nGraphQL request:2:124\n2 |         mutation($readLayers: [String]!, $writeLayer: String!, $input: [TE_Upser\n  | t_Relations_Only_Input]!, $relevantCIIDs: [GuidGraphType]!) {\n  |                                            ^",
     "output_type": "error",
     "traceback": [
      "\u001b[0;31m---------------------------------------------------------------------------\u001b[0m",
      "\u001b[0;31mGraphQLError\u001b[0m                              Traceback (most recent call last)",
      "Cell \u001b[0;32mIn[26], line 1\u001b[0m\n\u001b[0;32m----> 1\u001b[0m \u001b[43mokc\u001b[49m\u001b[38;5;241;43m.\u001b[39;49m\u001b[43mbulk_replace_traitentity_relations\u001b[49m\u001b[43m(\u001b[49m\u001b[43mokapiclient\u001b[49m\u001b[43m,\u001b[49m\u001b[43m \u001b[49m\u001b[43mhost_trait_id\u001b[49m\u001b[43m,\u001b[49m\u001b[43m \u001b[49m\u001b[38;5;124;43m\"\u001b[39;49m\u001b[38;5;124;43mhas_interface\u001b[39;49m\u001b[38;5;124;43m\"\u001b[39;49m\u001b[43m,\u001b[49m\u001b[43m \u001b[49m\n\u001b[1;32m      2\u001b[0m \u001b[43m                                       \u001b[49m\u001b[38;5;28;43minput\u001b[39;49m\u001b[38;5;241;43m=\u001b[39;49m\u001b[43m[\u001b[49m\u001b[43m{\u001b[49m\u001b[38;5;124;43m'\u001b[39;49m\u001b[38;5;124;43mbaseCIID\u001b[39;49m\u001b[38;5;124;43m'\u001b[39;49m\u001b[43m:\u001b[49m\u001b[43m \u001b[49m\u001b[38;5;124;43m'\u001b[39;49m\u001b[38;5;124;43m236da01f-9abd-4d9d-80c7-02af85c822a8\u001b[39;49m\u001b[38;5;124;43m'\u001b[39;49m\u001b[43m,\u001b[49m\u001b[43m \u001b[49m\u001b[38;5;124;43m'\u001b[39;49m\u001b[38;5;124;43mrelatedCIIDs\u001b[39;49m\u001b[38;5;124;43m'\u001b[39;49m\u001b[43m:\u001b[49m\u001b[43m \u001b[49m\u001b[43m[\u001b[49m\u001b[38;5;124;43m'\u001b[39;49m\u001b[38;5;124;43m736da01f-9abd-4d9d-80c7-02af85c822a8\u001b[39;49m\u001b[38;5;124;43m'\u001b[39;49m\u001b[43m,\u001b[49m\u001b[43m \u001b[49m\u001b[38;5;124;43m'\u001b[39;49m\u001b[38;5;124;43m936da01f-9abd-4d9d-80c7-02af85c822a8\u001b[39;49m\u001b[38;5;124;43m'\u001b[39;49m\u001b[43m]\u001b[49m\u001b[43m}\u001b[49m\u001b[43m]\u001b[49m\u001b[43m,\u001b[49m\u001b[43m \u001b[49m\n\u001b[1;32m      3\u001b[0m \u001b[43m                                       \u001b[49m\u001b[43mrelevant_ciids\u001b[49m\u001b[38;5;241;43m=\u001b[39;49m\u001b[43m[\u001b[49m\u001b[38;5;124;43m'\u001b[39;49m\u001b[38;5;124;43m136DA01F-9ABD-4D9D-80C7-02AF85C822A8\u001b[39;49m\u001b[38;5;124;43m'\u001b[39;49m\u001b[43m,\u001b[49m\u001b[43m \u001b[49m\u001b[38;5;124;43m'\u001b[39;49m\u001b[38;5;124;43m236DA01F-9ABD-4D9D-80C7-02AF85C822A8\u001b[39;49m\u001b[38;5;124;43m'\u001b[39;49m\u001b[43m]\u001b[49m\u001b[43m,\u001b[49m\u001b[43m \u001b[49m\u001b[43mwrite_layer\u001b[49m\u001b[38;5;241;43m=\u001b[39;49m\u001b[43mlayer_id\u001b[49m\u001b[43m)\u001b[49m\n\u001b[1;32m      4\u001b[0m has_interface_relations \u001b[38;5;241m=\u001b[39m okc\u001b[38;5;241m.\u001b[39mget_all_traitentity_relations(okapiclient, trait_id\u001b[38;5;241m=\u001b[39mhost_trait_id, traitrelation_id\u001b[38;5;241m=\u001b[39m\u001b[38;5;124m\"\u001b[39m\u001b[38;5;124mhas_interface\u001b[39m\u001b[38;5;124m\"\u001b[39m, layers\u001b[38;5;241m=\u001b[39m[layer_id])\n\u001b[1;32m      5\u001b[0m has_interface_relations\n",
      "File \u001b[0;32m~/omnikeeper-client-python/src/omnikeeper_client/traitentities.py:395\u001b[0m, in \u001b[0;36mbulk_replace_traitentity_relations\u001b[0;34m(ok_api_client, trait_id, traitrelation_id, input, relevant_ciids, write_layer, read_layers)\u001b[0m\n\u001b[1;32m    392\u001b[0m \u001b[38;5;28;01mif\u001b[39;00m read_layers \u001b[38;5;129;01mis\u001b[39;00m \u001b[38;5;28;01mNone\u001b[39;00m:\n\u001b[1;32m    393\u001b[0m     read_layers \u001b[38;5;241m=\u001b[39m [write_layer]\n\u001b[0;32m--> 395\u001b[0m result \u001b[38;5;241m=\u001b[39m \u001b[43mok_api_client\u001b[49m\u001b[38;5;241;43m.\u001b[39;49m\u001b[43mexecute_graphql\u001b[49m\u001b[43m(\u001b[49m\u001b[43mquery\u001b[49m\u001b[43m,\u001b[49m\u001b[43m \u001b[49m\u001b[43mvariables\u001b[49m\u001b[38;5;241;43m=\u001b[39;49m\u001b[38;5;28;43mdict\u001b[39;49m\u001b[43m(\u001b[49m\n\u001b[1;32m    396\u001b[0m \u001b[43m    \u001b[49m\u001b[43mwriteLayer\u001b[49m\u001b[38;5;241;43m=\u001b[39;49m\u001b[43mwrite_layer\u001b[49m\u001b[43m,\u001b[49m\u001b[43m \u001b[49m\n\u001b[1;32m    397\u001b[0m \u001b[43m    \u001b[49m\u001b[43mreadLayers\u001b[49m\u001b[38;5;241;43m=\u001b[39;49m\u001b[43mread_layers\u001b[49m\u001b[43m,\u001b[49m\u001b[43m \u001b[49m\n\u001b[1;32m    398\u001b[0m \u001b[43m    \u001b[49m\u001b[38;5;28;43minput\u001b[39;49m\u001b[38;5;241;43m=\u001b[39;49m\u001b[38;5;28;43minput\u001b[39;49m\u001b[43m,\u001b[49m\n\u001b[1;32m    399\u001b[0m \u001b[43m    \u001b[49m\u001b[43mrelevantCIIDs\u001b[49m\u001b[38;5;241;43m=\u001b[39;49m\u001b[43mrelevant_ciids\u001b[49m\n\u001b[1;32m    400\u001b[0m \u001b[43m    \u001b[49m\u001b[43m)\u001b[49m\u001b[43m)\u001b[49m\n\u001b[1;32m    402\u001b[0m \u001b[38;5;28;01mreturn\u001b[39;00m result[\u001b[38;5;124mf\u001b[39m\u001b[38;5;124m\"\u001b[39m\u001b[38;5;124mbulkReplaceRelations_\u001b[39m\u001b[38;5;132;01m{\u001b[39;00mprefixed_escaped_trait_id\u001b[38;5;132;01m}\u001b[39;00m\u001b[38;5;124m_\u001b[39m\u001b[38;5;132;01m{\u001b[39;00mescaped_traitrelation_id\u001b[38;5;132;01m}\u001b[39;00m\u001b[38;5;124m\"\u001b[39m][\u001b[38;5;124m\"\u001b[39m\u001b[38;5;124msuccess\u001b[39m\u001b[38;5;124m\"\u001b[39m]\n",
      "File \u001b[0;32m~/omnikeeper-client-python/src/omnikeeper_client/apiclient.py:60\u001b[0m, in \u001b[0;36mOkApiClient.execute_graphql\u001b[0;34m(self, query, variables)\u001b[0m\n\u001b[1;32m     57\u001b[0m client \u001b[38;5;241m=\u001b[39m \u001b[38;5;28mself\u001b[39m\u001b[38;5;241m.\u001b[39m_get_graphql_client()\n\u001b[1;32m     59\u001b[0m prepared_query \u001b[38;5;241m=\u001b[39m gql(query) \u001b[38;5;28;01mif\u001b[39;00m query \u001b[38;5;129;01mis\u001b[39;00m \u001b[38;5;28mstr\u001b[39m \u001b[38;5;28;01melse\u001b[39;00m query\n\u001b[0;32m---> 60\u001b[0m data \u001b[38;5;241m=\u001b[39m \u001b[43mclient\u001b[49m\u001b[38;5;241;43m.\u001b[39;49m\u001b[43mexecute\u001b[49m\u001b[43m(\u001b[49m\u001b[43mprepared_query\u001b[49m\u001b[43m,\u001b[49m\u001b[43m \u001b[49m\u001b[43mvariable_values\u001b[49m\u001b[38;5;241;43m=\u001b[39;49m\u001b[43mvariables\u001b[49m\u001b[43m)\u001b[49m\n\u001b[1;32m     62\u001b[0m \u001b[38;5;28;01mreturn\u001b[39;00m data\n",
      "File \u001b[0;32m~/omnikeeper-client-python/.venv/lib/python3.10/site-packages/gql/client.py:403\u001b[0m, in \u001b[0;36mClient.execute\u001b[0;34m(self, document, variable_values, operation_name, serialize_variables, parse_result, get_execution_result, **kwargs)\u001b[0m\n\u001b[1;32m    400\u001b[0m     \u001b[38;5;28;01mreturn\u001b[39;00m data\n\u001b[1;32m    402\u001b[0m \u001b[38;5;28;01melse\u001b[39;00m:  \u001b[38;5;66;03m# Sync transports\u001b[39;00m\n\u001b[0;32m--> 403\u001b[0m     \u001b[38;5;28;01mreturn\u001b[39;00m \u001b[38;5;28;43mself\u001b[39;49m\u001b[38;5;241;43m.\u001b[39;49m\u001b[43mexecute_sync\u001b[49m\u001b[43m(\u001b[49m\n\u001b[1;32m    404\u001b[0m \u001b[43m        \u001b[49m\u001b[43mdocument\u001b[49m\u001b[43m,\u001b[49m\n\u001b[1;32m    405\u001b[0m \u001b[43m        \u001b[49m\u001b[43mvariable_values\u001b[49m\u001b[38;5;241;43m=\u001b[39;49m\u001b[43mvariable_values\u001b[49m\u001b[43m,\u001b[49m\n\u001b[1;32m    406\u001b[0m \u001b[43m        \u001b[49m\u001b[43moperation_name\u001b[49m\u001b[38;5;241;43m=\u001b[39;49m\u001b[43moperation_name\u001b[49m\u001b[43m,\u001b[49m\n\u001b[1;32m    407\u001b[0m \u001b[43m        \u001b[49m\u001b[43mserialize_variables\u001b[49m\u001b[38;5;241;43m=\u001b[39;49m\u001b[43mserialize_variables\u001b[49m\u001b[43m,\u001b[49m\n\u001b[1;32m    408\u001b[0m \u001b[43m        \u001b[49m\u001b[43mparse_result\u001b[49m\u001b[38;5;241;43m=\u001b[39;49m\u001b[43mparse_result\u001b[49m\u001b[43m,\u001b[49m\n\u001b[1;32m    409\u001b[0m \u001b[43m        \u001b[49m\u001b[43mget_execution_result\u001b[49m\u001b[38;5;241;43m=\u001b[39;49m\u001b[43mget_execution_result\u001b[49m\u001b[43m,\u001b[49m\n\u001b[1;32m    410\u001b[0m \u001b[43m        \u001b[49m\u001b[38;5;241;43m*\u001b[39;49m\u001b[38;5;241;43m*\u001b[39;49m\u001b[43mkwargs\u001b[49m\u001b[43m,\u001b[49m\n\u001b[1;32m    411\u001b[0m \u001b[43m    \u001b[49m\u001b[43m)\u001b[49m\n",
      "File \u001b[0;32m~/omnikeeper-client-python/.venv/lib/python3.10/site-packages/gql/client.py:221\u001b[0m, in \u001b[0;36mClient.execute_sync\u001b[0;34m(self, document, variable_values, operation_name, serialize_variables, parse_result, get_execution_result, **kwargs)\u001b[0m\n\u001b[1;32m    219\u001b[0m \u001b[38;5;250m\u001b[39m\u001b[38;5;124;03m\"\"\":meta private:\"\"\"\u001b[39;00m\n\u001b[1;32m    220\u001b[0m \u001b[38;5;28;01mwith\u001b[39;00m \u001b[38;5;28mself\u001b[39m \u001b[38;5;28;01mas\u001b[39;00m session:\n\u001b[0;32m--> 221\u001b[0m     \u001b[38;5;28;01mreturn\u001b[39;00m \u001b[43msession\u001b[49m\u001b[38;5;241;43m.\u001b[39;49m\u001b[43mexecute\u001b[49m\u001b[43m(\u001b[49m\n\u001b[1;32m    222\u001b[0m \u001b[43m        \u001b[49m\u001b[43mdocument\u001b[49m\u001b[43m,\u001b[49m\n\u001b[1;32m    223\u001b[0m \u001b[43m        \u001b[49m\u001b[43mvariable_values\u001b[49m\u001b[38;5;241;43m=\u001b[39;49m\u001b[43mvariable_values\u001b[49m\u001b[43m,\u001b[49m\n\u001b[1;32m    224\u001b[0m \u001b[43m        \u001b[49m\u001b[43moperation_name\u001b[49m\u001b[38;5;241;43m=\u001b[39;49m\u001b[43moperation_name\u001b[49m\u001b[43m,\u001b[49m\n\u001b[1;32m    225\u001b[0m \u001b[43m        \u001b[49m\u001b[43mserialize_variables\u001b[49m\u001b[38;5;241;43m=\u001b[39;49m\u001b[43mserialize_variables\u001b[49m\u001b[43m,\u001b[49m\n\u001b[1;32m    226\u001b[0m \u001b[43m        \u001b[49m\u001b[43mparse_result\u001b[49m\u001b[38;5;241;43m=\u001b[39;49m\u001b[43mparse_result\u001b[49m\u001b[43m,\u001b[49m\n\u001b[1;32m    227\u001b[0m \u001b[43m        \u001b[49m\u001b[43mget_execution_result\u001b[49m\u001b[38;5;241;43m=\u001b[39;49m\u001b[43mget_execution_result\u001b[49m\u001b[43m,\u001b[49m\n\u001b[1;32m    228\u001b[0m \u001b[43m        \u001b[49m\u001b[38;5;241;43m*\u001b[39;49m\u001b[38;5;241;43m*\u001b[39;49m\u001b[43mkwargs\u001b[49m\u001b[43m,\u001b[49m\n\u001b[1;32m    229\u001b[0m \u001b[43m    \u001b[49m\u001b[43m)\u001b[49m\n",
      "File \u001b[0;32m~/omnikeeper-client-python/.venv/lib/python3.10/site-packages/gql/client.py:849\u001b[0m, in \u001b[0;36mSyncClientSession.execute\u001b[0;34m(self, document, variable_values, operation_name, serialize_variables, parse_result, get_execution_result, **kwargs)\u001b[0m\n\u001b[1;32m    829\u001b[0m \u001b[38;5;250m\u001b[39m\u001b[38;5;124;03m\"\"\"Execute the provided document AST synchronously using\u001b[39;00m\n\u001b[1;32m    830\u001b[0m \u001b[38;5;124;03mthe sync transport.\u001b[39;00m\n\u001b[1;32m    831\u001b[0m \n\u001b[0;32m   (...)\u001b[0m\n\u001b[1;32m    845\u001b[0m \n\u001b[1;32m    846\u001b[0m \u001b[38;5;124;03mThe extra arguments are passed to the transport execute method.\"\"\"\u001b[39;00m\n\u001b[1;32m    848\u001b[0m \u001b[38;5;66;03m# Validate and execute on the transport\u001b[39;00m\n\u001b[0;32m--> 849\u001b[0m result \u001b[38;5;241m=\u001b[39m \u001b[38;5;28;43mself\u001b[39;49m\u001b[38;5;241;43m.\u001b[39;49m\u001b[43m_execute\u001b[49m\u001b[43m(\u001b[49m\n\u001b[1;32m    850\u001b[0m \u001b[43m    \u001b[49m\u001b[43mdocument\u001b[49m\u001b[43m,\u001b[49m\n\u001b[1;32m    851\u001b[0m \u001b[43m    \u001b[49m\u001b[43mvariable_values\u001b[49m\u001b[38;5;241;43m=\u001b[39;49m\u001b[43mvariable_values\u001b[49m\u001b[43m,\u001b[49m\n\u001b[1;32m    852\u001b[0m \u001b[43m    \u001b[49m\u001b[43moperation_name\u001b[49m\u001b[38;5;241;43m=\u001b[39;49m\u001b[43moperation_name\u001b[49m\u001b[43m,\u001b[49m\n\u001b[1;32m    853\u001b[0m \u001b[43m    \u001b[49m\u001b[43mserialize_variables\u001b[49m\u001b[38;5;241;43m=\u001b[39;49m\u001b[43mserialize_variables\u001b[49m\u001b[43m,\u001b[49m\n\u001b[1;32m    854\u001b[0m \u001b[43m    \u001b[49m\u001b[43mparse_result\u001b[49m\u001b[38;5;241;43m=\u001b[39;49m\u001b[43mparse_result\u001b[49m\u001b[43m,\u001b[49m\n\u001b[1;32m    855\u001b[0m \u001b[43m    \u001b[49m\u001b[38;5;241;43m*\u001b[39;49m\u001b[38;5;241;43m*\u001b[39;49m\u001b[43mkwargs\u001b[49m\u001b[43m,\u001b[49m\n\u001b[1;32m    856\u001b[0m \u001b[43m\u001b[49m\u001b[43m)\u001b[49m\n\u001b[1;32m    858\u001b[0m \u001b[38;5;66;03m# Raise an error if an error is returned in the ExecutionResult object\u001b[39;00m\n\u001b[1;32m    859\u001b[0m \u001b[38;5;28;01mif\u001b[39;00m result\u001b[38;5;241m.\u001b[39merrors:\n",
      "File \u001b[0;32m~/omnikeeper-client-python/.venv/lib/python3.10/site-packages/gql/client.py:744\u001b[0m, in \u001b[0;36mSyncClientSession._execute\u001b[0;34m(self, document, variable_values, operation_name, serialize_variables, parse_result, **kwargs)\u001b[0m\n\u001b[1;32m    742\u001b[0m \u001b[38;5;66;03m# Validate document\u001b[39;00m\n\u001b[1;32m    743\u001b[0m \u001b[38;5;28;01mif\u001b[39;00m \u001b[38;5;28mself\u001b[39m\u001b[38;5;241m.\u001b[39mclient\u001b[38;5;241m.\u001b[39mschema:\n\u001b[0;32m--> 744\u001b[0m     \u001b[38;5;28;43mself\u001b[39;49m\u001b[38;5;241;43m.\u001b[39;49m\u001b[43mclient\u001b[49m\u001b[38;5;241;43m.\u001b[39;49m\u001b[43mvalidate\u001b[49m\u001b[43m(\u001b[49m\u001b[43mdocument\u001b[49m\u001b[43m)\u001b[49m\n\u001b[1;32m    746\u001b[0m     \u001b[38;5;66;03m# Parse variable values for custom scalars if requested\u001b[39;00m\n\u001b[1;32m    747\u001b[0m     \u001b[38;5;28;01mif\u001b[39;00m variable_values \u001b[38;5;129;01mis\u001b[39;00m \u001b[38;5;129;01mnot\u001b[39;00m \u001b[38;5;28;01mNone\u001b[39;00m:\n",
      "File \u001b[0;32m~/omnikeeper-client-python/.venv/lib/python3.10/site-packages/gql/client.py:149\u001b[0m, in \u001b[0;36mClient.validate\u001b[0;34m(self, document)\u001b[0m\n\u001b[1;32m    147\u001b[0m validation_errors \u001b[38;5;241m=\u001b[39m validate(\u001b[38;5;28mself\u001b[39m\u001b[38;5;241m.\u001b[39mschema, document)\n\u001b[1;32m    148\u001b[0m \u001b[38;5;28;01mif\u001b[39;00m validation_errors:\n\u001b[0;32m--> 149\u001b[0m     \u001b[38;5;28;01mraise\u001b[39;00m validation_errors[\u001b[38;5;241m0\u001b[39m]\n",
      "\u001b[0;31mGraphQLError\u001b[0m: Unknown type 'GuidGraphType'.\n\nGraphQL request:2:124\n2 |         mutation($readLayers: [String]!, $writeLayer: String!, $input: [TE_Upser\n  | t_Relations_Only_Input]!, $relevantCIIDs: [GuidGraphType]!) {\n  |                                            ^"
     ]
    }
   ],
   "source": [
    "okc.bulk_replace_traitentity_relations(okapiclient, host_trait_id, \"has_interface\", \n",
    "                                       input=[{'baseCIID': '236da01f-9abd-4d9d-80c7-02af85c822a8', 'relatedCIIDs': ['736da01f-9abd-4d9d-80c7-02af85c822a8', '936da01f-9abd-4d9d-80c7-02af85c822a8']}], \n",
    "                                       relevant_ciids=['136DA01F-9ABD-4D9D-80C7-02AF85C822A8', '236DA01F-9ABD-4D9D-80C7-02AF85C822A8'], write_layer=layer_id)\n",
    "has_interface_relations = okc.get_all_traitentity_relations(okapiclient, trait_id=host_trait_id, traitrelation_id=\"has_interface\", layers=[layer_id])\n",
    "has_interface_relations"
   ]
  },
  {
   "cell_type": "code",
   "execution_count": null,
   "metadata": {},
   "outputs": [
    {
     "data": {
      "text/plain": [
       "True"
      ]
     },
     "execution_count": 14,
     "metadata": {},
     "output_type": "execute_result"
    }
   ],
   "source": [
    "# cleanup\n",
    "okc.delete_trait(okapiclient, host_trait_id)\n",
    "okc.delete_trait(okapiclient, interface_trait_id)\n",
    "okc.truncate_layer(okapiclient, layer_id)"
   ]
  }
 ],
 "metadata": {
  "kernelspec": {
   "display_name": ".venv",
   "language": "python",
   "name": "python3"
  },
  "language_info": {
   "codemirror_mode": {
    "name": "ipython",
    "version": 3
   },
   "file_extension": ".py",
   "mimetype": "text/x-python",
   "name": "python",
   "nbconvert_exporter": "python",
   "pygments_lexer": "ipython3",
   "version": "3.10.6"
  }
 },
 "nbformat": 4,
 "nbformat_minor": 2
}
