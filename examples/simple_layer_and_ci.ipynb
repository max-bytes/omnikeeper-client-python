{
 "cells": [
  {
   "cell_type": "markdown",
   "metadata": {},
   "source": [
    "# Simple Layer and CI Operations"
   ]
  },
  {
   "cell_type": "code",
   "execution_count": 4,
   "metadata": {},
   "outputs": [],
   "source": [
    "import os\n",
    "import omnikeeper_client as okc"
   ]
  },
  {
   "cell_type": "markdown",
   "metadata": {},
   "source": [
    "create a omnikeeper client\n"
   ]
  },
  {
   "cell_type": "code",
   "execution_count": 5,
   "metadata": {},
   "outputs": [],
   "source": [
    "okapiclient = okc.OkApiClient(\n",
    "    backend_url=os.getenv('OMNIKEEPER_URL'),\n",
    "    client_id=os.getenv('OMNIKEEPER_AUTH_CLIENTID'),\n",
    "    username=os.getenv('OMNIKEEPER_AUTH_USERNAME'),\n",
    "    password=os.getenv('OMNIKEEPER_AUTH_PASSWORD'),\n",
    ")"
   ]
  },
  {
   "cell_type": "markdown",
   "metadata": {},
   "source": [
    "now create a layer for holding our attributes:\n",
    "- create/name it\n",
    "- set description and color it\n",
    "- clear all data from layer (if it already exists)\n",
    "\n",
    "those steps are idempotent since we use upsert and create_layer does not throw an error if it already existed\n"
   ]
  },
  {
   "cell_type": "code",
   "execution_count": 6,
   "metadata": {},
   "outputs": [
    {
     "name": "stdout",
     "output_type": "stream",
     "text": [
      "create layer ok: True\n",
      "update layer ok: True\n",
      "truncate layer ok: True\n"
     ]
    }
   ],
   "source": [
    "target_layer = \"testlayer_ng\"\n",
    "\n",
    "# create layer, if it does not exist and set layer data\n",
    "result = okc.create_layer(okapiclient, target_layer)\n",
    "print(f\"create layer ok: {result}\")\n",
    "\n",
    "# set description and color of layer\n",
    "result = okc.update_layerdata(okapiclient, target_layer, \"description done with ng functions\", okc.hexString2RGBColor(\"#353973\"))\n",
    "print(f\"update layer ok: {result}\")\n",
    "\n",
    "# # empty layer, if anything is inside\n",
    "result = okc.truncate_layer(okapiclient, target_layer)\n",
    "print(f\"truncate layer ok: {result}\")\n"
   ]
  },
  {
   "cell_type": "markdown",
   "metadata": {},
   "source": [
    "create a named CI and store attributes to it"
   ]
  },
  {
   "cell_type": "code",
   "execution_count": 7,
   "metadata": {},
   "outputs": [
    {
     "name": "stdout",
     "output_type": "stream",
     "text": [
      "CI id=1ce49584-d0ca-4f93-a2e6-d931d151aa58 created\n"
     ]
    }
   ],
   "source": [
    "# create a single CI with a name attribute\n",
    "ciid1 = okc.create_ci(okapiclient, \"test-ci11\", target_layer)\n",
    "print (f\"CI id={ciid1} created\")"
   ]
  },
  {
   "cell_type": "code",
   "execution_count": 21,
   "metadata": {},
   "outputs": [
    {
     "data": {
      "text/plain": [
       "{'mutateCIs': {'affectedCIs': [{'id': '1ce49584-d0ca-4f93-a2e6-d931d151aa58'}]}}"
      ]
     },
     "execution_count": 21,
     "metadata": {},
     "output_type": "execute_result"
    }
   ],
   "source": [
    "# insert/update some attributes\n",
    "python_native_attributes = {\n",
    "    \"author\": \"Markus Hof\",\n",
    "}\n",
    "\n",
    "okc.mutate_ci(okapiclient, target_layer, ciid1, python_native_attributes)"
   ]
  },
  {
   "cell_type": "code",
   "execution_count": 22,
   "metadata": {},
   "outputs": [
    {
     "name": "stdout",
     "output_type": "stream",
     "text": [
      "{'message': \"Variable '$insertAttributes[1].value.values[0]' is invalid. Unable to convert 'True' to 'String'\", 'locations': [{'line': 1, 'column': 57}], 'exception': \"System.InvalidOperationException: Unable to convert 'True' to the scalar type 'String'\\n   at GraphQL.Types.ScalarGraphType.ThrowValueConversionError(Object value) in /_/src/GraphQL/Types/Scalars/ScalarGraphType.cs:line 235\\n   at GraphQL.Types.StringGraphType.ParseValue(Object value) in /_/src/GraphQL/Types/Scalars/StringGraphType.cs:line 23\\n   at GraphQL.Validation.ValidationContext.<GetVariableValueAsync>g__ParseValueScalar|57_1(ScalarGraphType scalarGraphType, GraphQLVariableDefinition variableDef, VariableName variableName, Object value) in /_/src/GraphQL/Validation/ValidationContext.cs:line 266\"}\n"
     ]
    },
    {
     "data": {
      "text/plain": [
       "False"
      ]
     },
     "execution_count": 22,
     "metadata": {},
     "output_type": "execute_result"
    }
   ],
   "source": [
    "# TODO mcsuk this does not work!\n",
    "# insert/update some attributes\n",
    "python_native_attributes = {\n",
    "    \"author\": \"Maximilian Csuk\",\n",
    "    \"is_this_good\": True,\n",
    "}\n",
    "\n",
    "okc.mutate_ci(okapiclient, target_layer, ciid1, python_native_attributes)\n"
   ]
  },
  {
   "cell_type": "markdown",
   "metadata": {},
   "source": [
    "This CI should appear now in technical interface, mutate it there and check your modified attributes using this code:"
   ]
  },
  {
   "cell_type": "code",
   "execution_count": 23,
   "metadata": {},
   "outputs": [
    {
     "data": {
      "text/plain": [
       "{'1ce49584-d0ca-4f93-a2e6-d931d151aa58': {'__name': 'test-ci11',\n",
       "  'author': 'Markus Hof'}}"
      ]
     },
     "execution_count": 23,
     "metadata": {},
     "output_type": "execute_result"
    }
   ],
   "source": [
    "okc.get_attributes_of_cis(okapiclient, [target_layer], [ciid1])\n",
    "\n"
   ]
  }
 ],
 "metadata": {
  "kernelspec": {
   "display_name": ".venv",
   "language": "python",
   "name": "python3"
  },
  "language_info": {
   "codemirror_mode": {
    "name": "ipython",
    "version": 3
   },
   "file_extension": ".py",
   "mimetype": "text/x-python",
   "name": "python",
   "nbconvert_exporter": "python",
   "pygments_lexer": "ipython3",
   "version": "3.8.10"
  }
 },
 "nbformat": 4,
 "nbformat_minor": 2
}
