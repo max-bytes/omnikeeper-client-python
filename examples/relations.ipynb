{
 "cells": [
  {
   "cell_type": "code",
   "execution_count": 1,
   "metadata": {},
   "outputs": [],
   "source": [
    "import os\n",
    "import omnikeeper_client as okc\n",
    "from omnikeeper_client import TraitDefinition, TraitAttributeDefinition, TraitRelationDefinition, ATTRIBUTETYPE_TEXT, ATTRIBUTETYPE_INTEGER\n",
    "import pandas as pd"
   ]
  },
  {
   "cell_type": "code",
   "execution_count": 2,
   "metadata": {},
   "outputs": [],
   "source": [
    "trait_name = \"python_client_demo.relations_v1\"\n",
    "layer_name = \"relations\""
   ]
  },
  {
   "cell_type": "code",
   "execution_count": 4,
   "metadata": {},
   "outputs": [],
   "source": [
    "okapiclient = okc.OkApiClient(\n",
    "    backend_url=os.getenv('OMNIKEEPER_URL'),\n",
    "    client_id=os.getenv('OMNIKEEPER_AUTH_CLIENTID'),\n",
    "    username=os.getenv('OMNIKEEPER_AUTH_USERNAME'),\n",
    "    password=os.getenv('OMNIKEEPER_AUTH_PASSWORD'),\n",
    ")"
   ]
  },
  {
   "cell_type": "code",
   "execution_count": null,
   "metadata": {},
   "outputs": [],
   "source": [
    "# TODO fix the trait deffinition\n",
    "okc.upsert_trait(okapiclient, TraitDefinition(trait_name, [\n",
    "        TraitAttributeDefinition(\"id\", \"test.id\", ATTRIBUTETYPE_TEXT),\n",
    "        TraitRelationDefinition(\"id\", \"has_host\")\n",
    "      ]))"
   ]
  },
  {
   "cell_type": "markdown",
   "metadata": {},
   "source": [
    "Fetch all trait entities from the specified layer"
   ]
  },
  {
   "cell_type": "code",
   "execution_count": 5,
   "metadata": {},
   "outputs": [
    {
     "data": {
      "text/plain": [
       "[{'ciid': 'c66142fb-e56b-48ea-8165-edbe7cb2a7bf', 'id': 'A'},\n",
       " {'ciid': '35f2f0f9-592e-45e4-b388-55e68f0f3951', 'id': 'B'}]"
      ]
     },
     "execution_count": 5,
     "metadata": {},
     "output_type": "execute_result"
    }
   ],
   "source": [
    "all_traitentities = okc.get_all_traitentities_list(okapiclient, trait_name=trait_name, layers=[layer_name])\n",
    "all_traitentities"
   ]
  },
  {
   "cell_type": "markdown",
   "metadata": {},
   "source": [
    "Fetch all trait relations from the specified layer, in the result we will have the related ci ids"
   ]
  },
  {
   "cell_type": "code",
   "execution_count": 6,
   "metadata": {},
   "outputs": [
    {
     "data": {
      "text/plain": [
       "[{'base_ciid': 'c66142fb-e56b-48ea-8165-edbe7cb2a7bf',\n",
       "  'related_ciids': ['35f2f0f9-592e-45e4-b388-55e68f0f3951']},\n",
       " {'base_ciid': '35f2f0f9-592e-45e4-b388-55e68f0f3951', 'related_ciids': []}]"
      ]
     },
     "execution_count": 6,
     "metadata": {},
     "output_type": "execute_result"
    }
   ],
   "source": [
    "all_trait_relations = okc.get_trait_relation(okapiclient, trait_name=trait_name, relation_name=\"has_host\", layers=[layer_name])\n",
    "all_trait_relations"
   ]
  },
  {
   "cell_type": "markdown",
   "metadata": {},
   "source": [
    "Now get all trait entities with realtions, in the result each dictionary will include also a key with a list of all related cis"
   ]
  },
  {
   "cell_type": "code",
   "execution_count": 7,
   "metadata": {},
   "outputs": [
    {
     "data": {
      "text/plain": [
       "[{'ciid': 'c66142fb-e56b-48ea-8165-edbe7cb2a7bf',\n",
       "  'id': 'A',\n",
       "  'related_ciis': [{'ciid': '35f2f0f9-592e-45e4-b388-55e68f0f3951',\n",
       "    'id': 'B'}]},\n",
       " {'ciid': '35f2f0f9-592e-45e4-b388-55e68f0f3951',\n",
       "  'id': 'B',\n",
       "  'related_ciis': []}]"
      ]
     },
     "execution_count": 7,
     "metadata": {},
     "output_type": "execute_result"
    }
   ],
   "source": [
    "all_traitentities_with_relations = okc.get_traitentities_with_relations_list(okapiclient, trait_name=trait_name, relation_name=\"has_host\", layers=[layer_name])\n",
    "all_traitentities_with_relations"
   ]
  },
  {
   "cell_type": "markdown",
   "metadata": {},
   "source": [
    "The result could easily be converted into a pandas dataframe"
   ]
  },
  {
   "cell_type": "code",
   "execution_count": 10,
   "metadata": {},
   "outputs": [
    {
     "data": {
      "text/html": [
       "<div>\n",
       "<style scoped>\n",
       "    .dataframe tbody tr th:only-of-type {\n",
       "        vertical-align: middle;\n",
       "    }\n",
       "\n",
       "    .dataframe tbody tr th {\n",
       "        vertical-align: top;\n",
       "    }\n",
       "\n",
       "    .dataframe thead th {\n",
       "        text-align: right;\n",
       "    }\n",
       "</style>\n",
       "<table border=\"1\" class=\"dataframe\">\n",
       "  <thead>\n",
       "    <tr style=\"text-align: right;\">\n",
       "      <th></th>\n",
       "      <th>ciid</th>\n",
       "      <th>id</th>\n",
       "      <th>related_ciis</th>\n",
       "    </tr>\n",
       "  </thead>\n",
       "  <tbody>\n",
       "    <tr>\n",
       "      <th>0</th>\n",
       "      <td>c66142fb-e56b-48ea-8165-edbe7cb2a7bf</td>\n",
       "      <td>A</td>\n",
       "      <td>[{'ciid': '35f2f0f9-592e-45e4-b388-55e68f0f395...</td>\n",
       "    </tr>\n",
       "    <tr>\n",
       "      <th>1</th>\n",
       "      <td>35f2f0f9-592e-45e4-b388-55e68f0f3951</td>\n",
       "      <td>B</td>\n",
       "      <td>[]</td>\n",
       "    </tr>\n",
       "  </tbody>\n",
       "</table>\n",
       "</div>"
      ],
      "text/plain": [
       "                                   ciid id  \\\n",
       "0  c66142fb-e56b-48ea-8165-edbe7cb2a7bf  A   \n",
       "1  35f2f0f9-592e-45e4-b388-55e68f0f3951  B   \n",
       "\n",
       "                                        related_ciis  \n",
       "0  [{'ciid': '35f2f0f9-592e-45e4-b388-55e68f0f395...  \n",
       "1                                                 []  "
      ]
     },
     "execution_count": 10,
     "metadata": {},
     "output_type": "execute_result"
    }
   ],
   "source": [
    "all_traitentities_with_relations_df = pd.DataFrame(all_traitentities_with_relations)\n",
    "all_traitentities_with_relations_df"
   ]
  },
  {
   "cell_type": "code",
   "execution_count": 9,
   "metadata": {},
   "outputs": [
    {
     "data": {
      "text/plain": [
       "[{'ciid': '35f2f0f9-592e-45e4-b388-55e68f0f3951', 'id': 'B'}]"
      ]
     },
     "execution_count": 9,
     "metadata": {},
     "output_type": "execute_result"
    }
   ],
   "source": [
    "all_traitentities_with_relations_df['related_ciis'][0]"
   ]
  },
  {
   "cell_type": "markdown",
   "metadata": {},
   "source": [
    "TODO add examples on how to merged data using pandas dataframe"
   ]
  }
 ],
 "metadata": {
  "kernelspec": {
   "display_name": ".venv",
   "language": "python",
   "name": "python3"
  },
  "language_info": {
   "codemirror_mode": {
    "name": "ipython",
    "version": 3
   },
   "file_extension": ".py",
   "mimetype": "text/x-python",
   "name": "python",
   "nbconvert_exporter": "python",
   "pygments_lexer": "ipython3",
   "version": "3.12.0"
  }
 },
 "nbformat": 4,
 "nbformat_minor": 2
}
