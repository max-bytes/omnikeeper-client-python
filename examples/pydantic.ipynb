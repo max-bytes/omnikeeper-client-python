{
 "cells": [
  {
   "cell_type": "markdown",
   "metadata": {},
   "source": [
    "# Demonstrate Interaction of pydantic and omnikeeper"
   ]
  },
  {
   "cell_type": "code",
   "execution_count": 1,
   "metadata": {},
   "outputs": [],
   "source": [
    "import os\n",
    "import omnikeeper_client as okc\n",
    "from omnikeeper_client import TraitDefinition, TraitAttributeDefinition, ATTRIBUTETYPE_TEXT, ATTRIBUTETYPE_INTEGER\n",
    "import uuid\n",
    "from pydantic import BaseModel,TypeAdapter\n",
    "from typing_extensions import Annotated\n",
    "from typing import List"
   ]
  },
  {
   "cell_type": "code",
   "execution_count": 2,
   "metadata": {},
   "outputs": [],
   "source": [
    "trait_id = \"python_client_demo.test\"\n",
    "layer_id = \"testlayer\""
   ]
  },
  {
   "cell_type": "markdown",
   "metadata": {},
   "source": [
    "create a omnikeeper client"
   ]
  },
  {
   "cell_type": "code",
   "execution_count": 3,
   "metadata": {},
   "outputs": [],
   "source": [
    "okapiclient = okc.OkApiClient(\n",
    "    backend_url=os.getenv('OMNIKEEPER_URL'),\n",
    "    client_id=os.getenv('OMNIKEEPER_AUTH_CLIENTID'),\n",
    "    username=os.getenv('OMNIKEEPER_AUTH_USERNAME'),\n",
    "    password=os.getenv('OMNIKEEPER_AUTH_PASSWORD'),\n",
    ")"
   ]
  },
  {
   "cell_type": "markdown",
   "metadata": {},
   "source": [
    "ensure trait exists"
   ]
  },
  {
   "cell_type": "code",
   "execution_count": 4,
   "metadata": {},
   "outputs": [],
   "source": [
    "ret = okc.upsert_trait(okapiclient, TraitDefinition(trait_id, [\n",
    "        TraitAttributeDefinition(\"id\", \"test.id\", ATTRIBUTETYPE_INTEGER),\n",
    "        TraitAttributeDefinition(\"array\", \"test.array\", ATTRIBUTETYPE_TEXT, is_array=True),\n",
    "        TraitAttributeDefinition(\"some_key\", \"test.mapped_some_key\", ATTRIBUTETYPE_TEXT),\n",
    "      ]))\n",
    "assert(ret)"
   ]
  },
  {
   "cell_type": "markdown",
   "metadata": {},
   "source": [
    "ensure layer exists"
   ]
  },
  {
   "cell_type": "code",
   "execution_count": 5,
   "metadata": {},
   "outputs": [],
   "source": [
    "ret = okc.create_layer(okapiclient, layer_id, \"just a test layer\", okc.hex_string_to_rgb_color(\"#6666FF\"))\n",
    "assert(ret)"
   ]
  },
  {
   "cell_type": "markdown",
   "metadata": {},
   "source": [
    "Define pydantic class, same as trait, with the addition of a ciid field"
   ]
  },
  {
   "cell_type": "code",
   "execution_count": 6,
   "metadata": {},
   "outputs": [],
   "source": [
    "class Test(BaseModel):\n",
    "    ciid: okc.SerializableUUID # this is the short form for an annotated UUID field that is properly serializable to a string\n",
    "    id: int\n",
    "    array: List[str]\n",
    "    some_key: str"
   ]
  },
  {
   "cell_type": "markdown",
   "metadata": {},
   "source": [
    "Init data"
   ]
  },
  {
   "cell_type": "code",
   "execution_count": 7,
   "metadata": {},
   "outputs": [
    {
     "data": {
      "text/plain": [
       "[Test(ciid=UUID('fe248e86-0faa-4855-97ed-4384c7a2dcb7'), id=1, array=['a', 'b'], some_key='Value 1'),\n",
       " Test(ciid=UUID('8a7cc373-9bba-437d-8031-d5b5a2593de4'), id=3, array=['c', 'd'], some_key='another Value')]"
      ]
     },
     "execution_count": 7,
     "metadata": {},
     "output_type": "execute_result"
    }
   ],
   "source": [
    "data_init = [\n",
    "    Test(ciid=uuid.uuid4(), id=1, array=[\"a\", \"b\"], some_key=\"Value 1\"), # create our own ciids, uuid4 is recommended\n",
    "    Test(ciid=uuid.uuid4(), id=3, array=[\"c\", \"d\"], some_key=\"another Value\"),\n",
    "]\n",
    "data_init"
   ]
  },
  {
   "cell_type": "markdown",
   "metadata": {},
   "source": [
    "Write data to omnikeeper"
   ]
  },
  {
   "cell_type": "code",
   "execution_count": 8,
   "metadata": {},
   "outputs": [],
   "source": [
    "ret = okc.bulk_replace_trait_entities_pydantic(okapiclient, trait_name=trait_id, input=data_init, write_layer=layer_id)\n",
    "assert(ret)"
   ]
  },
  {
   "cell_type": "markdown",
   "metadata": {},
   "source": [
    "Read data back from omnikeeper, should be the same"
   ]
  },
  {
   "cell_type": "code",
   "execution_count": 9,
   "metadata": {},
   "outputs": [
    {
     "data": {
      "text/plain": [
       "[Test(ciid=UUID('8a7cc373-9bba-437d-8031-d5b5a2593de4'), id=3, array=['c', 'd'], some_key='another Value'),\n",
       " Test(ciid=UUID('fe248e86-0faa-4855-97ed-4384c7a2dcb7'), id=1, array=['a', 'b'], some_key='Value 1')]"
      ]
     },
     "execution_count": 9,
     "metadata": {},
     "output_type": "execute_result"
    }
   ],
   "source": [
    "m = okc.get_all_traitentities_pydantic(okapiclient, trait_name=trait_id, ta=TypeAdapter(List[Test]), layers=[layer_id])\n",
    "m"
   ]
  },
  {
   "cell_type": "markdown",
   "metadata": {},
   "source": [
    "Change some data locally"
   ]
  },
  {
   "cell_type": "code",
   "execution_count": 10,
   "metadata": {},
   "outputs": [],
   "source": [
    "m[0].array=['x', 'y']"
   ]
  },
  {
   "cell_type": "markdown",
   "metadata": {},
   "source": [
    "Write it to omnikeeper and read it again"
   ]
  },
  {
   "cell_type": "code",
   "execution_count": 11,
   "metadata": {},
   "outputs": [
    {
     "data": {
      "text/plain": [
       "[Test(ciid=UUID('8a7cc373-9bba-437d-8031-d5b5a2593de4'), id=3, array=['x', 'y'], some_key='another Value'),\n",
       " Test(ciid=UUID('fe248e86-0faa-4855-97ed-4384c7a2dcb7'), id=1, array=['a', 'b'], some_key='Value 1')]"
      ]
     },
     "execution_count": 11,
     "metadata": {},
     "output_type": "execute_result"
    }
   ],
   "source": [
    "ret = okc.bulk_replace_trait_entities_pydantic(okapiclient, trait_name=trait_id, input=m, write_layer=layer_id)\n",
    "assert(ret)\n",
    "m = okc.get_all_traitentities_pydantic(okapiclient, trait_name=trait_id, ta=TypeAdapter(List[Test]), layers=[layer_id])\n",
    "m"
   ]
  },
  {
   "cell_type": "markdown",
   "metadata": {},
   "source": [
    "## ideas section"
   ]
  },
  {
   "cell_type": "code",
   "execution_count": 12,
   "metadata": {},
   "outputs": [],
   "source": [
    "# idea for pydantic-model-first generation of ok trait:\n",
    "# use field annotations to add information necessary to build trait out of model/class\n",
    "class AnnotatedTest(BaseModel): \n",
    "    ciid: okc.SerializableUUID\n",
    "    id: Annotated[int, okc.AttributeName(\"test.id\")]\n",
    "    array: Annotated[List[str], okc.AttributeName(\"test.array\")] # array is inferred automatically\n",
    "    some_key: Annotated[str, okc.AttributeName(\"test.mapped_some_key\"), okc.TypeHint(ATTRIBUTETYPE_TEXT, is_array=False)] # OKTypeHint would not be necessary, but just as an example \n",
    "    optional_field: Annotated[int, okc.AttributeName(\"test.optional_field\"), okc.AttributeOptional()] # optional attribute\n",
    "# TODO: can we also annotate the class itself and add the ok trait name? Or some otherway?\n",
    "\n",
    "# then you could tell omnikeeper about our trait by just passing the class:\n",
    "# okc.upsert_trait_from_pydantic_model(okapiclient, trait_id, AnnotatedTest)"
   ]
  },
  {
   "cell_type": "code",
   "execution_count": 13,
   "metadata": {},
   "outputs": [],
   "source": [
    "# idea for ensuring pydantic model and ok trait are in sync\n",
    "\n",
    "# okc.check_pydantic_model_ok_trait_synced(trait_id, Test)\n",
    "\n",
    "# would return bool whether in sync or not -> likely throw error if not"
   ]
  },
  {
   "cell_type": "code",
   "execution_count": 14,
   "metadata": {},
   "outputs": [],
   "source": [
    "# relations\n",
    "# relations are hard :(\n",
    "# relations are the reason ORMs are complex, and I don't want to build an ORM\n",
    "# try to stay lower level\n",
    "# give user more control\n",
    "# make relation loading and saving explicit"
   ]
  }
 ],
 "metadata": {
  "kernelspec": {
   "display_name": ".venv",
   "language": "python",
   "name": "python3"
  },
  "language_info": {
   "codemirror_mode": {
    "name": "ipython",
    "version": 3
   },
   "file_extension": ".py",
   "mimetype": "text/x-python",
   "name": "python",
   "nbconvert_exporter": "python",
   "pygments_lexer": "ipython3",
   "version": "3.10.6"
  }
 },
 "nbformat": 4,
 "nbformat_minor": 2
}
