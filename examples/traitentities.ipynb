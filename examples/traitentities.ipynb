{
 "cells": [
  {
   "cell_type": "code",
   "execution_count": 18,
   "metadata": {},
   "outputs": [],
   "source": [
    "import os\n",
    "import omnikeeper_client as okc\n",
    "import uuid\n",
    "from dotenv import load_dotenv"
   ]
  },
  {
   "cell_type": "code",
   "execution_count": 4,
   "metadata": {},
   "outputs": [
    {
     "data": {
      "text/plain": [
       "True"
      ]
     },
     "execution_count": 4,
     "metadata": {},
     "output_type": "execute_result"
    }
   ],
   "source": [
    "load_dotenv('../.env.sample')"
   ]
  },
  {
   "cell_type": "code",
   "execution_count": 2,
   "metadata": {},
   "outputs": [],
   "source": [
    "%load_ext autoreload\n",
    "%autoreload 2"
   ]
  },
  {
   "cell_type": "code",
   "execution_count": 3,
   "metadata": {},
   "outputs": [],
   "source": [
    "trait_name = \"python_client_demo.test\"\n",
    "layer_name = \"testlayer\""
   ]
  },
  {
   "cell_type": "markdown",
   "metadata": {},
   "source": [
    "create a omnikeeper client"
   ]
  },
  {
   "cell_type": "code",
   "execution_count": 5,
   "metadata": {},
   "outputs": [],
   "source": [
    "okapiclient = okc.OkApiClient(\n",
    "    backend_url=os.getenv('OMNIKEEPER_URL'),\n",
    "    client_id=os.getenv('OMNIKEEPER_AUTH_CLIENTID'),\n",
    "    username=os.getenv('OMNIKEEPER_AUTH_USERNAME'),\n",
    "    password=os.getenv('OMNIKEEPER_AUTH_PASSWORD'),\n",
    ")"
   ]
  },
  {
   "cell_type": "markdown",
   "metadata": {},
   "source": [
    "Create the input data in format of **input : List[Dict[str,Any]]**"
   ]
  },
  {
   "cell_type": "code",
   "execution_count": 8,
   "metadata": {},
   "outputs": [
    {
     "data": {
      "text/plain": [
       "[{'id': 1, 'array': ['a', 'b'], 'some_key': 'Value 1'},\n",
       " {'id': 3, 'array': ['c', 'd'], 'some_key': 'another Value'}]"
      ]
     },
     "execution_count": 8,
     "metadata": {},
     "output_type": "execute_result"
    }
   ],
   "source": [
    "initial_data = [\n",
    "    {\"id\": 1, \"array\": [\"a\", \"b\"], \"some_key\": \"Value 1\"},\n",
    "    {\"id\": 3, \"array\": [\"c\", \"d\"], \"some_key\": \"another Value\"},\n",
    "]\n",
    "initial_data"
   ]
  },
  {
   "cell_type": "markdown",
   "metadata": {},
   "source": [
    "write data to layer ``testlayer``"
   ]
  },
  {
   "cell_type": "code",
   "execution_count": 16,
   "metadata": {},
   "outputs": [
    {
     "data": {
      "text/plain": [
       "True"
      ]
     },
     "execution_count": 16,
     "metadata": {},
     "output_type": "execute_result"
    }
   ],
   "source": [
    "# simple_traits.bulk_replace(client, trait_name=trait_name, input=df_init, id_attributes=[\"id\"], id_relations=[], write_layer=layer_name, filter={})\n",
    "\n",
    "okc.bulk_replace_trait_entities_by_filter(okapiclient, trait_name=trait_name, input=initial_data, id_attributes=[\"id\"], id_relations=[], write_layer=layer_name, filter={})"
   ]
  },
  {
   "cell_type": "markdown",
   "metadata": {},
   "source": [
    "load data again from omnikeeper"
   ]
  },
  {
   "cell_type": "code",
   "execution_count": 32,
   "metadata": {},
   "outputs": [
    {
     "data": {
      "text/plain": [
       "[{'ciid': '7a443a87-c755-462d-a4ea-023fa16f8740',\n",
       "  'id': 1,\n",
       "  'array': ['a', 'b'],\n",
       "  'some_key': 'Value 1'},\n",
       " {'ciid': 'ce9b4f20-5c55-40da-a421-0517ed17459a',\n",
       "  'id': 3,\n",
       "  'array': ['c', 'd'],\n",
       "  'some_key': 'another Value'}]"
      ]
     },
     "execution_count": 32,
     "metadata": {},
     "output_type": "execute_result"
    }
   ],
   "source": [
    "# df_work = simple_traits.get_all(client, trait_name=trait_name, layers=[layer_name])\n",
    "\n",
    "updated_data = okc.get_all_traitentities(okapiclient, trait_name=trait_name, layers=[layer_name])\n",
    "updated_data"
   ]
  },
  {
   "cell_type": "markdown",
   "metadata": {},
   "source": [
    "modify the fetched traitentities"
   ]
  },
  {
   "cell_type": "code",
   "execution_count": 33,
   "metadata": {},
   "outputs": [
    {
     "data": {
      "text/plain": [
       "[{'ciid': '7a443a87-c755-462d-a4ea-023fa16f8740',\n",
       "  'id': 1,\n",
       "  'array': ['a', 'b', 'z'],\n",
       "  'some_key': 'Value 1'},\n",
       " {'ciid': '5e45f0f9-430e-4cd5-94f4-b1f56da53b98',\n",
       "  'id': 4,\n",
       "  'array': ['x'],\n",
       "  'some_key': 'the new guy'}]"
      ]
     },
     "execution_count": 33,
     "metadata": {},
     "output_type": "execute_result"
    }
   ],
   "source": [
    "# change things in the returned data\n",
    "# change single value of existing data\n",
    "updated_data[0][\"array\"] = [\"a\", \"b\", \"z\"]\n",
    "\n",
    "# add a new row, using our own created CIID\n",
    "updated_data.append({\"ciid\": str(uuid.uuid4()), \"id\": 4, \"array\": [\"x\"], \"some_key\": \"the new guy\"})\n",
    "\n",
    "# drop a row\n",
    "updated_data.pop(1)\n",
    "updated_data"
   ]
  },
  {
   "cell_type": "markdown",
   "metadata": {},
   "source": [
    "write it back"
   ]
  },
  {
   "cell_type": "code",
   "execution_count": 35,
   "metadata": {},
   "outputs": [
    {
     "data": {
      "text/plain": [
       "True"
      ]
     },
     "execution_count": 35,
     "metadata": {},
     "output_type": "execute_result"
    }
   ],
   "source": [
    "# simple_traits.set_all(client, trait_name=trait_name, input=df_work, write_layer=layer_name)\n",
    "\n",
    "okc.bulk_replace_trait_entities(okapiclient, trait_name=trait_name, input=updated_data, write_layer=layer_name)"
   ]
  },
  {
   "cell_type": "markdown",
   "metadata": {},
   "source": [
    "Fetch again the data"
   ]
  },
  {
   "cell_type": "code",
   "execution_count": 36,
   "metadata": {},
   "outputs": [
    {
     "data": {
      "text/plain": [
       "[{'ciid': '7a443a87-c755-462d-a4ea-023fa16f8740',\n",
       "  'id': 1,\n",
       "  'array': ['a', 'b', 'z'],\n",
       "  'some_key': 'Value 1'},\n",
       " {'ciid': '5e45f0f9-430e-4cd5-94f4-b1f56da53b98',\n",
       "  'id': 4,\n",
       "  'array': ['x'],\n",
       "  'some_key': 'the new guy'}]"
      ]
     },
     "execution_count": 36,
     "metadata": {},
     "output_type": "execute_result"
    }
   ],
   "source": [
    "# df_final = simple_traits.get_all(client, trait_name=trait_name, layers=[layer_name])\n",
    "\n",
    "final_data = okc.get_all_traitentities(okapiclient, trait_name=trait_name, layers=[layer_name])\n",
    "final_data"
   ]
  }
 ],
 "metadata": {
  "kernelspec": {
   "display_name": ".venv",
   "language": "python",
   "name": "python3"
  },
  "language_info": {
   "codemirror_mode": {
    "name": "ipython",
    "version": 3
   },
   "file_extension": ".py",
   "mimetype": "text/x-python",
   "name": "python",
   "nbconvert_exporter": "python",
   "pygments_lexer": "ipython3",
   "version": "3.8.10"
  }
 },
 "nbformat": 4,
 "nbformat_minor": 2
}
