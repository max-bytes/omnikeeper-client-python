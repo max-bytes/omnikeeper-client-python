{
 "cells": [
  {
   "cell_type": "markdown",
   "metadata": {},
   "source": [
    "## Demonstrate interactions with relations using omnikeeper"
   ]
  },
  {
   "cell_type": "code",
   "execution_count": 1,
   "metadata": {},
   "outputs": [],
   "source": [
    "import os\n",
    "import omnikeeper_client as okc\n",
    "from omnikeeper_client import TraitDefinition, TraitAttributeDefinition, TraitRelationDefinition, ATTRIBUTETYPE_TEXT, ATTRIBUTETYPE_INTEGER\n",
    "import pandas as pd"
   ]
  },
  {
   "cell_type": "markdown",
   "metadata": {},
   "source": [
    "As usual create the omnikeeper client"
   ]
  },
  {
   "cell_type": "code",
   "execution_count": 2,
   "metadata": {},
   "outputs": [],
   "source": [
    "okapiclient = okc.OkApiClient(\n",
    "    backend_url=os.getenv('OMNIKEEPER_URL'),\n",
    "    client_id=os.getenv('OMNIKEEPER_AUTH_CLIENTID'),\n",
    "    username=os.getenv('OMNIKEEPER_AUTH_USERNAME'),\n",
    "    password=os.getenv('OMNIKEEPER_AUTH_PASSWORD'),\n",
    ")"
   ]
  },
  {
   "cell_type": "markdown",
   "metadata": {},
   "source": [
    "Define the trait names and layer"
   ]
  },
  {
   "cell_type": "code",
   "execution_count": 3,
   "metadata": {},
   "outputs": [],
   "source": [
    "host_trait_name = \"python_client_demo.host\"\n",
    "interface_trait_name = \"python_client_demo.interface\"\n",
    "layer_name = \"relations\""
   ]
  },
  {
   "cell_type": "markdown",
   "metadata": {},
   "source": [
    "Make sure that traits are created correctly"
   ]
  },
  {
   "cell_type": "code",
   "execution_count": 4,
   "metadata": {},
   "outputs": [
    {
     "name": "stdout",
     "output_type": "stream",
     "text": [
      "True\n",
      "True\n"
     ]
    }
   ],
   "source": [
    "is_host_trait_created = okc.upsert_trait(okapiclient, TraitDefinition(host_trait_name, [\n",
    "        TraitAttributeDefinition(\"id\", \"host.id\", ATTRIBUTETYPE_INTEGER),\n",
    "      ], optional_relations = [\n",
    "        TraitRelationDefinition(identifier = \"has_interface\", predicate_id = \"has_interface\", direction_forward=True)\n",
    "      ]))\n",
    "print(is_host_trait_created)\n",
    "\n",
    "is_interface_trait_created = okc.upsert_trait(okapiclient, TraitDefinition(interface_trait_name, [\n",
    "        TraitAttributeDefinition(\"id\", \"interface.id\", ATTRIBUTETYPE_INTEGER),\n",
    "      ], optional_relations = [\n",
    "        TraitRelationDefinition(identifier = \"has_host\", predicate_id = \"has_host\", direction_forward=True)\n",
    "      ]))\n",
    "print(is_interface_trait_created)"
   ]
  },
  {
   "cell_type": "markdown",
   "metadata": {},
   "source": [
    "Create the host and interface CIs"
   ]
  },
  {
   "cell_type": "code",
   "execution_count": 5,
   "metadata": {},
   "outputs": [
    {
     "data": {
      "text/plain": [
       "UUID('92196245-6679-4295-b1dd-fb655286a5a4')"
      ]
     },
     "execution_count": 5,
     "metadata": {},
     "output_type": "execute_result"
    }
   ],
   "source": [
    "host_ci_id = okc.create_ci(okapiclient, \"Host A\", layer_name)\n",
    "host_ci_id"
   ]
  },
  {
   "cell_type": "markdown",
   "metadata": {},
   "source": [
    "Update created host ci, add host.id attribute"
   ]
  },
  {
   "cell_type": "code",
   "execution_count": 6,
   "metadata": {},
   "outputs": [
    {
     "data": {
      "text/plain": [
       "{'mutateCIs': {'affectedCIs': [{'id': '92196245-6679-4295-b1dd-fb655286a5a4'}]}}"
      ]
     },
     "execution_count": 6,
     "metadata": {},
     "output_type": "execute_result"
    }
   ],
   "source": [
    "host_attributes = {\n",
    "    \"host.id\": 1,\n",
    "}\n",
    "\n",
    "okc.mutate_ci(okapiclient, layer_name, host_ci_id, host_attributes)"
   ]
  },
  {
   "cell_type": "code",
   "execution_count": 7,
   "metadata": {},
   "outputs": [
    {
     "data": {
      "text/plain": [
       "UUID('cca0feea-986e-4ca9-90f4-e4e0575ddb96')"
      ]
     },
     "execution_count": 7,
     "metadata": {},
     "output_type": "execute_result"
    }
   ],
   "source": [
    "interface_ci_id = okc.create_ci(okapiclient, \"Interface A\", layer_name)\n",
    "interface_ci_id"
   ]
  },
  {
   "cell_type": "code",
   "execution_count": 8,
   "metadata": {},
   "outputs": [
    {
     "data": {
      "text/plain": [
       "{'mutateCIs': {'affectedCIs': [{'id': 'cca0feea-986e-4ca9-90f4-e4e0575ddb96'}]}}"
      ]
     },
     "execution_count": 8,
     "metadata": {},
     "output_type": "execute_result"
    }
   ],
   "source": [
    "interface_attributes = {\n",
    "    \"interface.id\": 1,\n",
    "}\n",
    "\n",
    "okc.mutate_ci(okapiclient, layer_name, interface_ci_id, interface_attributes)"
   ]
  },
  {
   "cell_type": "markdown",
   "metadata": {},
   "source": [
    "Create another interface ci"
   ]
  },
  {
   "cell_type": "code",
   "execution_count": 9,
   "metadata": {},
   "outputs": [
    {
     "data": {
      "text/plain": [
       "{'mutateCIs': {'affectedCIs': [{'id': '011f341e-7aff-43e6-82f4-1b2ed82b8e9e'}]}}"
      ]
     },
     "execution_count": 9,
     "metadata": {},
     "output_type": "execute_result"
    }
   ],
   "source": [
    "interface_ci_id_B = okc.create_ci(okapiclient, \"Interface B\", layer_name)\n",
    "interface_ci_id_B\n",
    "interface_attributes_B = {\n",
    "    \"interface.id\": 2,\n",
    "}\n",
    "okc.mutate_ci(okapiclient, layer_name, interface_ci_id_B, interface_attributes_B)"
   ]
  },
  {
   "cell_type": "markdown",
   "metadata": {},
   "source": [
    "Add host and interface relations using the created cis and okc"
   ]
  },
  {
   "cell_type": "code",
   "execution_count": 10,
   "metadata": {},
   "outputs": [
    {
     "data": {
      "text/plain": [
       "True"
      ]
     },
     "execution_count": 10,
     "metadata": {},
     "output_type": "execute_result"
    }
   ],
   "source": [
    "okc.add_trait_relations_by_ciid(okapiclient, host_trait_name, \"has_interface\", host_ci_id, [interface_ci_id, interface_ci_id_B], layer_name)"
   ]
  },
  {
   "cell_type": "code",
   "execution_count": 11,
   "metadata": {},
   "outputs": [
    {
     "data": {
      "text/plain": [
       "True"
      ]
     },
     "execution_count": 11,
     "metadata": {},
     "output_type": "execute_result"
    }
   ],
   "source": [
    "okc.add_trait_relations_by_ciid(okapiclient, interface_trait_name, \"has_host\", interface_ci_id, [host_ci_id], layer_name)\n",
    "okc.add_trait_relations_by_ciid(okapiclient, interface_trait_name, \"has_host\", interface_ci_id_B, [host_ci_id], layer_name)"
   ]
  },
  {
   "cell_type": "markdown",
   "metadata": {},
   "source": [
    "### Relations operations using lists"
   ]
  },
  {
   "cell_type": "markdown",
   "metadata": {},
   "source": [
    "Fetch hosts and interfaces from the specified layer"
   ]
  },
  {
   "cell_type": "code",
   "execution_count": 12,
   "metadata": {},
   "outputs": [
    {
     "data": {
      "text/plain": [
       "[{'ciid': '92196245-6679-4295-b1dd-fb655286a5a4', 'id': 1}]"
      ]
     },
     "execution_count": 12,
     "metadata": {},
     "output_type": "execute_result"
    }
   ],
   "source": [
    "hosts = okc.get_all_traitentities_list(okapiclient, trait_name=host_trait_name, layers=[layer_name])\n",
    "hosts"
   ]
  },
  {
   "cell_type": "code",
   "execution_count": 13,
   "metadata": {},
   "outputs": [
    {
     "data": {
      "text/plain": [
       "[{'ciid': 'cca0feea-986e-4ca9-90f4-e4e0575ddb96', 'id': 1},\n",
       " {'ciid': '011f341e-7aff-43e6-82f4-1b2ed82b8e9e', 'id': 2}]"
      ]
     },
     "execution_count": 13,
     "metadata": {},
     "output_type": "execute_result"
    }
   ],
   "source": [
    "interfaces = okc.get_all_traitentities_list(okapiclient, trait_name=interface_trait_name, layers=[layer_name])\n",
    "interfaces"
   ]
  },
  {
   "cell_type": "markdown",
   "metadata": {},
   "source": [
    "Fetch has_host realtions. In the result interfaces will be as base_cis and hosts as related cis"
   ]
  },
  {
   "cell_type": "code",
   "execution_count": 14,
   "metadata": {},
   "outputs": [
    {
     "data": {
      "text/plain": [
       "[{'base_ciid': 'cca0feea-986e-4ca9-90f4-e4e0575ddb96',\n",
       "  'related_ciids': ['92196245-6679-4295-b1dd-fb655286a5a4']},\n",
       " {'base_ciid': '011f341e-7aff-43e6-82f4-1b2ed82b8e9e',\n",
       "  'related_ciids': ['92196245-6679-4295-b1dd-fb655286a5a4']}]"
      ]
     },
     "execution_count": 14,
     "metadata": {},
     "output_type": "execute_result"
    }
   ],
   "source": [
    "has_host_relations = okc.get_trait_relation_list(okapiclient, trait_name=interface_trait_name, relation_name=\"has_host\", layers=[layer_name])\n",
    "has_host_relations"
   ]
  },
  {
   "cell_type": "markdown",
   "metadata": {},
   "source": [
    "Fetch has_interface relations for all hosts"
   ]
  },
  {
   "cell_type": "code",
   "execution_count": 15,
   "metadata": {},
   "outputs": [
    {
     "data": {
      "text/plain": [
       "[{'base_ciid': '92196245-6679-4295-b1dd-fb655286a5a4',\n",
       "  'related_ciids': ['cca0feea-986e-4ca9-90f4-e4e0575ddb96',\n",
       "   '011f341e-7aff-43e6-82f4-1b2ed82b8e9e']}]"
      ]
     },
     "execution_count": 15,
     "metadata": {},
     "output_type": "execute_result"
    }
   ],
   "source": [
    "has_interface_relations = okc.get_trait_relation_list(okapiclient, trait_name=host_trait_name, relation_name=\"has_interface\", layers=[layer_name])\n",
    "has_interface_relations"
   ]
  },
  {
   "cell_type": "markdown",
   "metadata": {},
   "source": [
    "Merge hosts with realted cis in this case interfaces"
   ]
  },
  {
   "cell_type": "code",
   "execution_count": 16,
   "metadata": {},
   "outputs": [
    {
     "data": {
      "text/plain": [
       "[{'ciid': '92196245-6679-4295-b1dd-fb655286a5a4',\n",
       "  'id': 1,\n",
       "  'related_ciis': [{'ciid': 'cca0feea-986e-4ca9-90f4-e4e0575ddb96', 'id': 1},\n",
       "   {'ciid': '011f341e-7aff-43e6-82f4-1b2ed82b8e9e', 'id': 2}]}]"
      ]
     },
     "execution_count": 16,
     "metadata": {},
     "output_type": "execute_result"
    }
   ],
   "source": [
    "interface_dict = {interface['ciid']: interface for interface in interfaces}\n",
    "\n",
    "hosts_with_relations = []\n",
    "for host in hosts:\n",
    "    merged_dict = host.copy()\n",
    "    merged_dict['related_ciis'] = []\n",
    "    for relation in has_interface_relations:\n",
    "        if host['ciid'] == relation['base_ciid']:\n",
    "            for related_ciid in relation['related_ciids']:\n",
    "                if related_ciid in interface_dict:\n",
    "                    merged_dict['related_ciis'].append(interface_dict[related_ciid])\n",
    "    hosts_with_relations.append(merged_dict)\n",
    "\n",
    "hosts_with_relations"
   ]
  },
  {
   "cell_type": "markdown",
   "metadata": {},
   "source": [
    "The same can be done for interfaces to fetch its relations"
   ]
  },
  {
   "cell_type": "code",
   "execution_count": 17,
   "metadata": {},
   "outputs": [
    {
     "data": {
      "text/plain": [
       "[{'ciid': 'cca0feea-986e-4ca9-90f4-e4e0575ddb96',\n",
       "  'id': 1,\n",
       "  'related_ciis': [{'ciid': '92196245-6679-4295-b1dd-fb655286a5a4', 'id': 1}]},\n",
       " {'ciid': '011f341e-7aff-43e6-82f4-1b2ed82b8e9e',\n",
       "  'id': 2,\n",
       "  'related_ciis': [{'ciid': '92196245-6679-4295-b1dd-fb655286a5a4', 'id': 1}]}]"
      ]
     },
     "execution_count": 17,
     "metadata": {},
     "output_type": "execute_result"
    }
   ],
   "source": [
    "host_dict = {host['ciid']: host for host in hosts}\n",
    "\n",
    "interfaces_with_relations = []\n",
    "for interface in interfaces:\n",
    "    merged_dict = interface.copy()\n",
    "    merged_dict['related_ciis'] = []\n",
    "    for relation in has_host_relations:\n",
    "        if interface['ciid'] == relation['base_ciid']:\n",
    "            for related_ciid in relation['related_ciids']:\n",
    "                if related_ciid in host_dict:\n",
    "                    merged_dict['related_ciis'].append(host_dict[related_ciid])\n",
    "    interfaces_with_relations.append(merged_dict)\n",
    "\n",
    "interfaces_with_relations"
   ]
  },
  {
   "cell_type": "markdown",
   "metadata": {},
   "source": [
    "### Relations operations using pandas dataframes"
   ]
  },
  {
   "cell_type": "markdown",
   "metadata": {},
   "source": [
    "We will do the same steps here but using pandas dataframes to work with omnikeeper data"
   ]
  },
  {
   "cell_type": "code",
   "execution_count": 18,
   "metadata": {},
   "outputs": [
    {
     "data": {
      "text/html": [
       "<div>\n",
       "<style scoped>\n",
       "    .dataframe tbody tr th:only-of-type {\n",
       "        vertical-align: middle;\n",
       "    }\n",
       "\n",
       "    .dataframe tbody tr th {\n",
       "        vertical-align: top;\n",
       "    }\n",
       "\n",
       "    .dataframe thead th {\n",
       "        text-align: right;\n",
       "    }\n",
       "</style>\n",
       "<table border=\"1\" class=\"dataframe\">\n",
       "  <thead>\n",
       "    <tr style=\"text-align: right;\">\n",
       "      <th></th>\n",
       "      <th>related_ciids</th>\n",
       "    </tr>\n",
       "    <tr>\n",
       "      <th>base_ciid</th>\n",
       "      <th></th>\n",
       "    </tr>\n",
       "  </thead>\n",
       "  <tbody>\n",
       "    <tr>\n",
       "      <th>92196245-6679-4295-b1dd-fb655286a5a4</th>\n",
       "      <td>[cca0feea-986e-4ca9-90f4-e4e0575ddb96, 011f341...</td>\n",
       "    </tr>\n",
       "  </tbody>\n",
       "</table>\n",
       "</div>"
      ],
      "text/plain": [
       "                                                                          related_ciids\n",
       "base_ciid                                                                              \n",
       "92196245-6679-4295-b1dd-fb655286a5a4  [cca0feea-986e-4ca9-90f4-e4e0575ddb96, 011f341..."
      ]
     },
     "execution_count": 18,
     "metadata": {},
     "output_type": "execute_result"
    }
   ],
   "source": [
    "has_host_relations_df = okc.get_trait_relation_dataframe(okapiclient, trait_name=interface_trait_name, relation_name=\"has_host\", layers=[layer_name])\n",
    "has_interface_relations_df = okc.get_trait_relation_dataframe(okapiclient, trait_name=host_trait_name, relation_name=\"has_interface\", layers=[layer_name])\n",
    "has_interface_relations_df"
   ]
  },
  {
   "cell_type": "markdown",
   "metadata": {},
   "source": [
    "Fetch hosts and interfaces using dataframes "
   ]
  },
  {
   "cell_type": "code",
   "execution_count": 19,
   "metadata": {},
   "outputs": [
    {
     "data": {
      "text/html": [
       "<div>\n",
       "<style scoped>\n",
       "    .dataframe tbody tr th:only-of-type {\n",
       "        vertical-align: middle;\n",
       "    }\n",
       "\n",
       "    .dataframe tbody tr th {\n",
       "        vertical-align: top;\n",
       "    }\n",
       "\n",
       "    .dataframe thead th {\n",
       "        text-align: right;\n",
       "    }\n",
       "</style>\n",
       "<table border=\"1\" class=\"dataframe\">\n",
       "  <thead>\n",
       "    <tr style=\"text-align: right;\">\n",
       "      <th></th>\n",
       "      <th>id</th>\n",
       "    </tr>\n",
       "    <tr>\n",
       "      <th>ciid</th>\n",
       "      <th></th>\n",
       "    </tr>\n",
       "  </thead>\n",
       "  <tbody>\n",
       "    <tr>\n",
       "      <th>92196245-6679-4295-b1dd-fb655286a5a4</th>\n",
       "      <td>1</td>\n",
       "    </tr>\n",
       "  </tbody>\n",
       "</table>\n",
       "</div>"
      ],
      "text/plain": [
       "                                      id\n",
       "ciid                                    \n",
       "92196245-6679-4295-b1dd-fb655286a5a4   1"
      ]
     },
     "execution_count": 19,
     "metadata": {},
     "output_type": "execute_result"
    }
   ],
   "source": [
    "hosts_df = okc.get_all_traitentities_dataframe(okapiclient, trait_name=host_trait_name, layers=[layer_name])\n",
    "interfaces_df = okc.get_all_traitentities_dataframe(okapiclient, trait_name=interface_trait_name, layers=[layer_name])\n",
    "hosts_df"
   ]
  },
  {
   "cell_type": "markdown",
   "metadata": {},
   "source": [
    "Now merge the related data. In this case we can see how easy it is to merge related data using pandas dataframes"
   ]
  },
  {
   "cell_type": "code",
   "execution_count": 20,
   "metadata": {},
   "outputs": [
    {
     "data": {
      "text/html": [
       "<div>\n",
       "<style scoped>\n",
       "    .dataframe tbody tr th:only-of-type {\n",
       "        vertical-align: middle;\n",
       "    }\n",
       "\n",
       "    .dataframe tbody tr th {\n",
       "        vertical-align: top;\n",
       "    }\n",
       "\n",
       "    .dataframe thead th {\n",
       "        text-align: right;\n",
       "    }\n",
       "</style>\n",
       "<table border=\"1\" class=\"dataframe\">\n",
       "  <thead>\n",
       "    <tr style=\"text-align: right;\">\n",
       "      <th></th>\n",
       "      <th>id</th>\n",
       "      <th>related_ciids</th>\n",
       "    </tr>\n",
       "    <tr>\n",
       "      <th>ciid</th>\n",
       "      <th></th>\n",
       "      <th></th>\n",
       "    </tr>\n",
       "  </thead>\n",
       "  <tbody>\n",
       "    <tr>\n",
       "      <th>92196245-6679-4295-b1dd-fb655286a5a4</th>\n",
       "      <td>1</td>\n",
       "      <td>[cca0feea-986e-4ca9-90f4-e4e0575ddb96, 011f341...</td>\n",
       "    </tr>\n",
       "  </tbody>\n",
       "</table>\n",
       "</div>"
      ],
      "text/plain": [
       "                                      id  \\\n",
       "ciid                                       \n",
       "92196245-6679-4295-b1dd-fb655286a5a4   1   \n",
       "\n",
       "                                                                          related_ciids  \n",
       "ciid                                                                                     \n",
       "92196245-6679-4295-b1dd-fb655286a5a4  [cca0feea-986e-4ca9-90f4-e4e0575ddb96, 011f341...  "
      ]
     },
     "execution_count": 20,
     "metadata": {},
     "output_type": "execute_result"
    }
   ],
   "source": [
    "hosts_with_relations_df = hosts_df.merge(has_interface_relations_df, left_index=True, right_index=True, how='outer')\n",
    "hosts_with_relations_df"
   ]
  },
  {
   "cell_type": "markdown",
   "metadata": {},
   "source": [
    "We can create a multi index dataframe which includes interfaces information"
   ]
  },
  {
   "cell_type": "code",
   "execution_count": 21,
   "metadata": {},
   "outputs": [
    {
     "data": {
      "text/html": [
       "<div>\n",
       "<style scoped>\n",
       "    .dataframe tbody tr th:only-of-type {\n",
       "        vertical-align: middle;\n",
       "    }\n",
       "\n",
       "    .dataframe tbody tr th {\n",
       "        vertical-align: top;\n",
       "    }\n",
       "\n",
       "    .dataframe thead th {\n",
       "        text-align: right;\n",
       "    }\n",
       "</style>\n",
       "<table border=\"1\" class=\"dataframe\">\n",
       "  <thead>\n",
       "    <tr style=\"text-align: right;\">\n",
       "      <th></th>\n",
       "      <th></th>\n",
       "      <th>id_host</th>\n",
       "      <th>id_interface</th>\n",
       "    </tr>\n",
       "    <tr>\n",
       "      <th>ciid</th>\n",
       "      <th>related_ciids</th>\n",
       "      <th></th>\n",
       "      <th></th>\n",
       "    </tr>\n",
       "  </thead>\n",
       "  <tbody>\n",
       "    <tr>\n",
       "      <th rowspan=\"2\" valign=\"top\">92196245-6679-4295-b1dd-fb655286a5a4</th>\n",
       "      <th>cca0feea-986e-4ca9-90f4-e4e0575ddb96</th>\n",
       "      <td>1</td>\n",
       "      <td>1</td>\n",
       "    </tr>\n",
       "    <tr>\n",
       "      <th>011f341e-7aff-43e6-82f4-1b2ed82b8e9e</th>\n",
       "      <td>1</td>\n",
       "      <td>2</td>\n",
       "    </tr>\n",
       "  </tbody>\n",
       "</table>\n",
       "</div>"
      ],
      "text/plain": [
       "                                                                           id_host  \\\n",
       "ciid                                 related_ciids                                   \n",
       "92196245-6679-4295-b1dd-fb655286a5a4 cca0feea-986e-4ca9-90f4-e4e0575ddb96        1   \n",
       "                                     011f341e-7aff-43e6-82f4-1b2ed82b8e9e        1   \n",
       "\n",
       "                                                                           id_interface  \n",
       "ciid                                 related_ciids                                       \n",
       "92196245-6679-4295-b1dd-fb655286a5a4 cca0feea-986e-4ca9-90f4-e4e0575ddb96             1  \n",
       "                                     011f341e-7aff-43e6-82f4-1b2ed82b8e9e             2  "
      ]
     },
     "execution_count": 21,
     "metadata": {},
     "output_type": "execute_result"
    }
   ],
   "source": [
    "df_exploded = hosts_with_relations_df.explode('related_ciids').reset_index()\n",
    "merged_df = pd.merge(df_exploded, interfaces_df, left_on='related_ciids', right_on='ciid', how='left', suffixes=('_host', '_interface'))\n",
    "merged_df.set_index(['ciid', 'related_ciids'], inplace=True)\n",
    "merged_df"
   ]
  }
 ],
 "metadata": {
  "kernelspec": {
   "display_name": ".venv",
   "language": "python",
   "name": "python3"
  },
  "language_info": {
   "codemirror_mode": {
    "name": "ipython",
    "version": 3
   },
   "file_extension": ".py",
   "mimetype": "text/x-python",
   "name": "python",
   "nbconvert_exporter": "python",
   "pygments_lexer": "ipython3",
   "version": "3.12.0"
  }
 },
 "nbformat": 4,
 "nbformat_minor": 2
}
