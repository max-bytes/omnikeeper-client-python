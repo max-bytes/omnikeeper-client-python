{
 "cells": [
  {
   "cell_type": "markdown",
   "metadata": {},
   "source": [
    "# Developer Insights: use typing lib\n",
    "\n",
    "we need type conversions from omnikeeper attribute types used in graphql to python native types and back\n"
   ]
  },
  {
   "cell_type": "code",
   "execution_count": 1,
   "metadata": {},
   "outputs": [],
   "source": [
    "import omnikeeper_client as ok\n",
    "import omnikeeper_client.typing as okc_typing\n",
    "\n",
    "import uuid"
   ]
  },
  {
   "cell_type": "markdown",
   "metadata": {},
   "source": [
    "\n",
    "## omnikeeper to python"
   ]
  },
  {
   "cell_type": "code",
   "execution_count": 2,
   "metadata": {},
   "outputs": [],
   "source": [
    "omninkeeper_response_mergedattributes = [\n",
    "        {\n",
    "          \"attribute\": {\n",
    "            \"name\": \"__name\",\n",
    "            \"value\": {\n",
    "              \"type\": \"TEXT\",\n",
    "              \"isArray\": False,\n",
    "              \"values\": [\n",
    "                \"test-ci01\"\n",
    "              ]\n",
    "            }\n",
    "          }\n",
    "        },\n",
    "        {\n",
    "          \"attribute\": {\n",
    "            \"name\": \"stringarray\",\n",
    "            \"value\": {\n",
    "              \"type\": \"TEXT\",\n",
    "              \"isArray\": True,\n",
    "              \"values\": [\n",
    "                \"test_value_1\",\n",
    "                \"test_value_2\",\n",
    "              ]\n",
    "            }\n",
    "          }\n",
    "        },\n",
    "        {\n",
    "          \"attribute\": {\n",
    "            \"name\": \"integerarray\",\n",
    "            \"value\": {\n",
    "              \"type\": \"INTEGER\",\n",
    "              \"isArray\": True,\n",
    "              \"values\": [\n",
    "                1,\n",
    "                2,\n",
    "                3,\n",
    "              ]\n",
    "            }\n",
    "          }\n",
    "        },\n",
    "      ]"
   ]
  },
  {
   "cell_type": "markdown",
   "metadata": {},
   "source": [
    "now convert this repsonse to a dict of legacy types, using attribute name as key of dict"
   ]
  },
  {
   "cell_type": "code",
   "execution_count": 3,
   "metadata": {},
   "outputs": [
    {
     "data": {
      "text/plain": [
       "{'__name': 'test-ci01',\n",
       " 'stringarray': ['test_value_1', 'test_value_2'],\n",
       " 'integerarray': [1, 2, 3]}"
      ]
     },
     "execution_count": 3,
     "metadata": {},
     "output_type": "execute_result"
    }
   ],
   "source": [
    "okc_typing.attributes_to_dict(omninkeeper_response_mergedattributes)"
   ]
  },
  {
   "cell_type": "markdown",
   "metadata": {},
   "source": [
    "*Details:* ``attributes_to_dict`` uses ``attributevalue_to_pythonvalue`` to convert every single attribute, to test that we can use:"
   ]
  },
  {
   "cell_type": "code",
   "execution_count": 4,
   "metadata": {},
   "outputs": [
    {
     "name": "stdout",
     "output_type": "stream",
     "text": [
      "__name is of type <class 'str'> with value test-ci01\n"
     ]
    }
   ],
   "source": [
    "attribute_name = omninkeeper_response_mergedattributes[0]['attribute']['name']\n",
    "attribute_value = okc_typing.attributevalue_to_pythonvalue(omninkeeper_response_mergedattributes[0]['attribute']['value'])\n",
    "\n",
    "print (f\"{attribute_name} is of type {type(attribute_value)} with value {attribute_value}\")"
   ]
  },
  {
   "cell_type": "markdown",
   "metadata": {},
   "source": [
    "## python native types to omnikeeper attribute types\n",
    "\n",
    "### detecting types\n",
    "\n",
    "to give convenience to users we have to detect types of a single value (non array!)"
   ]
  },
  {
   "cell_type": "code",
   "execution_count": 5,
   "metadata": {},
   "outputs": [
    {
     "data": {
      "text/plain": [
       "'INTEGER'"
      ]
     },
     "execution_count": 5,
     "metadata": {},
     "output_type": "execute_result"
    }
   ],
   "source": [
    "okc_typing._detect_single_attributetype(1)"
   ]
  },
  {
   "cell_type": "code",
   "execution_count": 75,
   "metadata": {},
   "outputs": [
    {
     "data": {
      "text/plain": [
       "'DOUBLE'"
      ]
     },
     "execution_count": 75,
     "metadata": {},
     "output_type": "execute_result"
    }
   ],
   "source": [
    "okc_typing._detect_single_attributetype(3.1415)"
   ]
  },
  {
   "cell_type": "code",
   "execution_count": 76,
   "metadata": {},
   "outputs": [
    {
     "data": {
      "text/plain": [
       "'BOOLEAN'"
      ]
     },
     "execution_count": 76,
     "metadata": {},
     "output_type": "execute_result"
    }
   ],
   "source": [
    "okc_typing._detect_single_attributetype(True)"
   ]
  },
  {
   "cell_type": "code",
   "execution_count": 77,
   "metadata": {},
   "outputs": [
    {
     "data": {
      "text/plain": [
       "'TEXT'"
      ]
     },
     "execution_count": 77,
     "metadata": {},
     "output_type": "execute_result"
    }
   ],
   "source": [
    "okc_typing._detect_single_attributetype(\"Hello World!\")"
   ]
  },
  {
   "cell_type": "code",
   "execution_count": 78,
   "metadata": {},
   "outputs": [
    {
     "data": {
      "text/plain": [
       "'MULTILINE_TEXT'"
      ]
     },
     "execution_count": 78,
     "metadata": {},
     "output_type": "execute_result"
    }
   ],
   "source": [
    "okc_typing._detect_single_attributetype(\"Hello\\nWorld!\")"
   ]
  },
  {
   "cell_type": "code",
   "execution_count": 79,
   "metadata": {},
   "outputs": [
    {
     "data": {
      "text/plain": [
       "'JSON'"
      ]
     },
     "execution_count": 79,
     "metadata": {},
     "output_type": "execute_result"
    }
   ],
   "source": [
    "okc_typing._detect_single_attributetype({'foo': 'bar'})"
   ]
  },
  {
   "cell_type": "code",
   "execution_count": 80,
   "metadata": {},
   "outputs": [
    {
     "data": {
      "text/plain": [
       "'JSON'"
      ]
     },
     "execution_count": 80,
     "metadata": {},
     "output_type": "execute_result"
    }
   ],
   "source": [
    "okc_typing._detect_single_attributetype([1,2,3,4])"
   ]
  },
  {
   "cell_type": "markdown",
   "metadata": {},
   "source": [
    "Demonstrate how to convert a dict to an omnikeeper attribute list using autodetect and typ hints to overrule"
   ]
  },
  {
   "cell_type": "code",
   "execution_count": 6,
   "metadata": {},
   "outputs": [
    {
     "data": {
      "text/plain": [
       "[{'ci': '08cbccbc-c4cf-11ee-a5e0-00155ded4619',\n",
       "  'name': 'author',\n",
       "  'value': {'type': 'TEXT', 'isArray': False, 'values': ['Markus Hof']}},\n",
       " {'ci': '08cbccbc-c4cf-11ee-a5e0-00155ded4619',\n",
       "  'name': 'description',\n",
       "  'value': {'type': 'MULTILINE_TEXT',\n",
       "   'isArray': False,\n",
       "   'values': ['This is\\nvery\\nconvenient!']}},\n",
       " {'ci': '08cbccbc-c4cf-11ee-a5e0-00155ded4619',\n",
       "  'name': 'counter',\n",
       "  'value': {'type': 'INTEGER',\n",
       "   'isArray': True,\n",
       "   'values': ['5', '2', '3', '4']}},\n",
       " {'ci': '08cbccbc-c4cf-11ee-a5e0-00155ded4619',\n",
       "  'name': 'lines',\n",
       "  'value': {'type': 'TEXT', 'isArray': True, 'values': ['lorem', 'ipsum']}},\n",
       " {'ci': '08cbccbc-c4cf-11ee-a5e0-00155ded4619',\n",
       "  'name': 'complex',\n",
       "  'value': {'type': 'JSON',\n",
       "   'isArray': False,\n",
       "   'values': ['{\"foo\": \"bar\", \"counter\": 123, \"subobject\": {\"yellow\": \"submarine\"}}']}},\n",
       " {'ci': '08cbccbc-c4cf-11ee-a5e0-00155ded4619',\n",
       "  'name': 'is_this_good',\n",
       "  'value': {'type': 'BOOLEAN', 'isArray': False, 'values': [True]}},\n",
       " {'ci': '08cbccbc-c4cf-11ee-a5e0-00155ded4619',\n",
       "  'name': 'it_could_be_a_integer',\n",
       "  'value': {'type': 'TEXT', 'isArray': False, 'values': ['42']}},\n",
       " {'ci': '08cbccbc-c4cf-11ee-a5e0-00155ded4619',\n",
       "  'name': 'unknown_type_list',\n",
       "  'value': {'type': 'TEXT', 'isArray': True, 'values': []}},\n",
       " {'ci': '08cbccbc-c4cf-11ee-a5e0-00155ded4619',\n",
       "  'name': 'hinted_empty_list',\n",
       "  'value': {'type': 'INTEGER', 'isArray': True, 'values': []}}]"
      ]
     },
     "execution_count": 6,
     "metadata": {},
     "output_type": "execute_result"
    }
   ],
   "source": [
    "my_demo_ciid = uuid.uuid1()\n",
    "\n",
    "python_native_attributes = {\n",
    "    \"author\": \"Markus Hof\",\n",
    "    \"description\": \"This is\\nvery\\nconvenient!\",\n",
    "    \"counter\": [5,2,3,4],\n",
    "    \"lines\": [\"lorem\", \"ipsum\"],\n",
    "    \"complex\": {\"foo\": \"bar\", \"counter\": 123, \"subobject\": {\"yellow\": \"submarine\"}},\n",
    "    \"is_this_good\": True,\n",
    "    \"it_could_be_a_integer\": 42,\n",
    "    \"unknown_type_list\": [],\n",
    "    \"hinted_empty_list\": [],\n",
    "}\n",
    "\n",
    "okc_typing.dict_to_attributes(my_demo_ciid, python_native_attributes, type_hints={\n",
    "    'it_could_be_a_integer': ok.ATTRIBUTETYPE_TEXT,\n",
    "    'hinted_empty_list': ok.ATTRIBUTETYPE_INTEGER,\n",
    "    })"
   ]
  }
 ],
 "metadata": {
  "kernelspec": {
   "display_name": ".venv",
   "language": "python",
   "name": "python3"
  },
  "language_info": {
   "codemirror_mode": {
    "name": "ipython",
    "version": 3
   },
   "file_extension": ".py",
   "mimetype": "text/x-python",
   "name": "python",
   "nbconvert_exporter": "python",
   "pygments_lexer": "ipython3",
   "version": "3.10.6"
  }
 },
 "nbformat": 4,
 "nbformat_minor": 2
}
