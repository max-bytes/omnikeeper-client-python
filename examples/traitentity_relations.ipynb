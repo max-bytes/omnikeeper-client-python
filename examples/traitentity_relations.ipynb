{
 "cells": [
  {
   "cell_type": "markdown",
   "metadata": {},
   "source": [
    "## Demonstrate interactions with traitentity relations using omnikeeper"
   ]
  },
  {
   "cell_type": "code",
   "execution_count": 5,
   "metadata": {},
   "outputs": [],
   "source": [
    "import os\n",
    "import omnikeeper_client as okc\n",
    "from omnikeeper_client import TraitDefinition, TraitAttributeDefinition, TraitRelationDefinition, ATTRIBUTETYPE_TEXT, ATTRIBUTETYPE_INTEGER"
   ]
  },
  {
   "cell_type": "markdown",
   "metadata": {},
   "source": [
    "As usual create the omnikeeper client"
   ]
  },
  {
   "cell_type": "code",
   "execution_count": 6,
   "metadata": {},
   "outputs": [],
   "source": [
    "okapiclient = okc.OkApiClient(\n",
    "    backend_url=os.getenv('OMNIKEEPER_URL'),\n",
    "    client_id=os.getenv('OMNIKEEPER_AUTH_CLIENTID'),\n",
    "    username=os.getenv('OMNIKEEPER_AUTH_USERNAME'),\n",
    "    password=os.getenv('OMNIKEEPER_AUTH_PASSWORD'),\n",
    ")"
   ]
  },
  {
   "cell_type": "markdown",
   "metadata": {},
   "source": [
    "In this example we will work with two traits host and interface and we will define relations using okc public functions. \n",
    "\n",
    "First lets define the trait names and layer."
   ]
  },
  {
   "cell_type": "code",
   "execution_count": 7,
   "metadata": {},
   "outputs": [],
   "source": [
    "host_trait_id = \"python_client_demo.host\"\n",
    "interface_trait_id = \"python_client_demo.interface\"\n",
    "layer_id = \"traitrelations_test\""
   ]
  },
  {
   "cell_type": "markdown",
   "metadata": {},
   "source": [
    "Create the layer, traits and trait entities"
   ]
  },
  {
   "cell_type": "code",
   "execution_count": 140,
   "metadata": {},
   "outputs": [],
   "source": [
    "# create layer\n",
    "ret = okc.create_layer(okapiclient, layer_id, \"layer used for relation tests\", okc.hex_string_to_rgb_color(\"#FF0000\"))\n",
    "assert(ret)\n",
    "\n",
    "# create traits\n",
    "ret = is_host_trait_created = okc.upsert_trait(okapiclient, TraitDefinition(host_trait_id, [\n",
    "        TraitAttributeDefinition(\"id\", \"host.id\", ATTRIBUTETYPE_INTEGER),\n",
    "      ], optional_relations = [\n",
    "        TraitRelationDefinition(identifier = \"has_interface\", predicate_id = \"has_interface\", direction_forward=True)\n",
    "      ]))\n",
    "assert(ret)\n",
    "\n",
    "ret = okc.upsert_trait(okapiclient, TraitDefinition(interface_trait_id, [\n",
    "        TraitAttributeDefinition(\"id\", \"interface.id\", ATTRIBUTETYPE_INTEGER),\n",
    "      ], optional_relations = [\n",
    "        TraitRelationDefinition(identifier = \"belongs_to_host\", predicate_id = \"has_interface\", direction_forward=False)\n",
    "      ]))\n",
    "assert(ret)\n",
    "\n",
    "# insert hosts (attributes only)\n",
    "hosts = [\n",
    "    {\"ciid\": \"136DA01F-9ABD-4D9D-80C7-02AF85C822A8\", \"id\": 1},\n",
    "    {\"ciid\": \"236DA01F-9ABD-4D9D-80C7-02AF85C822A8\", \"id\": 2},\n",
    "]\n",
    "ret = okc.bulk_replace_trait_entities(okapiclient, host_trait_id, hosts, layer_id, layer_id)\n",
    "assert(ret)\n",
    "\n",
    "# insert interfaces (attributes only)\n",
    "interfaces = [\n",
    "    {\"ciid\": \"736DA01F-9ABD-4D9D-80C7-02AF85C822A8\", \"id\": 1},\n",
    "    {\"ciid\": \"836DA01F-9ABD-4D9D-80C7-02AF85C822A8\", \"id\": 2},\n",
    "    {\"ciid\": \"936DA01F-9ABD-4D9D-80C7-02AF85C822A8\", \"id\": 3}\n",
    "]\n",
    "ret = okc.bulk_replace_trait_entities(okapiclient, interface_trait_id, interfaces, layer_id, layer_id)\n",
    "assert(ret)\n",
    "\n",
    "# insert relations between hosts and services\n",
    "ret = okc.set_traitentity_relations(okapiclient, host_trait_id, \"has_interface\", hosts[0][\"ciid\"], [interfaces[0][\"ciid\"], interfaces[1][\"ciid\"]], layer_id, layer_id)\n",
    "assert(ret)\n",
    "ret = okc.set_traitentity_relations(okapiclient, host_trait_id, \"has_interface\", hosts[1][\"ciid\"], [interfaces[2][\"ciid\"]], layer_id, layer_id)\n",
    "assert(ret)\n"
   ]
  },
  {
   "cell_type": "markdown",
   "metadata": {},
   "source": [
    "Create the host and interface CIs"
   ]
  },
  {
   "cell_type": "markdown",
   "metadata": {},
   "source": [
    "Fetch host and interface trait entities (attributes only)"
   ]
  },
  {
   "cell_type": "code",
   "execution_count": 141,
   "metadata": {},
   "outputs": [
    {
     "data": {
      "text/plain": [
       "[{'ciid': '136da01f-9abd-4d9d-80c7-02af85c822a8', 'id': 1},\n",
       " {'ciid': '236da01f-9abd-4d9d-80c7-02af85c822a8', 'id': 2}]"
      ]
     },
     "execution_count": 141,
     "metadata": {},
     "output_type": "execute_result"
    }
   ],
   "source": [
    "hosts_list = [\n",
    "    {\"id\": 1},\n",
    "    {\"id\": 2},\n",
    "    {\"id\": 3},\n",
    "]\n",
    "okc.bulk_replace_trait_entities_by_filter_list(okapiclient, trait_name=host_trait_name, input=hosts_list, id_attributes=[\"id\"], id_relations=[], write_layer=layer_name, filter={})"
   ]
  },
  {
   "cell_type": "markdown",
   "metadata": {},
   "source": [
    "Create Interface traitentities"
   ]
  },
  {
   "cell_type": "code",
   "execution_count": 142,
   "metadata": {},
   "outputs": [
    {
     "data": {
      "text/plain": [
       "True"
      ]
     },
     "execution_count": 142,
     "metadata": {},
     "output_type": "execute_result"
    }
   ],
   "source": [
    "interfaces_list = [\n",
    "    {\"id\": 1},\n",
    "    {\"id\": 2}, \n",
    "    {\"id\": 3}\n",
    "]\n",
    "okc.bulk_replace_trait_entities_by_filter_list(okapiclient, trait_name=interface_trait_name, input=interfaces_list, id_attributes=[\"id\"], id_relations=[], write_layer=layer_name, filter={})"
   ]
  },
  {
   "cell_type": "markdown",
   "metadata": {},
   "source": [
    "Fetch the created trait entities"
   ]
  },
  {
   "cell_type": "code",
   "execution_count": 143,
   "metadata": {},
   "outputs": [
    {
     "data": {
      "text/plain": [
       "[{'ciid': '4cf115e2-ba43-4fd6-a8ce-969e6c536523', 'id': 1},\n",
       " {'ciid': 'c1c01eb1-2883-4a8e-bd9d-645b68ed06fe', 'id': 2},\n",
       " {'ciid': '713dcb55-f47c-48df-8461-16faf3444598', 'id': 3}]"
      ]
     },
     "execution_count": 143,
     "metadata": {},
     "output_type": "execute_result"
    }
   ],
   "source": [
    "hosts = okc.get_all_traitentities(okapiclient, trait_id=host_trait_id, layers=[layer_id])\n",
    "hosts"
   ]
  },
  {
   "cell_type": "code",
   "execution_count": 144,
   "metadata": {},
   "outputs": [
    {
     "data": {
      "text/plain": [
       "[{'ciid': '736da01f-9abd-4d9d-80c7-02af85c822a8', 'id': 1},\n",
       " {'ciid': '836da01f-9abd-4d9d-80c7-02af85c822a8', 'id': 2},\n",
       " {'ciid': '936da01f-9abd-4d9d-80c7-02af85c822a8', 'id': 3}]"
      ]
     },
     "execution_count": 144,
     "metadata": {},
     "output_type": "execute_result"
    }
   ],
   "source": [
    "interfaces = okc.get_all_traitentities(okapiclient, trait_id=interface_trait_id, layers=[layer_id])\n",
    "interfaces"
   ]
  },
  {
   "cell_type": "markdown",
   "metadata": {},
   "source": [
    "Fetch belongs_to_host traitrelations. In the result interfaces will be as base_cis and hosts as related cis"
   ]
  },
  {
   "cell_type": "code",
   "execution_count": 145,
   "metadata": {},
   "outputs": [
    {
     "data": {
      "text/plain": [
       "[{'base_ciid': '736da01f-9abd-4d9d-80c7-02af85c822a8',\n",
       "  'related_ciids': ['136da01f-9abd-4d9d-80c7-02af85c822a8']},\n",
       " {'base_ciid': '836da01f-9abd-4d9d-80c7-02af85c822a8',\n",
       " {'base_ciid': '936da01f-9abd-4d9d-80c7-02af85c822a8',\n",
       "  'related_ciids': ['236da01f-9abd-4d9d-80c7-02af85c822a8']}]"
      ]},
     "output_type": "execute_result"
    }
   ],
   "source": [
    "has_host_relations = okc.get_all_traitentity_relations(okapiclient, trait_id=interface_trait_id, traitrelation_id=\"belongs_to_host\", layers=[layer_id])\n",
    "has_host_relations"
   ]
  },
  {
   "cell_type": "markdown",
   "metadata": {},
   "source": [
    "Fetch has_interface traitrelations for all hosts"
   ]
  },
  {
   "cell_type": "code",
   "execution_count": 147,
   "metadata": {},
   "outputs": [
    {
     "data": {
      "text/plain": [
       "[{'base_ciid': '136da01f-9abd-4d9d-80c7-02af85c822a8',\n",
       "  'related_ciids': ['736da01f-9abd-4d9d-80c7-02af85c822a8',\n",
       "   '836da01f-9abd-4d9d-80c7-02af85c822a8']},\n",
       " {'base_ciid': '236da01f-9abd-4d9d-80c7-02af85c822a8',\n",
       "  'related_ciids': ['936da01f-9abd-4d9d-80c7-02af85c822a8']}]"
      ]
     },
     "execution_count": 147,
     "metadata": {},
     "output_type": "execute_result"
    }
   ],
   "source": [
    "has_interface_relations = okc.get_all_traitentity_relations(okapiclient, trait_id=host_trait_id, traitrelation_id=\"has_interface\", layers=[layer_id])\n",
    "has_interface_relations"
   ]
  },
  {
   "cell_type": "markdown",
   "metadata": {},
   "source": [
    "Merge hosts with related interfaces"
   ]
  },
  {
   "cell_type": "code",
   "execution_count": 148,
   "metadata": {},
   "outputs": [
    {
     "data": {
      "text/plain": [
       "[{'ciid': '136da01f-9abd-4d9d-80c7-02af85c822a8',\n",
       "  'id': 1,\n",
       "  'related_ciis': [{'ciid': '736da01f-9abd-4d9d-80c7-02af85c822a8', 'id': 1},\n",
       "   {'ciid': '836da01f-9abd-4d9d-80c7-02af85c822a8', 'id': 2}]},\n",
       " {'ciid': '236da01f-9abd-4d9d-80c7-02af85c822a8',\n",
       "  'id': 2,\n",
       "  'related_ciis': [{'ciid': '936da01f-9abd-4d9d-80c7-02af85c822a8', 'id': 3}]}]"
      ]
     },
     "execution_count": 148,
     "metadata": {},
     "output_type": "execute_result"
    }
   ],
   "source": [
    "interface_dict = {interface['ciid']: interface for interface in interfaces}\n",
    "\n",
    "hosts_with_relations = []\n",
    "for host in hosts:\n",
    "    merged_dict = host.copy()\n",
    "    merged_dict['related_ciis'] = []\n",
    "    for relation in has_interface_relations:\n",
    "        if host['ciid'] == relation['base_ciid']:\n",
    "            for related_ciid in relation['related_ciids']:\n",
    "                if related_ciid in interface_dict:\n",
    "                    merged_dict['related_ciis'].append(interface_dict[related_ciid])\n",
    "    hosts_with_relations.append(merged_dict)\n",
    "\n",
    "hosts_with_relations"
   ]
  },
  {
   "cell_type": "markdown",
   "metadata": {},
   "source": [
    "The same can be done for interfaces to fetch its relations"
   ]
  },
  {
   "cell_type": "code",
   "execution_count": 149,
   "metadata": {},
   "outputs": [
    {
     "data": {
      "text/plain": [
       "[{'ciid': '736da01f-9abd-4d9d-80c7-02af85c822a8',\n",
       "  'id': 1,\n",
       "  'related_ciis': [{'ciid': '136da01f-9abd-4d9d-80c7-02af85c822a8', 'id': 1}]},\n",
       " {'ciid': '836da01f-9abd-4d9d-80c7-02af85c822a8',\n",
       "  'id': 2,\n",
       "  'related_ciis': [{'ciid': '136da01f-9abd-4d9d-80c7-02af85c822a8', 'id': 1}]},\n",
       " {'ciid': '936da01f-9abd-4d9d-80c7-02af85c822a8',\n",
       "  'id': 3,\n",
       "  'related_ciis': [{'ciid': '236da01f-9abd-4d9d-80c7-02af85c822a8', 'id': 2}]}]"
      ]
     },
     "execution_count": 149,
     "metadata": {},
     "output_type": "execute_result"
    }
   ],
   "source": [
    "host_dict = {host['ciid']: host for host in hosts}\n",
    "\n",
    "interfaces_with_relations = []\n",
    "for interface in interfaces:\n",
    "    merged_dict = interface.copy()\n",
    "    merged_dict['related_ciis'] = []\n",
    "    for relation in attached_to_host_relations:\n",
    "        if interface['ciid'] == relation['base_ciid']:\n",
    "            for related_ciid in relation['related_ciids']:\n",
    "                if related_ciid in host_dict:\n",
    "                    merged_dict['related_ciis'].append(host_dict[related_ciid])\n",
    "    interfaces_with_relations.append(merged_dict)\n",
    "\n",
    "interfaces_with_relations"
   ]
  },
  {
   "cell_type": "code",
   "execution_count": 15,
   "metadata": {},
   "outputs": [
    {
     "data": {
      "text/plain": [
       "True"
      ]
     },
     "execution_count": 15,
     "metadata": {},
     "output_type": "execute_result"
    }
   ],
   "source": [
    "# cleanup\n",
    "okc.delete_trait(okapiclient, host_trait_id)\n",
    "okc.delete_trait(okapiclient, interface_trait_id)\n",
    "okc.truncate_layer(okapiclient, layer_id)"
   ]
  }
 ],
 "metadata": {
  "kernelspec": {
   "display_name": ".venv",
   "language": "python",
   "name": "python3"
  },
  "language_info": {
   "codemirror_mode": {
    "name": "ipython",
    "version": 3
   },
   "file_extension": ".py",
   "mimetype": "text/x-python",
   "name": "python",
   "nbconvert_exporter": "python",
   "pygments_lexer": "ipython3",
   "version": "3.10.6"
  }
 },
 "nbformat": 4,
 "nbformat_minor": 2
}
