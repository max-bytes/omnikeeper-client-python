{
 "cells": [
  {
   "cell_type": "code",
   "execution_count": null,
   "metadata": {},
   "outputs": [],
   "source": [
    "import os\n",
    "import omnikeeper_client as okc"
   ]
  },
  {
   "cell_type": "code",
   "execution_count": null,
   "metadata": {},
   "outputs": [],
   "source": [
    "from dotenv import load_dotenv\n",
    "load_dotenv('../.env.sample')"
   ]
  },
  {
   "cell_type": "code",
   "execution_count": null,
   "metadata": {},
   "outputs": [],
   "source": [
    "trait_name = \"python_client_demo.test\"\n",
    "layer_name = \"testlayer\""
   ]
  },
  {
   "cell_type": "markdown",
   "metadata": {},
   "source": [
    "create a omnikeeper client"
   ]
  },
  {
   "cell_type": "code",
   "execution_count": null,
   "metadata": {},
   "outputs": [],
   "source": [
    "okapiclient = okc.OkApiClient(\n",
    "    backend_url=os.getenv('OMNIKEEPER_URL'),\n",
    "    client_id=os.getenv('OMNIKEEPER_AUTH_CLIENTID'),\n",
    "    username=os.getenv('OMNIKEEPER_AUTH_USERNAME'),\n",
    "    password=os.getenv('OMNIKEEPER_AUTH_PASSWORD'),\n",
    ")"
   ]
  },
  {
   "cell_type": "markdown",
   "metadata": {},
   "source": [
    "Create the input data in format of **input : List[Dict[str,Any]]**"
   ]
  },
  {
   "cell_type": "code",
   "execution_count": null,
   "metadata": {},
   "outputs": [],
   "source": [
    "# df_init = pd.DataFrame.from_records([\n",
    "#     {\"id\": 1, \"array\": [\"a\", \"b\"], \"some_key\": \"Value 1\"},\n",
    "#     {\"id\": 3, \"array\": [\"c\", \"d\"], \"some_key\": \"another Value\"},\n",
    "# ])\n",
    "\n",
    "# df_init\n",
    "\n",
    "initial_data = [\n",
    "    {\"id\": 1, \"array\": [\"a\", \"b\"], \"some_key\": \"Value 1\"},\n",
    "    {\"id\": 3, \"array\": [\"c\", \"d\"], \"some_key\": \"another Value\"},\n",
    "]\n",
    "initial_data"
   ]
  },
  {
   "cell_type": "markdown",
   "metadata": {},
   "source": [
    "write data to layer ``testlayer``"
   ]
  },
  {
   "cell_type": "code",
   "execution_count": null,
   "metadata": {},
   "outputs": [],
   "source": [
    "# simple_traits.bulk_replace(client, trait_name=trait_name, input=df_init, id_attributes=[\"id\"], id_relations=[], write_layer=layer_name, filter={})\n",
    "\n",
    "okc.bulk_replace_trait_entities_by_filter(okapiclient, trait_name=trait_name, input=initial_data, id_attributes=[\"id\"], id_relations=[], write_layer=layer_name, filter={})"
   ]
  },
  {
   "cell_type": "markdown",
   "metadata": {},
   "source": [
    "load data again from omnikeeper"
   ]
  },
  {
   "cell_type": "code",
   "execution_count": null,
   "metadata": {},
   "outputs": [],
   "source": [
    "okapiclient.get_schema()"
   ]
  },
  {
   "cell_type": "code",
   "execution_count": null,
   "metadata": {},
   "outputs": [],
   "source": [
    "c = okapiclient._get_graphql_client()\n",
    "print(c.schema)\n",
    "from gql import gql\n",
    "with c as session:\n",
    "    print(c.schema)\n",
    "schema = c.execute(gql('''\n",
    "  {\n",
    "    __schema {\n",
    "      types {\n",
    "        name\n",
    "      }\n",
    "    }\n",
    "  }\n",
    "'''))\n",
    "print(schema)"
   ]
  },
  {
   "cell_type": "code",
   "execution_count": null,
   "metadata": {},
   "outputs": [],
   "source": [
    "# df_work = simple_traits.get_all(client, trait_name=trait_name, layers=[layer_name])\n",
    "# df_work\n",
    "\n",
    "updated_data = okc.get_all_traitentities(okapiclient, trait_name=trait_name, layers=[layer_name])\n",
    "updated_data"
   ]
  },
  {
   "cell_type": "markdown",
   "metadata": {},
   "source": [
    "modify the fetched traitentities"
   ]
  },
  {
   "cell_type": "code",
   "execution_count": null,
   "metadata": {},
   "outputs": [],
   "source": [
    "# change things in the returned data\n",
    "# change single value of existing data\n",
    "updated_data[0][\"array\"] = [\"a\", \"b\", \"z\"]\n",
    "\n",
    "# add a new row, using our own created CIID\n",
    "updated_data.append({\"id\": 4, \"array\": [\"x\"], \"some_key\": \"the new guy\"})\n",
    "\n",
    "# drop a row\n",
    "updated_data.pop(1)"
   ]
  },
  {
   "cell_type": "markdown",
   "metadata": {},
   "source": [
    "write it back"
   ]
  },
  {
   "cell_type": "code",
   "execution_count": null,
   "metadata": {},
   "outputs": [],
   "source": [
    "# simple_traits.set_all(client, trait_name=trait_name, input=df_work, write_layer=layer_name)\n",
    "\n",
    "okc.bulk_replace_trait_entities(okapiclient, trait_name=trait_name, input=updated_data, write_layer=layer_name)"
   ]
  },
  {
   "cell_type": "markdown",
   "metadata": {},
   "source": [
    "Fetch again the data"
   ]
  },
  {
   "cell_type": "code",
   "execution_count": null,
   "metadata": {},
   "outputs": [],
   "source": [
    "# df_final = simple_traits.get_all(client, trait_name=trait_name, layers=[layer_name])\n",
    "\n",
    "final_data = okc.get_all_traitentities(okapiclient, trait_name=trait_name, layers=[layer_name])"
   ]
  }
 ],
 "metadata": {
  "kernelspec": {
   "display_name": ".venv",
   "language": "python",
   "name": "python3"
  },
  "language_info": {
   "codemirror_mode": {
    "name": "ipython",
    "version": 3
   },
   "file_extension": ".py",
   "mimetype": "text/x-python",
   "name": "python",
   "nbconvert_exporter": "python",
   "pygments_lexer": "ipython3",
   "version": "3.8.10"
  }
 },
 "nbformat": 4,
 "nbformat_minor": 2
}
