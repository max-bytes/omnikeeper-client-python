{
 "cells": [
  {
   "cell_type": "markdown",
   "metadata": {},
   "source": [
    "# Simple Layer and CI Operations"
   ]
  },
  {
   "cell_type": "code",
   "execution_count": 1,
   "metadata": {},
   "outputs": [],
   "source": [
    "import os\n",
    "import omnikeeper_client as okc"
   ]
  },
  {
   "cell_type": "markdown",
   "metadata": {},
   "source": [
    "create a omnikeeper client\n"
   ]
  },
  {
   "cell_type": "code",
   "execution_count": 2,
   "metadata": {},
   "outputs": [],
   "source": [
    "okapiclient = okc.OkApiClient(\n",
    "    backend_url=os.getenv('OMNIKEEPER_URL'),\n",
    "    client_id=os.getenv('OMNIKEEPER_AUTH_CLIENTID'),\n",
    "    username=os.getenv('OMNIKEEPER_AUTH_USERNAME'),\n",
    "    password=os.getenv('OMNIKEEPER_AUTH_PASSWORD'),\n",
    ")"
   ]
  },
  {
   "cell_type": "markdown",
   "metadata": {},
   "source": [
    "now create a layer for holding our attributes:\n",
    "- create/name it\n",
    "- set description and color it\n",
    "- clear all data from layer (if it already exists)\n",
    "\n",
    "those steps are idempotent since we use upsert and create_layer does not throw an error if it already existed\n"
   ]
  },
  {
   "cell_type": "code",
   "execution_count": 3,
   "metadata": {},
   "outputs": [],
   "source": [
    "target_layer = \"testlayer_ng\"\n",
    "\n",
    "# create layer, if it does not exist and set layer data\n",
    "ret = okc.create_layer(okapiclient, target_layer)\n",
    "assert(ret)\n",
    "\n",
    "# set description and color of layer\n",
    "ret = okc.update_layerdata(okapiclient, target_layer, \"description done with ng functions\", okc.hex_string_to_rgb_color(\"#353973\"))\n",
    "assert(ret)\n",
    "\n",
    "# # empty layer, if anything is inside\n",
    "ret = okc.truncate_layer(okapiclient, target_layer)\n",
    "assert(ret)\n"
   ]
  },
  {
   "cell_type": "markdown",
   "metadata": {},
   "source": [
    "create a named CI and store attributes to it"
   ]
  },
  {
   "cell_type": "code",
   "execution_count": 4,
   "metadata": {},
   "outputs": [
    {
     "name": "stdout",
     "output_type": "stream",
     "text": [
      "CI id=a72fb54d-4d40-4eff-9f94-5d4c7bff1b36 created\n"
     ]
    }
   ],
   "source": [
    "# create a single CI\n",
    "ciid1 = okc.create_ci(okapiclient)\n",
    "print (f\"CI id={ciid1} created\")"
   ]
  },
  {
   "cell_type": "code",
   "execution_count": 5,
   "metadata": {},
   "outputs": [],
   "source": [
    "# insert/update some attributes\n",
    "python_native_attributes = {\n",
    "    \"author\": \"Markus Hof\",\n",
    "}\n",
    "\n",
    "ret = okc.mutate_ci(okapiclient, target_layer, ciid1, python_native_attributes)\n",
    "assert(ret)"
   ]
  },
  {
   "cell_type": "code",
   "execution_count": 6,
   "metadata": {},
   "outputs": [],
   "source": [
    "# insert/update some attributes\n",
    "python_native_attributes = {\n",
    "    \"author\": \"Maximilian Csuk\",\n",
    "    \"is_this_good\": 42,\n",
    "    \"counting\": [1,2,3],\n",
    "    \"pi\": 3.141592,\n",
    "    \"complex-object\": [{'foo': 'bar', 'inner': {'abc': [1,2,3]}}, {'second': True}]\n",
    "}\n",
    "\n",
    "ret = okc.mutate_ci(okapiclient, target_layer, ciid1, python_native_attributes)\n",
    "assert(ret)"
   ]
  },
  {
   "cell_type": "markdown",
   "metadata": {},
   "source": [
    "This CI should appear now in technical interface, mutate it there and check your modified attributes using this code:"
   ]
  },
  {
   "cell_type": "code",
   "execution_count": 7,
   "metadata": {},
   "outputs": [
    {
     "data": {
      "text/plain": [
       "{'author': 'Maximilian Csuk',\n",
       " 'is_this_good': 42,\n",
       " 'counting': [1, 2, 3],\n",
       " 'pi': 3.141592,\n",
       " 'complex-object': [{'foo': 'bar', 'inner': {'abc': [1, 2, 3]}},\n",
       "  {'second': True}]}"
      ]
     },
     "execution_count": 7,
     "metadata": {},
     "output_type": "execute_result"
    }
   ],
   "source": [
    "okc.get_attributes_of_ci(okapiclient, [target_layer], ciid1)\n",
    "\n"
   ]
  }
 ],
 "metadata": {
  "kernelspec": {
   "display_name": ".venv",
   "language": "python",
   "name": "python3"
  },
  "language_info": {
   "codemirror_mode": {
    "name": "ipython",
    "version": 3
   },
   "file_extension": ".py",
   "mimetype": "text/x-python",
   "name": "python",
   "nbconvert_exporter": "python",
   "pygments_lexer": "ipython3",
   "version": "3.10.6"
  }
 },
 "nbformat": 4,
 "nbformat_minor": 2
}
