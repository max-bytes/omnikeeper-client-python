{
 "cells": [
  {
   "cell_type": "markdown",
   "metadata": {},
   "source": [
    "## Demonstrate interactions with relations using omnikeeper"
   ]
  },
  {
   "cell_type": "code",
   "execution_count": 137,
   "metadata": {},
   "outputs": [],
   "source": [
    "import os\n",
    "import omnikeeper_client as okc\n",
    "from omnikeeper_client import TraitDefinition, TraitAttributeDefinition, TraitRelationDefinition, ATTRIBUTETYPE_TEXT, ATTRIBUTETYPE_INTEGER\n",
    "import pandas as pd"
   ]
  },
  {
   "cell_type": "markdown",
   "metadata": {},
   "source": [
    "As usual create the omnikeeper client"
   ]
  },
  {
   "cell_type": "code",
   "execution_count": 138,
   "metadata": {},
   "outputs": [],
   "source": [
    "okapiclient = okc.OkApiClient(\n",
    "    backend_url=os.getenv('OMNIKEEPER_URL'),\n",
    "    client_id=os.getenv('OMNIKEEPER_AUTH_CLIENTID'),\n",
    "    username=os.getenv('OMNIKEEPER_AUTH_USERNAME'),\n",
    "    password=os.getenv('OMNIKEEPER_AUTH_PASSWORD'),\n",
    ")"
   ]
  },
  {
   "cell_type": "markdown",
   "metadata": {},
   "source": [
    "In this example we will work with two traits host and interface and we will define relations using okc public functions. \n",
    "\n",
    "First lets define the trait names and layer."
   ]
  },
  {
   "cell_type": "code",
   "execution_count": 139,
   "metadata": {},
   "outputs": [],
   "source": [
    "host_trait_name = \"python_client_demo.host\"\n",
    "interface_trait_name = \"python_client_demo.interface\"\n",
    "layer_name = \"relations\""
   ]
  },
  {
   "cell_type": "markdown",
   "metadata": {},
   "source": [
    "Make sure that traits are created correctly"
   ]
  },
  {
   "cell_type": "code",
   "execution_count": 140,
   "metadata": {},
   "outputs": [
    {
     "name": "stdout",
     "output_type": "stream",
     "text": [
      "True\n",
      "True\n"
     ]
    }
   ],
   "source": [
    "is_host_trait_created = okc.upsert_trait(okapiclient, TraitDefinition(host_trait_name, [\n",
    "        TraitAttributeDefinition(\"id\", \"host.id\", ATTRIBUTETYPE_INTEGER),\n",
    "      ], optional_relations = [\n",
    "        TraitRelationDefinition(identifier = \"has_interface\", predicate_id = \"has_interface\", direction_forward=True)\n",
    "      ]))\n",
    "print(is_host_trait_created)\n",
    "\n",
    "is_interface_trait_created = okc.upsert_trait(okapiclient, TraitDefinition(interface_trait_name, [\n",
    "        TraitAttributeDefinition(\"id\", \"interface.id\", ATTRIBUTETYPE_INTEGER),\n",
    "      ], optional_relations = [\n",
    "        TraitRelationDefinition(identifier = \"attached_to_host\", predicate_id = \"has_interface\", direction_forward=False)\n",
    "      ]))\n",
    "print(is_interface_trait_created)"
   ]
  },
  {
   "cell_type": "markdown",
   "metadata": {},
   "source": [
    "Create the host and interface CIs"
   ]
  },
  {
   "cell_type": "markdown",
   "metadata": {},
   "source": [
    "Create host traitentities"
   ]
  },
  {
   "cell_type": "code",
   "execution_count": 141,
   "metadata": {},
   "outputs": [
    {
     "data": {
      "text/plain": [
       "True"
      ]
     },
     "execution_count": 141,
     "metadata": {},
     "output_type": "execute_result"
    }
   ],
   "source": [
    "hosts_list = [\n",
    "    {\"id\": 1},\n",
    "    {\"id\": 2},\n",
    "    {\"id\": 3},\n",
    "]\n",
    "okc.bulk_replace_trait_entities_by_filter_list(okapiclient, trait_name=host_trait_name, input=hosts_list, id_attributes=[\"id\"], id_relations=[], write_layer=layer_name, filter={})"
   ]
  },
  {
   "cell_type": "markdown",
   "metadata": {},
   "source": [
    "Create Interface traitentities"
   ]
  },
  {
   "cell_type": "code",
   "execution_count": 142,
   "metadata": {},
   "outputs": [
    {
     "data": {
      "text/plain": [
       "True"
      ]
     },
     "execution_count": 142,
     "metadata": {},
     "output_type": "execute_result"
    }
   ],
   "source": [
    "interfaces_list = [\n",
    "    {\"id\": 1},\n",
    "    {\"id\": 2}, \n",
    "    {\"id\": 3}\n",
    "]\n",
    "okc.bulk_replace_trait_entities_by_filter_list(okapiclient, trait_name=interface_trait_name, input=interfaces_list, id_attributes=[\"id\"], id_relations=[], write_layer=layer_name, filter={})"
   ]
  },
  {
   "cell_type": "markdown",
   "metadata": {},
   "source": [
    "Fetch the created trait entities"
   ]
  },
  {
   "cell_type": "code",
   "execution_count": 143,
   "metadata": {},
   "outputs": [
    {
     "data": {
      "text/plain": [
       "[{'ciid': '4cf115e2-ba43-4fd6-a8ce-969e6c536523', 'id': 1},\n",
       " {'ciid': 'c1c01eb1-2883-4a8e-bd9d-645b68ed06fe', 'id': 2},\n",
       " {'ciid': '713dcb55-f47c-48df-8461-16faf3444598', 'id': 3}]"
      ]
     },
     "execution_count": 143,
     "metadata": {},
     "output_type": "execute_result"
    }
   ],
   "source": [
    "hosts = okc.get_all_traitentities_list(okapiclient, trait_name=host_trait_name, layers=[layer_name])\n",
    "hosts"
   ]
  },
  {
   "cell_type": "code",
   "execution_count": 144,
   "metadata": {},
   "outputs": [
    {
     "data": {
      "text/plain": [
       "[{'ciid': '1ec74667-2ebb-493c-87d1-8493b21c4f03', 'id': 1},\n",
       " {'ciid': 'e702709b-dbc1-482c-8bd0-9db5925fd870', 'id': 2},\n",
       " {'ciid': '624d8bb8-3ea5-4573-98d0-3f9335357bd2', 'id': 3}]"
      ]
     },
     "execution_count": 144,
     "metadata": {},
     "output_type": "execute_result"
    }
   ],
   "source": [
    "interfaces = okc.get_all_traitentities_list(okapiclient, trait_name=interface_trait_name, layers=[layer_name])\n",
    "interfaces"
   ]
  },
  {
   "cell_type": "markdown",
   "metadata": {},
   "source": [
    "Add host and interface relations using the created cis and okc"
   ]
  },
  {
   "cell_type": "code",
   "execution_count": 145,
   "metadata": {},
   "outputs": [
    {
     "data": {
      "text/plain": [
       "True"
      ]
     },
     "execution_count": 145,
     "metadata": {},
     "output_type": "execute_result"
    }
   ],
   "source": [
    "okc.add_trait_relations_by_ciid(okapiclient, host_trait_name, \"has_interface\", hosts[0][\"ciid\"], [interfaces[0][\"ciid\"], interfaces[1][\"ciid\"]], layer_name)\n",
    "okc.add_trait_relations_by_ciid(okapiclient, host_trait_name, \"has_interface\", hosts[1][\"ciid\"], [interfaces[2][\"ciid\"]], layer_name)"
   ]
  },
  {
   "cell_type": "markdown",
   "metadata": {},
   "source": [
    "### Relations operations using lists"
   ]
  },
  {
   "cell_type": "markdown",
   "metadata": {},
   "source": [
    "Fetch has_host realtions. In the result interfaces will be as base_cis and hosts as related cis"
   ]
  },
  {
   "cell_type": "code",
   "execution_count": 146,
   "metadata": {},
   "outputs": [
    {
     "data": {
      "text/plain": [
       "[{'base_ciid': '1ec74667-2ebb-493c-87d1-8493b21c4f03',\n",
       "  'related_ciids': ['4cf115e2-ba43-4fd6-a8ce-969e6c536523']},\n",
       " {'base_ciid': 'e702709b-dbc1-482c-8bd0-9db5925fd870',\n",
       "  'related_ciids': ['4cf115e2-ba43-4fd6-a8ce-969e6c536523']},\n",
       " {'base_ciid': '624d8bb8-3ea5-4573-98d0-3f9335357bd2',\n",
       "  'related_ciids': ['c1c01eb1-2883-4a8e-bd9d-645b68ed06fe']}]"
      ]
     },
     "execution_count": 146,
     "metadata": {},
     "output_type": "execute_result"
    }
   ],
   "source": [
    "attached_to_host_relations = okc.get_trait_relation_list(okapiclient, trait_name=interface_trait_name, relation_name=\"attached_to_host\", layers=[layer_name])\n",
    "attached_to_host_relations"
   ]
  },
  {
   "cell_type": "markdown",
   "metadata": {},
   "source": [
    "Fetch has_interface relations for all hosts"
   ]
  },
  {
   "cell_type": "code",
   "execution_count": 147,
   "metadata": {},
   "outputs": [
    {
     "data": {
      "text/plain": [
       "[{'base_ciid': '4cf115e2-ba43-4fd6-a8ce-969e6c536523',\n",
       "  'related_ciids': ['1ec74667-2ebb-493c-87d1-8493b21c4f03',\n",
       "   'e702709b-dbc1-482c-8bd0-9db5925fd870']},\n",
       " {'base_ciid': 'c1c01eb1-2883-4a8e-bd9d-645b68ed06fe',\n",
       "  'related_ciids': ['624d8bb8-3ea5-4573-98d0-3f9335357bd2']},\n",
       " {'base_ciid': '713dcb55-f47c-48df-8461-16faf3444598', 'related_ciids': []}]"
      ]
     },
     "execution_count": 147,
     "metadata": {},
     "output_type": "execute_result"
    }
   ],
   "source": [
    "has_interface_relations = okc.get_trait_relation_list(okapiclient, trait_name=host_trait_name, relation_name=\"has_interface\", layers=[layer_name])\n",
    "has_interface_relations"
   ]
  },
  {
   "cell_type": "markdown",
   "metadata": {},
   "source": [
    "Merge hosts with realted cis in this case interfaces"
   ]
  },
  {
   "cell_type": "code",
   "execution_count": 148,
   "metadata": {},
   "outputs": [
    {
     "data": {
      "text/plain": [
       "[{'ciid': '4cf115e2-ba43-4fd6-a8ce-969e6c536523',\n",
       "  'id': 1,\n",
       "  'related_ciis': [{'ciid': '1ec74667-2ebb-493c-87d1-8493b21c4f03', 'id': 1},\n",
       "   {'ciid': 'e702709b-dbc1-482c-8bd0-9db5925fd870', 'id': 2}]},\n",
       " {'ciid': 'c1c01eb1-2883-4a8e-bd9d-645b68ed06fe',\n",
       "  'id': 2,\n",
       "  'related_ciis': [{'ciid': '624d8bb8-3ea5-4573-98d0-3f9335357bd2', 'id': 3}]},\n",
       " {'ciid': '713dcb55-f47c-48df-8461-16faf3444598', 'id': 3, 'related_ciis': []}]"
      ]
     },
     "execution_count": 148,
     "metadata": {},
     "output_type": "execute_result"
    }
   ],
   "source": [
    "interface_dict = {interface['ciid']: interface for interface in interfaces}\n",
    "\n",
    "hosts_with_relations = []\n",
    "for host in hosts:\n",
    "    merged_dict = host.copy()\n",
    "    merged_dict['related_ciis'] = []\n",
    "    for relation in has_interface_relations:\n",
    "        if host['ciid'] == relation['base_ciid']:\n",
    "            for related_ciid in relation['related_ciids']:\n",
    "                if related_ciid in interface_dict:\n",
    "                    merged_dict['related_ciis'].append(interface_dict[related_ciid])\n",
    "    hosts_with_relations.append(merged_dict)\n",
    "\n",
    "hosts_with_relations"
   ]
  },
  {
   "cell_type": "markdown",
   "metadata": {},
   "source": [
    "The same can be done for interfaces to fetch its relations"
   ]
  },
  {
   "cell_type": "code",
   "execution_count": 149,
   "metadata": {},
   "outputs": [
    {
     "data": {
      "text/plain": [
       "[{'ciid': '1ec74667-2ebb-493c-87d1-8493b21c4f03',\n",
       "  'id': 1,\n",
       "  'related_ciis': [{'ciid': '4cf115e2-ba43-4fd6-a8ce-969e6c536523', 'id': 1}]},\n",
       " {'ciid': 'e702709b-dbc1-482c-8bd0-9db5925fd870',\n",
       "  'id': 2,\n",
       "  'related_ciis': [{'ciid': '4cf115e2-ba43-4fd6-a8ce-969e6c536523', 'id': 1}]},\n",
       " {'ciid': '624d8bb8-3ea5-4573-98d0-3f9335357bd2',\n",
       "  'id': 3,\n",
       "  'related_ciis': [{'ciid': 'c1c01eb1-2883-4a8e-bd9d-645b68ed06fe', 'id': 2}]}]"
      ]
     },
     "execution_count": 149,
     "metadata": {},
     "output_type": "execute_result"
    }
   ],
   "source": [
    "host_dict = {host['ciid']: host for host in hosts}\n",
    "\n",
    "interfaces_with_relations = []\n",
    "for interface in interfaces:\n",
    "    merged_dict = interface.copy()\n",
    "    merged_dict['related_ciis'] = []\n",
    "    for relation in attached_to_host_relations:\n",
    "        if interface['ciid'] == relation['base_ciid']:\n",
    "            for related_ciid in relation['related_ciids']:\n",
    "                if related_ciid in host_dict:\n",
    "                    merged_dict['related_ciis'].append(host_dict[related_ciid])\n",
    "    interfaces_with_relations.append(merged_dict)\n",
    "\n",
    "interfaces_with_relations"
   ]
  },
  {
   "cell_type": "markdown",
   "metadata": {},
   "source": [
    "### Relations operations using pandas dataframes"
   ]
  },
  {
   "cell_type": "markdown",
   "metadata": {},
   "source": [
    "We will do the same steps here but using pandas dataframes to work with omnikeeper data"
   ]
  },
  {
   "cell_type": "code",
   "execution_count": 150,
   "metadata": {},
   "outputs": [
    {
     "data": {
      "text/html": [
       "<div>\n",
       "<style scoped>\n",
       "    .dataframe tbody tr th:only-of-type {\n",
       "        vertical-align: middle;\n",
       "    }\n",
       "\n",
       "    .dataframe tbody tr th {\n",
       "        vertical-align: top;\n",
       "    }\n",
       "\n",
       "    .dataframe thead th {\n",
       "        text-align: right;\n",
       "    }\n",
       "</style>\n",
       "<table border=\"1\" class=\"dataframe\">\n",
       "  <thead>\n",
       "    <tr style=\"text-align: right;\">\n",
       "      <th></th>\n",
       "      <th>related_ciids</th>\n",
       "    </tr>\n",
       "    <tr>\n",
       "      <th>base_ciid</th>\n",
       "      <th></th>\n",
       "    </tr>\n",
       "  </thead>\n",
       "  <tbody>\n",
       "    <tr>\n",
       "      <th>4cf115e2-ba43-4fd6-a8ce-969e6c536523</th>\n",
       "      <td>[1ec74667-2ebb-493c-87d1-8493b21c4f03, e702709...</td>\n",
       "    </tr>\n",
       "    <tr>\n",
       "      <th>c1c01eb1-2883-4a8e-bd9d-645b68ed06fe</th>\n",
       "      <td>[624d8bb8-3ea5-4573-98d0-3f9335357bd2]</td>\n",
       "    </tr>\n",
       "    <tr>\n",
       "      <th>713dcb55-f47c-48df-8461-16faf3444598</th>\n",
       "      <td>[]</td>\n",
       "    </tr>\n",
       "  </tbody>\n",
       "</table>\n",
       "</div>"
      ],
      "text/plain": [
       "                                                                          related_ciids\n",
       "base_ciid                                                                              \n",
       "4cf115e2-ba43-4fd6-a8ce-969e6c536523  [1ec74667-2ebb-493c-87d1-8493b21c4f03, e702709...\n",
       "c1c01eb1-2883-4a8e-bd9d-645b68ed06fe             [624d8bb8-3ea5-4573-98d0-3f9335357bd2]\n",
       "713dcb55-f47c-48df-8461-16faf3444598                                                 []"
      ]
     },
     "execution_count": 150,
     "metadata": {},
     "output_type": "execute_result"
    }
   ],
   "source": [
    "has_interface_relations_df = okc.get_trait_relation_dataframe(okapiclient, trait_name=host_trait_name, relation_name=\"has_interface\", layers=[layer_name])\n",
    "has_interface_relations_df"
   ]
  },
  {
   "cell_type": "markdown",
   "metadata": {},
   "source": [
    "Fetch hosts and interfaces using dataframes "
   ]
  },
  {
   "cell_type": "code",
   "execution_count": 151,
   "metadata": {},
   "outputs": [
    {
     "data": {
      "text/html": [
       "<div>\n",
       "<style scoped>\n",
       "    .dataframe tbody tr th:only-of-type {\n",
       "        vertical-align: middle;\n",
       "    }\n",
       "\n",
       "    .dataframe tbody tr th {\n",
       "        vertical-align: top;\n",
       "    }\n",
       "\n",
       "    .dataframe thead th {\n",
       "        text-align: right;\n",
       "    }\n",
       "</style>\n",
       "<table border=\"1\" class=\"dataframe\">\n",
       "  <thead>\n",
       "    <tr style=\"text-align: right;\">\n",
       "      <th></th>\n",
       "      <th>id</th>\n",
       "    </tr>\n",
       "    <tr>\n",
       "      <th>ciid</th>\n",
       "      <th></th>\n",
       "    </tr>\n",
       "  </thead>\n",
       "  <tbody>\n",
       "    <tr>\n",
       "      <th>4cf115e2-ba43-4fd6-a8ce-969e6c536523</th>\n",
       "      <td>1</td>\n",
       "    </tr>\n",
       "    <tr>\n",
       "      <th>c1c01eb1-2883-4a8e-bd9d-645b68ed06fe</th>\n",
       "      <td>2</td>\n",
       "    </tr>\n",
       "    <tr>\n",
       "      <th>713dcb55-f47c-48df-8461-16faf3444598</th>\n",
       "      <td>3</td>\n",
       "    </tr>\n",
       "  </tbody>\n",
       "</table>\n",
       "</div>"
      ],
      "text/plain": [
       "                                      id\n",
       "ciid                                    \n",
       "4cf115e2-ba43-4fd6-a8ce-969e6c536523   1\n",
       "c1c01eb1-2883-4a8e-bd9d-645b68ed06fe   2\n",
       "713dcb55-f47c-48df-8461-16faf3444598   3"
      ]
     },
     "execution_count": 151,
     "metadata": {},
     "output_type": "execute_result"
    }
   ],
   "source": [
    "hosts_df = okc.get_all_traitentities_dataframe(okapiclient, trait_name=host_trait_name, layers=[layer_name])\n",
    "interfaces_df = okc.get_all_traitentities_dataframe(okapiclient, trait_name=interface_trait_name, layers=[layer_name])\n",
    "hosts_df"
   ]
  },
  {
   "cell_type": "code",
   "execution_count": 152,
   "metadata": {},
   "outputs": [
    {
     "data": {
      "text/plain": [
       "'ciid'"
      ]
     },
     "execution_count": 152,
     "metadata": {},
     "output_type": "execute_result"
    }
   ],
   "source": [
    "hosts_df.index.name"
   ]
  },
  {
   "cell_type": "code",
   "execution_count": 153,
   "metadata": {},
   "outputs": [
    {
     "data": {
      "text/plain": [
       "'base_ciid'"
      ]
     },
     "execution_count": 153,
     "metadata": {},
     "output_type": "execute_result"
    }
   ],
   "source": [
    "has_interface_relations_df.index.name"
   ]
  },
  {
   "cell_type": "markdown",
   "metadata": {},
   "source": [
    "Now merge the related data. In this case we can see how easy it is to merge related data using pandas dataframes"
   ]
  },
  {
   "cell_type": "code",
   "execution_count": 154,
   "metadata": {},
   "outputs": [
    {
     "data": {
      "text/html": [
       "<div>\n",
       "<style scoped>\n",
       "    .dataframe tbody tr th:only-of-type {\n",
       "        vertical-align: middle;\n",
       "    }\n",
       "\n",
       "    .dataframe tbody tr th {\n",
       "        vertical-align: top;\n",
       "    }\n",
       "\n",
       "    .dataframe thead th {\n",
       "        text-align: right;\n",
       "    }\n",
       "</style>\n",
       "<table border=\"1\" class=\"dataframe\">\n",
       "  <thead>\n",
       "    <tr style=\"text-align: right;\">\n",
       "      <th></th>\n",
       "      <th>id</th>\n",
       "      <th>related_ciids</th>\n",
       "    </tr>\n",
       "  </thead>\n",
       "  <tbody>\n",
       "    <tr>\n",
       "      <th>4cf115e2-ba43-4fd6-a8ce-969e6c536523</th>\n",
       "      <td>1</td>\n",
       "      <td>[1ec74667-2ebb-493c-87d1-8493b21c4f03, e702709...</td>\n",
       "    </tr>\n",
       "    <tr>\n",
       "      <th>c1c01eb1-2883-4a8e-bd9d-645b68ed06fe</th>\n",
       "      <td>2</td>\n",
       "      <td>[624d8bb8-3ea5-4573-98d0-3f9335357bd2]</td>\n",
       "    </tr>\n",
       "    <tr>\n",
       "      <th>713dcb55-f47c-48df-8461-16faf3444598</th>\n",
       "      <td>3</td>\n",
       "      <td>[]</td>\n",
       "    </tr>\n",
       "  </tbody>\n",
       "</table>\n",
       "</div>"
      ],
      "text/plain": [
       "                                      id  \\\n",
       "4cf115e2-ba43-4fd6-a8ce-969e6c536523   1   \n",
       "c1c01eb1-2883-4a8e-bd9d-645b68ed06fe   2   \n",
       "713dcb55-f47c-48df-8461-16faf3444598   3   \n",
       "\n",
       "                                                                          related_ciids  \n",
       "4cf115e2-ba43-4fd6-a8ce-969e6c536523  [1ec74667-2ebb-493c-87d1-8493b21c4f03, e702709...  \n",
       "c1c01eb1-2883-4a8e-bd9d-645b68ed06fe             [624d8bb8-3ea5-4573-98d0-3f9335357bd2]  \n",
       "713dcb55-f47c-48df-8461-16faf3444598                                                 []  "
      ]
     },
     "execution_count": 154,
     "metadata": {},
     "output_type": "execute_result"
    }
   ],
   "source": [
    "hosts_with_relations_df = hosts_df.merge(has_interface_relations_df, left_index=True, right_index=True, how='outer')\n",
    "hosts_with_relations_df"
   ]
  },
  {
   "cell_type": "markdown",
   "metadata": {},
   "source": [
    "We can create a multi index dataframe which includes interfaces information"
   ]
  },
  {
   "cell_type": "code",
   "execution_count": 155,
   "metadata": {},
   "outputs": [
    {
     "data": {
      "text/html": [
       "<div>\n",
       "<style scoped>\n",
       "    .dataframe tbody tr th:only-of-type {\n",
       "        vertical-align: middle;\n",
       "    }\n",
       "\n",
       "    .dataframe tbody tr th {\n",
       "        vertical-align: top;\n",
       "    }\n",
       "\n",
       "    .dataframe thead th {\n",
       "        text-align: right;\n",
       "    }\n",
       "</style>\n",
       "<table border=\"1\" class=\"dataframe\">\n",
       "  <thead>\n",
       "    <tr style=\"text-align: right;\">\n",
       "      <th></th>\n",
       "      <th>ciid</th>\n",
       "      <th>id</th>\n",
       "      <th>related_ciids</th>\n",
       "    </tr>\n",
       "  </thead>\n",
       "  <tbody>\n",
       "    <tr>\n",
       "      <th>0</th>\n",
       "      <td>4cf115e2-ba43-4fd6-a8ce-969e6c536523</td>\n",
       "      <td>1</td>\n",
       "      <td>1ec74667-2ebb-493c-87d1-8493b21c4f03</td>\n",
       "    </tr>\n",
       "    <tr>\n",
       "      <th>1</th>\n",
       "      <td>4cf115e2-ba43-4fd6-a8ce-969e6c536523</td>\n",
       "      <td>1</td>\n",
       "      <td>e702709b-dbc1-482c-8bd0-9db5925fd870</td>\n",
       "    </tr>\n",
       "    <tr>\n",
       "      <th>2</th>\n",
       "      <td>c1c01eb1-2883-4a8e-bd9d-645b68ed06fe</td>\n",
       "      <td>2</td>\n",
       "      <td>624d8bb8-3ea5-4573-98d0-3f9335357bd2</td>\n",
       "    </tr>\n",
       "    <tr>\n",
       "      <th>3</th>\n",
       "      <td>713dcb55-f47c-48df-8461-16faf3444598</td>\n",
       "      <td>3</td>\n",
       "      <td>NaN</td>\n",
       "    </tr>\n",
       "  </tbody>\n",
       "</table>\n",
       "</div>"
      ],
      "text/plain": [
       "                                   ciid  id  \\\n",
       "0  4cf115e2-ba43-4fd6-a8ce-969e6c536523   1   \n",
       "1  4cf115e2-ba43-4fd6-a8ce-969e6c536523   1   \n",
       "2  c1c01eb1-2883-4a8e-bd9d-645b68ed06fe   2   \n",
       "3  713dcb55-f47c-48df-8461-16faf3444598   3   \n",
       "\n",
       "                          related_ciids  \n",
       "0  1ec74667-2ebb-493c-87d1-8493b21c4f03  \n",
       "1  e702709b-dbc1-482c-8bd0-9db5925fd870  \n",
       "2  624d8bb8-3ea5-4573-98d0-3f9335357bd2  \n",
       "3                                   NaN  "
      ]
     },
     "execution_count": 155,
     "metadata": {},
     "output_type": "execute_result"
    }
   ],
   "source": [
    "df_exploded = hosts_with_relations_df.explode('related_ciids').reset_index()\n",
    "df_exploded = df_exploded.rename(columns={df_exploded.columns[0]: 'ciid'})\n",
    "df_exploded"
   ]
  },
  {
   "cell_type": "code",
   "execution_count": 156,
   "metadata": {},
   "outputs": [
    {
     "data": {
      "text/html": [
       "<div>\n",
       "<style scoped>\n",
       "    .dataframe tbody tr th:only-of-type {\n",
       "        vertical-align: middle;\n",
       "    }\n",
       "\n",
       "    .dataframe tbody tr th {\n",
       "        vertical-align: top;\n",
       "    }\n",
       "\n",
       "    .dataframe thead th {\n",
       "        text-align: right;\n",
       "    }\n",
       "</style>\n",
       "<table border=\"1\" class=\"dataframe\">\n",
       "  <thead>\n",
       "    <tr style=\"text-align: right;\">\n",
       "      <th></th>\n",
       "      <th></th>\n",
       "      <th>id_host</th>\n",
       "      <th>id_interface</th>\n",
       "    </tr>\n",
       "    <tr>\n",
       "      <th>ciid</th>\n",
       "      <th>related_ciids</th>\n",
       "      <th></th>\n",
       "      <th></th>\n",
       "    </tr>\n",
       "  </thead>\n",
       "  <tbody>\n",
       "    <tr>\n",
       "      <th rowspan=\"2\" valign=\"top\">4cf115e2-ba43-4fd6-a8ce-969e6c536523</th>\n",
       "      <th>1ec74667-2ebb-493c-87d1-8493b21c4f03</th>\n",
       "      <td>1</td>\n",
       "      <td>1.0</td>\n",
       "    </tr>\n",
       "    <tr>\n",
       "      <th>e702709b-dbc1-482c-8bd0-9db5925fd870</th>\n",
       "      <td>1</td>\n",
       "      <td>2.0</td>\n",
       "    </tr>\n",
       "    <tr>\n",
       "      <th>c1c01eb1-2883-4a8e-bd9d-645b68ed06fe</th>\n",
       "      <th>624d8bb8-3ea5-4573-98d0-3f9335357bd2</th>\n",
       "      <td>2</td>\n",
       "      <td>3.0</td>\n",
       "    </tr>\n",
       "    <tr>\n",
       "      <th>713dcb55-f47c-48df-8461-16faf3444598</th>\n",
       "      <th>NaN</th>\n",
       "      <td>3</td>\n",
       "      <td>NaN</td>\n",
       "    </tr>\n",
       "  </tbody>\n",
       "</table>\n",
       "</div>"
      ],
      "text/plain": [
       "                                                                           id_host  \\\n",
       "ciid                                 related_ciids                                   \n",
       "4cf115e2-ba43-4fd6-a8ce-969e6c536523 1ec74667-2ebb-493c-87d1-8493b21c4f03        1   \n",
       "                                     e702709b-dbc1-482c-8bd0-9db5925fd870        1   \n",
       "c1c01eb1-2883-4a8e-bd9d-645b68ed06fe 624d8bb8-3ea5-4573-98d0-3f9335357bd2        2   \n",
       "713dcb55-f47c-48df-8461-16faf3444598 NaN                                         3   \n",
       "\n",
       "                                                                           id_interface  \n",
       "ciid                                 related_ciids                                       \n",
       "4cf115e2-ba43-4fd6-a8ce-969e6c536523 1ec74667-2ebb-493c-87d1-8493b21c4f03           1.0  \n",
       "                                     e702709b-dbc1-482c-8bd0-9db5925fd870           2.0  \n",
       "c1c01eb1-2883-4a8e-bd9d-645b68ed06fe 624d8bb8-3ea5-4573-98d0-3f9335357bd2           3.0  \n",
       "713dcb55-f47c-48df-8461-16faf3444598 NaN                                            NaN  "
      ]
     },
     "execution_count": 156,
     "metadata": {},
     "output_type": "execute_result"
    }
   ],
   "source": [
    "merged_df = pd.merge(df_exploded, interfaces_df, left_on='related_ciids', right_on='ciid', how='left', suffixes=('_host', '_interface'))\n",
    "merged_df.set_index(['ciid', 'related_ciids'], inplace=True)\n",
    "merged_df"
   ]
  }
 ],
 "metadata": {
  "kernelspec": {
   "display_name": ".venv",
   "language": "python",
   "name": "python3"
  },
  "language_info": {
   "codemirror_mode": {
    "name": "ipython",
    "version": 3
   },
   "file_extension": ".py",
   "mimetype": "text/x-python",
   "name": "python",
   "nbconvert_exporter": "python",
   "pygments_lexer": "ipython3",
   "version": "3.12.0"
  }
 },
 "nbformat": 4,
 "nbformat_minor": 2
}
