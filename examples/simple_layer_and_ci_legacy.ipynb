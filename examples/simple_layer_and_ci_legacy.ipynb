{
 "cells": [
  {
   "cell_type": "markdown",
   "metadata": {},
   "source": [
    "# Simple Layer and CI Operations (Legacy Variant)\n",
    "\n",
    "this sample uses legacy functions which will be deprecated in future version, see [simple_layer_and_ci.ipynb](simple_layer_and_ci.ipynb)"
   ]
  },
  {
   "cell_type": "code",
   "execution_count": 1,
   "metadata": {},
   "outputs": [],
   "source": [
    "# import basic functions\n",
    "from omnikeeper_client.functions import (\n",
    "    get_access_token,\n",
    "    create_graphql_client,\n",
    "    create_layer,\n",
    "    upsert_layerdata,\n",
    "    hexString2RGBColor,\n",
    "    mutate_cis,\n",
    "    get_ci_attributes,\n",
    "    build_graphQL_InsertCIAttributeInputType,\n",
    "    create_ci,\n",
    "    truncate_layer\n",
    ")\n",
    "import os"
   ]
  },
  {
   "cell_type": "markdown",
   "metadata": {},
   "source": [
    "create a omnikeeper client\n",
    "\n",
    "**TODO**: bring access token to request level instead of only static at creation - this will fail for long running apps"
   ]
  },
  {
   "cell_type": "code",
   "execution_count": 2,
   "metadata": {},
   "outputs": [
    {
     "name": "stderr",
     "output_type": "stream",
     "text": [
      "/tmp/ipykernel_30323/1603544891.py:7: FutureWarning: Call to deprecated function (or staticmethod) get_access_token. (please use OkApiClient() to access Omnikeeper, you should not need any access tokens)\n",
      "  access_token = get_access_token(config)\n",
      "/tmp/ipykernel_30323/1603544891.py:8: FutureWarning: Call to deprecated function (or staticmethod) create_graphql_client. (please use OkApiClient() to access Omnikeeper, you should not need a raw gql Client but if really needed, use  OkApiClient()._get_graphql_client())\n",
      "  client = create_graphql_client(\"%s/graphql\" % config['omnikeeper_url'], access_token)\n"
     ]
    }
   ],
   "source": [
    "config = dict(\n",
    "    omnikeeper_url=os.getenv('OMNIKEEPER_URL'),\n",
    "    client_id=os.getenv('OMNIKEEPER_AUTH_CLIENTID'),\n",
    "    username=os.getenv('OMNIKEEPER_AUTH_USERNAME'),\n",
    "    password=os.getenv('OMNIKEEPER_AUTH_PASSWORD'),\n",
    ")\n",
    "access_token = get_access_token(config)\n",
    "client = create_graphql_client(\"%s/graphql\" % config['omnikeeper_url'], access_token)\n"
   ]
  },
  {
   "cell_type": "markdown",
   "metadata": {},
   "source": [
    "now create a layer for holding our attributes:\n",
    "- create/name it\n",
    "- set description and color it\n",
    "- clear all data from layer (if it already exists)\n",
    "\n",
    "those steps are idempotent since we use upsert and create_layer does not throw an error if it already existed\n"
   ]
  },
  {
   "cell_type": "code",
   "execution_count": 3,
   "metadata": {},
   "outputs": [
    {
     "name": "stderr",
     "output_type": "stream",
     "text": [
      "/tmp/ipykernel_30323/3221796558.py:4: FutureWarning: Call to deprecated function (or staticmethod) create_layer. (please use omnikeeper_client.* public functions instead)\n",
      "  create_layer(client, target_layer)\n",
      "/usr/src/devpad/max-bytes/omnikeeper-client-python/src/omnikeeper_client/functions.py:86: FutureWarning: Call to deprecated function (or staticmethod) execute_graphql. (please use OkApiClient().execute_graphql() instead)\n",
      "  execute_graphql(client, query, variables=dict(id=layer_id))\n",
      "/tmp/ipykernel_30323/3221796558.py:5: FutureWarning: Call to deprecated function (or staticmethod) hexString2RGBColor. (please use omnikeeper_client.* public functions instead)\n",
      "  upsert_layerdata(client, target_layer, \"description\", hexString2RGBColor(\"#353973\"))\n",
      "/tmp/ipykernel_30323/3221796558.py:5: FutureWarning: Call to deprecated function (or staticmethod) upsert_layerdata. (please use omnikeeper_client.* public functions instead)\n",
      "  upsert_layerdata(client, target_layer, \"description\", hexString2RGBColor(\"#353973\"))\n",
      "/usr/src/devpad/max-bytes/omnikeeper-client-python/src/omnikeeper_client/functions.py:113: FutureWarning: Call to deprecated function (or staticmethod) execute_graphql. (please use OkApiClient().execute_graphql() instead)\n",
      "  execute_graphql(client, query, variables=dict(id=layer_id, description=description, color=argbColor))\n",
      "/tmp/ipykernel_30323/3221796558.py:8: FutureWarning: Call to deprecated function (or staticmethod) truncate_layer. (please use omnikeeper_client.* public functions instead)\n",
      "  truncate_layer(client, target_layer)\n",
      "/usr/src/devpad/max-bytes/omnikeeper-client-python/src/omnikeeper_client/functions.py:96: FutureWarning: Call to deprecated function (or staticmethod) execute_graphql. (please use OkApiClient().execute_graphql() instead)\n",
      "  execute_graphql(client, query, variables=dict(id=layer_id))\n"
     ]
    },
    {
     "data": {
      "text/plain": [
       "True"
      ]
     },
     "execution_count": 3,
     "metadata": {},
     "output_type": "execute_result"
    }
   ],
   "source": [
    "target_layer = \"testlayer\"\n",
    "\n",
    "# create layer, if it does not exist and set layer data\n",
    "create_layer(client, target_layer)\n",
    "upsert_layerdata(client, target_layer, \"description\", hexString2RGBColor(\"#353973\"))\n",
    "\n",
    "# empty layer, if anything is inside\n",
    "truncate_layer(client, target_layer)\n"
   ]
  },
  {
   "cell_type": "markdown",
   "metadata": {},
   "source": [
    "create a named CI and store attributes to it"
   ]
  },
  {
   "cell_type": "code",
   "execution_count": 4,
   "metadata": {},
   "outputs": [
    {
     "name": "stderr",
     "output_type": "stream",
     "text": [
      "/tmp/ipykernel_30323/1544185895.py:2: FutureWarning: Call to deprecated function (or staticmethod) create_ci. (please use omnikeeper_client.* public functions instead)\n",
      "  ciid1 = create_ci(client, \"test-ci01\", target_layer)\n",
      "/usr/src/devpad/max-bytes/omnikeeper-client-python/src/omnikeeper_client/functions.py:182: FutureWarning: Call to deprecated function (or staticmethod) execute_graphql. (please use OkApiClient().execute_graphql() instead)\n",
      "  result = execute_graphql(client, query, variables=dict(\n",
      "/tmp/ipykernel_30323/1544185895.py:5: FutureWarning: Call to deprecated function (or staticmethod) build_graphQL_InsertCIAttributeInputType. (please use omnikeeper_client.typing.dict_to_attributes() instead)\n",
      "  mutate_cis(client, target_layer, [target_layer], [build_graphQL_InsertCIAttributeInputType(ciid1, \"test_attribute_1\", \"test_value_1\")])\n",
      "/tmp/ipykernel_30323/1544185895.py:5: FutureWarning: Call to deprecated function (or staticmethod) mutate_cis. (please use omnikeeper_client.* public functions instead)\n",
      "  mutate_cis(client, target_layer, [target_layer], [build_graphQL_InsertCIAttributeInputType(ciid1, \"test_attribute_1\", \"test_value_1\")])\n",
      "/usr/src/devpad/max-bytes/omnikeeper-client-python/src/omnikeeper_client/functions.py:169: FutureWarning: Call to deprecated function (or staticmethod) execute_graphql. (please use OkApiClient().execute_graphql() instead)\n",
      "  result = execute_graphql(client, query, variables=dict(\n"
     ]
    },
    {
     "name": "stdout",
     "output_type": "stream",
     "text": [
      "CI id=6842f350-7837-496a-adb3-5a2552ac232e created\n"
     ]
    }
   ],
   "source": [
    "# create a single CI with a name attribute\n",
    "ciid1 = create_ci(client, \"test-ci01\", target_layer)\n",
    "\n",
    "# insert an attribute\n",
    "mutate_cis(client, target_layer, [target_layer], [build_graphQL_InsertCIAttributeInputType(ciid1, \"test_attribute_1\", \"test_value_1\")])\n",
    "\n",
    "print (f\"CI id={ciid1} created\")\n"
   ]
  },
  {
   "cell_type": "markdown",
   "metadata": {},
   "source": [
    "This CI should appear now in technical interface, mutate it there and check your modified attributes using this code:"
   ]
  },
  {
   "cell_type": "code",
   "execution_count": 5,
   "metadata": {},
   "outputs": [
    {
     "name": "stdout",
     "output_type": "stream",
     "text": [
      "{'6842f350-7837-496a-adb3-5a2552ac232e': {'__name': 'test-ci01', 'test_attribute_1': 'test_value_1'}}\n"
     ]
    },
    {
     "name": "stderr",
     "output_type": "stream",
     "text": [
      "/tmp/ipykernel_30323/3164626094.py:2: FutureWarning: Call to deprecated function (or staticmethod) get_ci_attributes. (please use omnikeeper_client.* public functions instead)\n",
      "  ci_attributes = get_ci_attributes(client, [target_layer], [ciid1])\n",
      "/usr/src/devpad/max-bytes/omnikeeper-client-python/src/omnikeeper_client/functions.py:142: FutureWarning: Call to deprecated function (or staticmethod) execute_graphql. (please use OkApiClient().execute_graphql() instead)\n",
      "  result = execute_graphql(client, query, variables=dict(layers=layer_ids, ciids=list(map(lambda ciid: str(ciid), ciids))))\n",
      "/usr/src/devpad/max-bytes/omnikeeper-client-python/src/omnikeeper_client/functions.py:144: FutureWarning: Call to deprecated function (or staticmethod) graphQL_merged_attributes_to_simple_attributes. (please use omnikeeper_client.typing.attributes_to_dict() instead)\n",
      "  cis = {ci['id']:graphQL_merged_attributes_to_simple_attributes(ci['mergedAttributes']) for ci in result['cis']}\n"
     ]
    }
   ],
   "source": [
    "# read CI\n",
    "ci_attributes = get_ci_attributes(client, [target_layer], [ciid1])\n",
    "\n",
    "print(ci_attributes)"
   ]
  }
 ],
 "metadata": {
  "kernelspec": {
   "display_name": ".venv",
   "language": "python",
   "name": "python3"
  },
  "language_info": {
   "codemirror_mode": {
    "name": "ipython",
    "version": 3
   },
   "file_extension": ".py",
   "mimetype": "text/x-python",
   "name": "python",
   "nbconvert_exporter": "python",
   "pygments_lexer": "ipython3",
   "version": "3.8.10"
  }
 },
 "nbformat": 4,
 "nbformat_minor": 2
}
