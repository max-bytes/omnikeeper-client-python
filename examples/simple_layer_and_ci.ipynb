{
 "cells": [
  {
   "cell_type": "markdown",
   "metadata": {},
   "source": [
    "# Simple Layer and CI Operations"
   ]
  },
  {
   "cell_type": "code",
   "execution_count": 7,
   "metadata": {},
   "outputs": [],
   "source": [
    "# import basic functions\n",
    "from omnikeeper_client.functions import (\n",
    "    get_access_token,\n",
    "    create_graphql_client,\n",
    "    create_layer,\n",
    "    upsert_layerdata,\n",
    "    hexString2RGBColor,\n",
    "    mutate_cis,\n",
    "    get_ci_attributes,\n",
    "    build_graphQL_InsertCIAttributeInputType,\n",
    "    create_ci,\n",
    "    truncate_layer\n",
    ")\n",
    "import os"
   ]
  },
  {
   "cell_type": "markdown",
   "metadata": {},
   "source": [
    "create a omnikeeper client\n",
    "\n",
    "**TODO**: bring access token to request level instead of only static at creation - this will fail for long running apps"
   ]
  },
  {
   "cell_type": "code",
   "execution_count": 8,
   "metadata": {},
   "outputs": [
    {
     "name": "stderr",
     "output_type": "stream",
     "text": [
      "/tmp/ipykernel_14735/1603544891.py:8: FutureWarning: Call to deprecated function (or staticmethod) create_graphql_client. (please use xyz instead) -- Deprecated since version 3.5.0.\n",
      "  client = create_graphql_client(\"%s/graphql\" % config['omnikeeper_url'], access_token)\n"
     ]
    }
   ],
   "source": [
    "config = dict(\n",
    "    omnikeeper_url=os.getenv('OMNIKEEPER_URL'),\n",
    "    client_id=os.getenv('OMNIKEEPER_AUTH_CLIENTID'),\n",
    "    username=os.getenv('OMNIKEEPER_AUTH_USERNAME'),\n",
    "    password=os.getenv('OMNIKEEPER_AUTH_PASSWORD'),\n",
    ")\n",
    "access_token = get_access_token(config)\n",
    "client = create_graphql_client(\"%s/graphql\" % config['omnikeeper_url'], access_token)\n"
   ]
  },
  {
   "cell_type": "markdown",
   "metadata": {},
   "source": [
    "now create a layer for holding our attributes:\n",
    "- create/name it\n",
    "- set description and color it\n",
    "- clear all data from layer (if it already exists)\n",
    "\n",
    "those steps are idempotent since we use upsert and create_layer does not throw an error if it already existed\n"
   ]
  },
  {
   "cell_type": "code",
   "execution_count": 9,
   "metadata": {},
   "outputs": [
    {
     "data": {
      "text/plain": [
       "True"
      ]
     },
     "execution_count": 9,
     "metadata": {},
     "output_type": "execute_result"
    }
   ],
   "source": [
    "target_layer = \"testlayer\"\n",
    "\n",
    "# create layer, if it does not exist and set layer data\n",
    "create_layer(client, target_layer)\n",
    "upsert_layerdata(client, target_layer, \"description\", hexString2RGBColor(\"#353973\"))\n",
    "\n",
    "# empty layer, if anything is inside\n",
    "truncate_layer(client, target_layer)\n"
   ]
  },
  {
   "cell_type": "markdown",
   "metadata": {},
   "source": [
    "create a named CI and store attributes to it"
   ]
  },
  {
   "cell_type": "code",
   "execution_count": 10,
   "metadata": {},
   "outputs": [
    {
     "name": "stdout",
     "output_type": "stream",
     "text": [
      "CI id=cdcf4c3d-ae1b-4216-9119-81eb26dd12f3 created\n"
     ]
    }
   ],
   "source": [
    "# create a single CI with a name attribute\n",
    "ciid1 = create_ci(client, \"test-ci01\", target_layer)\n",
    "\n",
    "# insert an attribute\n",
    "mutate_cis(client, target_layer, [target_layer], [build_graphQL_InsertCIAttributeInputType(ciid1, \"test_attribute_1\", \"test_value_1\")])\n",
    "\n",
    "print (f\"CI id={ciid1} created\")\n"
   ]
  },
  {
   "cell_type": "markdown",
   "metadata": {},
   "source": [
    "This CI should appear now in technical interface, mutate it there and check your modified attributes using this code:"
   ]
  },
  {
   "cell_type": "code",
   "execution_count": 11,
   "metadata": {},
   "outputs": [
    {
     "name": "stdout",
     "output_type": "stream",
     "text": [
      "{'cdcf4c3d-ae1b-4216-9119-81eb26dd12f3': {'__name': 'test-ci01', 'test_attribute_1': 'test_value_1'}}\n"
     ]
    }
   ],
   "source": [
    "# read CI\n",
    "ci_attributes = get_ci_attributes(client, [target_layer], [ciid1])\n",
    "\n",
    "print(ci_attributes)"
   ]
  }
 ],
 "metadata": {
  "kernelspec": {
   "display_name": ".venv",
   "language": "python",
   "name": "python3"
  },
  "language_info": {
   "codemirror_mode": {
    "name": "ipython",
    "version": 3
   },
   "file_extension": ".py",
   "mimetype": "text/x-python",
   "name": "python",
   "nbconvert_exporter": "python",
   "pygments_lexer": "ipython3",
   "version": "3.8.10"
  }
 },
 "nbformat": 4,
 "nbformat_minor": 2
}
