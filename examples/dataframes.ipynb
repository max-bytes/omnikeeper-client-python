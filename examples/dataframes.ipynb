{
 "cells": [
  {
   "cell_type": "markdown",
   "metadata": {},
   "source": [
    "# Demonstrate Interaction of pandas Dataframes and omnikeeper"
   ]
  },
  {
   "cell_type": "code",
   "execution_count": 107,
   "metadata": {},
   "outputs": [],
   "source": [
    "\n",
    "from omnikeeper_client.functions import get_access_token, create_graphql_client, create_logger, execute_graphql\n",
    "from omnikeeper_client import simple_traits\n",
    "import os\n",
    "import uuid"
   ]
  },
  {
   "cell_type": "markdown",
   "metadata": {},
   "source": [
    "define some nameings"
   ]
  },
  {
   "cell_type": "code",
   "execution_count": 119,
   "metadata": {},
   "outputs": [],
   "source": [
    "trait_name = \"python_client_demo.test\"\n",
    "layer_name = \"testlayer\""
   ]
  },
  {
   "cell_type": "markdown",
   "metadata": {},
   "source": [
    "as usual create our client"
   ]
  },
  {
   "cell_type": "code",
   "execution_count": 121,
   "metadata": {},
   "outputs": [],
   "source": [
    "config = dict(\n",
    "    omnikeeper_url=os.getenv('OMNIKEEPER_URL'),\n",
    "    client_id=os.getenv('OMNIKEEPER_AUTH_CLIENTID'),\n",
    "    username=os.getenv('OMNIKEEPER_AUTH_USERNAME'),\n",
    "    password=os.getenv('OMNIKEEPER_AUTH_PASSWORD'),\n",
    ")\n",
    "access_token = get_access_token(config)\n",
    "client = create_graphql_client(\"%s/graphql\" % config['omnikeeper_url'], access_token)"
   ]
  },
  {
   "cell_type": "markdown",
   "metadata": {},
   "source": [
    "ensure trait ``python_client_demo.test`` exists, define a function to interact with traits - this is obviosly somthing to be pushed to api/sdk ;-)"
   ]
  },
  {
   "cell_type": "code",
   "execution_count": 74,
   "metadata": {},
   "outputs": [],
   "source": [
    "from gql import gql, Client\n",
    "\n",
    "def upsert_test_trait(client: Client):\n",
    "    # create trait\n",
    "    execute_graphql(client, gql(\"\"\"\n",
    "    mutation {\n",
    "      manage_upsertRecursiveTrait(\n",
    "        trait: {\n",
    "          id: \"python_client_demo.test\"\n",
    "          requiredAttributes: [\n",
    "            {\n",
    "              identifier:\"id\",\n",
    "              template: {\n",
    "                name:\"test.id\",\n",
    "                type:INTEGER,\n",
    "                isArray:false,\n",
    "                isID:false,\n",
    "                valueConstraints:[]\n",
    "              }\n",
    "            },\n",
    "            {\n",
    "              identifier:\"array\",\n",
    "              template: {\n",
    "                name:\"test.array\",\n",
    "                type:TEXT,\n",
    "                isArray:true,\n",
    "                isID:false,\n",
    "                valueConstraints:[]\n",
    "              }\n",
    "            },\n",
    "            {\n",
    "              identifier:\"some_key\",\n",
    "              template: {\n",
    "                name:\"test.mapped_some_key\",\n",
    "                type:TEXT,\n",
    "                isArray:false,\n",
    "                isID:false,\n",
    "                valueConstraints:[]\n",
    "              }\n",
    "            }\n",
    "\n",
    "          ]\n",
    "          optionalAttributes: []\n",
    "          optionalRelations: []\n",
    "          requiredTraits: []\n",
    "        }\n",
    "      ) {\n",
    "        id\n",
    "      }\n",
    "    }\n",
    "    \"\"\"))\n",
    "\n",
    "\n",
    "upsert_test_trait(client)    "
   ]
  },
  {
   "cell_type": "markdown",
   "metadata": {},
   "source": [
    "create a test DataFrame"
   ]
  },
  {
   "cell_type": "code",
   "execution_count": 122,
   "metadata": {},
   "outputs": [
    {
     "data": {
      "text/html": [
       "<div>\n",
       "<style scoped>\n",
       "    .dataframe tbody tr th:only-of-type {\n",
       "        vertical-align: middle;\n",
       "    }\n",
       "\n",
       "    .dataframe tbody tr th {\n",
       "        vertical-align: top;\n",
       "    }\n",
       "\n",
       "    .dataframe thead th {\n",
       "        text-align: right;\n",
       "    }\n",
       "</style>\n",
       "<table border=\"1\" class=\"dataframe\">\n",
       "  <thead>\n",
       "    <tr style=\"text-align: right;\">\n",
       "      <th></th>\n",
       "      <th>id</th>\n",
       "      <th>array</th>\n",
       "      <th>some_key</th>\n",
       "    </tr>\n",
       "  </thead>\n",
       "  <tbody>\n",
       "    <tr>\n",
       "      <th>0</th>\n",
       "      <td>1</td>\n",
       "      <td>[a, b]</td>\n",
       "      <td>Value 1</td>\n",
       "    </tr>\n",
       "    <tr>\n",
       "      <th>1</th>\n",
       "      <td>3</td>\n",
       "      <td>[c, d]</td>\n",
       "      <td>another Value</td>\n",
       "    </tr>\n",
       "  </tbody>\n",
       "</table>\n",
       "</div>"
      ],
      "text/plain": [
       "   id   array       some_key\n",
       "0   1  [a, b]        Value 1\n",
       "1   3  [c, d]  another Value"
      ]
     },
     "execution_count": 122,
     "metadata": {},
     "output_type": "execute_result"
    }
   ],
   "source": [
    "import pandas as pd\n",
    "\n",
    "df_init = pd.DataFrame.from_records([\n",
    "    {\"id\": 1, \"array\": [\"a\", \"b\"], \"some_key\": \"Value 1\"},\n",
    "    {\"id\": 3, \"array\": [\"c\", \"d\"], \"some_key\": \"another Value\"},\n",
    "])\n",
    "\n",
    "df_init"
   ]
  },
  {
   "cell_type": "markdown",
   "metadata": {},
   "source": [
    "now write data to layer ``testlayer`` (ensure it exists from previuos samples)"
   ]
  },
  {
   "cell_type": "code",
   "execution_count": 123,
   "metadata": {},
   "outputs": [
    {
     "data": {
      "text/plain": [
       "True"
      ]
     },
     "execution_count": 123,
     "metadata": {},
     "output_type": "execute_result"
    }
   ],
   "source": [
    "# insert that new data, this will also delete all old trait entities, if there are any\n",
    "simple_traits.bulk_replace(client, trait_name=trait_name, input=df_init, id_attributes=[\"id\"], id_relations=[], write_layer=layer_name, filter={})"
   ]
  },
  {
   "cell_type": "markdown",
   "metadata": {},
   "source": [
    "load dataframe again"
   ]
  },
  {
   "cell_type": "code",
   "execution_count": 124,
   "metadata": {},
   "outputs": [
    {
     "data": {
      "text/html": [
       "<div>\n",
       "<style scoped>\n",
       "    .dataframe tbody tr th:only-of-type {\n",
       "        vertical-align: middle;\n",
       "    }\n",
       "\n",
       "    .dataframe tbody tr th {\n",
       "        vertical-align: top;\n",
       "    }\n",
       "\n",
       "    .dataframe thead th {\n",
       "        text-align: right;\n",
       "    }\n",
       "</style>\n",
       "<table border=\"1\" class=\"dataframe\">\n",
       "  <thead>\n",
       "    <tr style=\"text-align: right;\">\n",
       "      <th></th>\n",
       "      <th>id</th>\n",
       "      <th>array</th>\n",
       "      <th>some_key</th>\n",
       "    </tr>\n",
       "    <tr>\n",
       "      <th>ciid</th>\n",
       "      <th></th>\n",
       "      <th></th>\n",
       "      <th></th>\n",
       "    </tr>\n",
       "  </thead>\n",
       "  <tbody>\n",
       "    <tr>\n",
       "      <th>3fd8cba5-f35b-4e5c-a88f-f8f1645e3445</th>\n",
       "      <td>3</td>\n",
       "      <td>[c, d]</td>\n",
       "      <td>another Value</td>\n",
       "    </tr>\n",
       "    <tr>\n",
       "      <th>7cecf6f8-c5a8-476c-8d20-f46f8dd2657e</th>\n",
       "      <td>1</td>\n",
       "      <td>[a, b]</td>\n",
       "      <td>Value 1</td>\n",
       "    </tr>\n",
       "  </tbody>\n",
       "</table>\n",
       "</div>"
      ],
      "text/plain": [
       "                                      id   array       some_key\n",
       "ciid                                                           \n",
       "3fd8cba5-f35b-4e5c-a88f-f8f1645e3445   3  [c, d]  another Value\n",
       "7cecf6f8-c5a8-476c-8d20-f46f8dd2657e   1  [a, b]        Value 1"
      ]
     },
     "execution_count": 124,
     "metadata": {},
     "output_type": "execute_result"
    }
   ],
   "source": [
    "# get that data back out from omnikeeper\n",
    "# what we get back has an index that's the CIID of the corresponding CI\n",
    "\n",
    "df_work = simple_traits.get_all(client, trait_name=trait_name, layers=[layer_name])\n",
    "df_work"
   ]
  },
  {
   "cell_type": "markdown",
   "metadata": {},
   "source": [
    "modify our dataframe"
   ]
  },
  {
   "cell_type": "code",
   "execution_count": 125,
   "metadata": {},
   "outputs": [
    {
     "data": {
      "text/html": [
       "<div>\n",
       "<style scoped>\n",
       "    .dataframe tbody tr th:only-of-type {\n",
       "        vertical-align: middle;\n",
       "    }\n",
       "\n",
       "    .dataframe tbody tr th {\n",
       "        vertical-align: top;\n",
       "    }\n",
       "\n",
       "    .dataframe thead th {\n",
       "        text-align: right;\n",
       "    }\n",
       "</style>\n",
       "<table border=\"1\" class=\"dataframe\">\n",
       "  <thead>\n",
       "    <tr style=\"text-align: right;\">\n",
       "      <th></th>\n",
       "      <th>id</th>\n",
       "      <th>array</th>\n",
       "      <th>some_key</th>\n",
       "    </tr>\n",
       "  </thead>\n",
       "  <tbody>\n",
       "    <tr>\n",
       "      <th>3fd8cba5-f35b-4e5c-a88f-f8f1645e3445</th>\n",
       "      <td>3</td>\n",
       "      <td>[a, b, z]</td>\n",
       "      <td>another Value</td>\n",
       "    </tr>\n",
       "    <tr>\n",
       "      <th>5e45e9b6-b9bc-4086-9ac8-4b24d3dea25e</th>\n",
       "      <td>4</td>\n",
       "      <td>[x]</td>\n",
       "      <td>the new guy</td>\n",
       "    </tr>\n",
       "  </tbody>\n",
       "</table>\n",
       "</div>"
      ],
      "text/plain": [
       "                                      id      array       some_key\n",
       "3fd8cba5-f35b-4e5c-a88f-f8f1645e3445   3  [a, b, z]  another Value\n",
       "5e45e9b6-b9bc-4086-9ac8-4b24d3dea25e   4        [x]    the new guy"
      ]
     },
     "execution_count": 125,
     "metadata": {},
     "output_type": "execute_result"
    }
   ],
   "source": [
    "# change things in the returned data\n",
    "# change single value of existing data\n",
    "df_work.iat[0, df_work.columns.get_loc(\"array\")] = [\"a\", \"b\", \"z\"]\n",
    "# add a new row, using our own created CIID\n",
    "df_work = pd.concat([df_work, pd.DataFrame([{\"id\": 4, \"array\": [\"x\"], \"some_key\": \"the new guy\"}], index=[str(uuid.uuid4())])])\n",
    "# drop a row\n",
    "df_work.drop([df_work.index[1]], inplace = True)\n",
    "\n",
    "df_work"
   ]
  },
  {
   "cell_type": "markdown",
   "metadata": {},
   "source": [
    "write it back"
   ]
  },
  {
   "cell_type": "code",
   "execution_count": 127,
   "metadata": {},
   "outputs": [
    {
     "data": {
      "text/plain": [
       "True"
      ]
     },
     "execution_count": 127,
     "metadata": {},
     "output_type": "execute_result"
    }
   ],
   "source": [
    "simple_traits.set_all(client, trait_name=trait_name, input=df_work, write_layer=layer_name)\n"
   ]
  },
  {
   "cell_type": "markdown",
   "metadata": {},
   "source": [
    "now compare it"
   ]
  },
  {
   "cell_type": "code",
   "execution_count": 128,
   "metadata": {},
   "outputs": [
    {
     "name": "stdout",
     "output_type": "stream",
     "text": [
      "Dataframes equal?: True\n"
     ]
    },
    {
     "data": {
      "text/html": [
       "<div>\n",
       "<style scoped>\n",
       "    .dataframe tbody tr th:only-of-type {\n",
       "        vertical-align: middle;\n",
       "    }\n",
       "\n",
       "    .dataframe tbody tr th {\n",
       "        vertical-align: top;\n",
       "    }\n",
       "\n",
       "    .dataframe thead th {\n",
       "        text-align: right;\n",
       "    }\n",
       "</style>\n",
       "<table border=\"1\" class=\"dataframe\">\n",
       "  <thead>\n",
       "    <tr style=\"text-align: right;\">\n",
       "      <th></th>\n",
       "      <th>id</th>\n",
       "      <th>array</th>\n",
       "      <th>some_key</th>\n",
       "    </tr>\n",
       "    <tr>\n",
       "      <th>ciid</th>\n",
       "      <th></th>\n",
       "      <th></th>\n",
       "      <th></th>\n",
       "    </tr>\n",
       "  </thead>\n",
       "  <tbody>\n",
       "    <tr>\n",
       "      <th>3fd8cba5-f35b-4e5c-a88f-f8f1645e3445</th>\n",
       "      <td>3</td>\n",
       "      <td>[a, b, z]</td>\n",
       "      <td>another Value</td>\n",
       "    </tr>\n",
       "    <tr>\n",
       "      <th>5e45e9b6-b9bc-4086-9ac8-4b24d3dea25e</th>\n",
       "      <td>4</td>\n",
       "      <td>[x]</td>\n",
       "      <td>the new guy</td>\n",
       "    </tr>\n",
       "  </tbody>\n",
       "</table>\n",
       "</div>"
      ],
      "text/plain": [
       "                                      id      array       some_key\n",
       "ciid                                                              \n",
       "3fd8cba5-f35b-4e5c-a88f-f8f1645e3445   3  [a, b, z]  another Value\n",
       "5e45e9b6-b9bc-4086-9ac8-4b24d3dea25e   4        [x]    the new guy"
      ]
     },
     "execution_count": 128,
     "metadata": {},
     "output_type": "execute_result"
    }
   ],
   "source": [
    "df_final = simple_traits.get_all(client, trait_name=trait_name, layers=[layer_name])\n",
    "\n",
    "print(f\"Dataframes equal?: {df_final.equals(df_work)}\") \n",
    "\n",
    "df_final\n"
   ]
  }
 ],
 "metadata": {
  "kernelspec": {
   "display_name": ".venv",
   "language": "python",
   "name": "python3"
  },
  "language_info": {
   "codemirror_mode": {
    "name": "ipython",
    "version": 3
   },
   "file_extension": ".py",
   "mimetype": "text/x-python",
   "name": "python",
   "nbconvert_exporter": "python",
   "pygments_lexer": "ipython3",
   "version": "3.8.10"
  }
 },
 "nbformat": 4,
 "nbformat_minor": 2
}
