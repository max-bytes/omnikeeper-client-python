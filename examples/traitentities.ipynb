{
 "cells": [
  {
   "cell_type": "code",
   "execution_count": 15,
   "metadata": {},
   "outputs": [],
   "source": [
    "import os\n",
    "import omnikeeper_client as okc\n",
    "from omnikeeper_client import TraitDefinition, TraitAttributeDefinition, ATTRIBUTETYPE_TEXT, ATTRIBUTETYPE_INTEGER\n",
    "from dotenv import load_dotenv"
   ]
  },
  {
   "cell_type": "code",
   "execution_count": 3,
   "metadata": {},
   "outputs": [
    {
     "data": {
      "text/plain": [
       "True"
      ]
     },
     "execution_count": 3,
     "metadata": {},
     "output_type": "execute_result"
    }
   ],
   "source": [
    "load_dotenv('../.env.sample')"
   ]
  },
  {
   "cell_type": "code",
   "execution_count": 4,
   "metadata": {},
   "outputs": [],
   "source": [
    "%load_ext autoreload\n",
    "%autoreload 2"
   ]
  },
  {
   "cell_type": "code",
   "execution_count": 5,
   "metadata": {},
   "outputs": [],
   "source": [
    "trait_name = \"python_client_demo.test\"\n",
    "layer_name = \"testlayer\""
   ]
  },
  {
   "cell_type": "markdown",
   "metadata": {},
   "source": [
    "create a omnikeeper client"
   ]
  },
  {
   "cell_type": "code",
   "execution_count": 6,
   "metadata": {},
   "outputs": [],
   "source": [
    "okapiclient = okc.OkApiClient(\n",
    "    backend_url=os.getenv('OMNIKEEPER_URL'),\n",
    "    client_id=os.getenv('OMNIKEEPER_AUTH_CLIENTID'),\n",
    "    username=os.getenv('OMNIKEEPER_AUTH_USERNAME'),\n",
    "    password=os.getenv('OMNIKEEPER_AUTH_PASSWORD'),\n",
    ")"
   ]
  },
  {
   "cell_type": "markdown",
   "metadata": {},
   "source": [
    "ensure trait exists"
   ]
  },
  {
   "cell_type": "code",
   "execution_count": null,
   "metadata": {},
   "outputs": [],
   "source": [
    "okc.upsert_trait(okapiclient, TraitDefinition(trait_name, [\n",
    "        TraitAttributeDefinition(\"id\", \"test.id\", ATTRIBUTETYPE_INTEGER),\n",
    "        TraitAttributeDefinition(\"array\", \"test.array\", ATTRIBUTETYPE_TEXT, is_array=True),\n",
    "        TraitAttributeDefinition(\"some_key\", \"test.mapped_some_key\", ATTRIBUTETYPE_TEXT),\n",
    "      ]))"
   ]
  },
  {
   "cell_type": "markdown",
   "metadata": {},
   "source": [
    "ensure layer exists"
   ]
  },
  {
   "cell_type": "code",
   "execution_count": null,
   "metadata": {},
   "outputs": [],
   "source": [
    "okc.create_layer(okapiclient, layer_name)"
   ]
  },
  {
   "cell_type": "markdown",
   "metadata": {},
   "source": [
    "Create the input data in format of **input : List[Dict[str,Any]]**"
   ]
  },
  {
   "cell_type": "code",
   "execution_count": 7,
   "metadata": {},
   "outputs": [
    {
     "data": {
      "text/plain": [
       "[{'id': 1, 'array': ['a', 'b'], 'some_key': 'Value 1'},\n",
       " {'id': 3, 'array': ['c', 'd'], 'some_key': 'another Value'}]"
      ]
     },
     "execution_count": 7,
     "metadata": {},
     "output_type": "execute_result"
    }
   ],
   "source": [
    "initial_data = [\n",
    "    {\"id\": 1, \"array\": [\"a\", \"b\"], \"some_key\": \"Value 1\"},\n",
    "    {\"id\": 3, \"array\": [\"c\", \"d\"], \"some_key\": \"another Value\"},\n",
    "]\n",
    "initial_data"
   ]
  },
  {
   "cell_type": "markdown",
   "metadata": {},
   "source": [
    "write data to layer ``testlayer``"
   ]
  },
  {
   "cell_type": "code",
   "execution_count": 10,
   "metadata": {},
   "outputs": [
    {
     "data": {
      "text/plain": [
       "True"
      ]
     },
     "execution_count": 10,
     "metadata": {},
     "output_type": "execute_result"
    }
   ],
   "source": [
    "# simple_traits.bulk_replace(client, trait_name=trait_name, input=df_init, id_attributes=[\"id\"], id_relations=[], write_layer=layer_name, filter={})\n",
    "\n",
    "okc.bulk_replace_trait_entities_by_filter(okapiclient, trait_name=trait_name, input=initial_data, id_attributes=[\"id\"], id_relations=[], write_layer=layer_name, filter={})"
   ]
  },
  {
   "cell_type": "markdown",
   "metadata": {},
   "source": [
    "load data again from omnikeeper"
   ]
  },
  {
   "cell_type": "code",
   "execution_count": 11,
   "metadata": {},
   "outputs": [
    {
     "data": {
      "text/plain": [
       "[{'ciid': '24cad39a-25ad-4bfb-b00d-28e4ff48a633',\n",
       "  'id': 1,\n",
       "  'array': ['a', 'b'],\n",
       "  'some_key': 'Value 1'},\n",
       " {'ciid': '5a91f180-f24f-4ed5-a9e8-8fa9d5b564bc',\n",
       "  'id': 3,\n",
       "  'array': ['c', 'd'],\n",
       "  'some_key': 'another Value'}]"
      ]
     },
     "execution_count": 11,
     "metadata": {},
     "output_type": "execute_result"
    }
   ],
   "source": [
    "# df_work = simple_traits.get_all(client, trait_name=trait_name, layers=[layer_name])\n",
    "\n",
    "updated_data = okc.get_all_traitentities(okapiclient, trait_name=trait_name, layers=[layer_name])\n",
    "updated_data"
   ]
  },
  {
   "cell_type": "markdown",
   "metadata": {},
   "source": [
    "modify the fetched traitentities"
   ]
  },
  {
   "cell_type": "code",
   "execution_count": 12,
   "metadata": {},
   "outputs": [
    {
     "data": {
      "text/plain": [
       "[{'ciid': '24cad39a-25ad-4bfb-b00d-28e4ff48a633',\n",
       "  'id': 1,\n",
       "  'array': ['a', 'b', 'z'],\n",
       "  'some_key': 'Value 1'},\n",
       " {'ciid': '79a734d4-2ce4-4c6e-b0c2-c5fb91597b97',\n",
       "  'id': 4,\n",
       "  'array': ['x'],\n",
       "  'some_key': 'the new guy'}]"
      ]
     },
     "execution_count": 12,
     "metadata": {},
     "output_type": "execute_result"
    }
   ],
   "source": [
    "# change things in the returned data\n",
    "# change single value of existing data\n",
    "updated_data[0][\"array\"] = [\"a\", \"b\", \"z\"]\n",
    "\n",
    "# add a new row, using our own created CIID\n",
    "updated_data.append({\"ciid\": str(uuid.uuid4()), \"id\": 4, \"array\": [\"x\"], \"some_key\": \"the new guy\"})\n",
    "\n",
    "# drop a row\n",
    "updated_data.pop(1)\n",
    "updated_data"
   ]
  },
  {
   "cell_type": "markdown",
   "metadata": {},
   "source": [
    "write it back"
   ]
  },
  {
   "cell_type": "code",
   "execution_count": 13,
   "metadata": {},
   "outputs": [
    {
     "data": {
      "text/plain": [
       "True"
      ]
     },
     "execution_count": 13,
     "metadata": {},
     "output_type": "execute_result"
    }
   ],
   "source": [
    "# simple_traits.set_all(client, trait_name=trait_name, input=df_work, write_layer=layer_name)\n",
    "\n",
    "okc.bulk_replace_trait_entities(okapiclient, trait_name=trait_name, input=updated_data, write_layer=layer_name)"
   ]
  },
  {
   "cell_type": "markdown",
   "metadata": {},
   "source": [
    "Fetch again the data"
   ]
  },
  {
   "cell_type": "code",
   "execution_count": 14,
   "metadata": {},
   "outputs": [
    {
     "data": {
      "text/plain": [
       "[{'ciid': '24cad39a-25ad-4bfb-b00d-28e4ff48a633',\n",
       "  'id': 1,\n",
       "  'array': ['a', 'b', 'z'],\n",
       "  'some_key': 'Value 1'},\n",
       " {'ciid': '79a734d4-2ce4-4c6e-b0c2-c5fb91597b97',\n",
       "  'id': 4,\n",
       "  'array': ['x'],\n",
       "  'some_key': 'the new guy'}]"
      ]
     },
     "execution_count": 14,
     "metadata": {},
     "output_type": "execute_result"
    }
   ],
   "source": [
    "# df_final = simple_traits.get_all(client, trait_name=trait_name, layers=[layer_name])\n",
    "\n",
    "final_data = okc.get_all_traitentities(okapiclient, trait_name=trait_name, layers=[layer_name])\n",
    "final_data"
   ]
  }
 ],
 "metadata": {
  "kernelspec": {
   "display_name": ".venv",
   "language": "python",
   "name": "python3"
  },
  "language_info": {
   "codemirror_mode": {
    "name": "ipython",
    "version": 3
   },
   "file_extension": ".py",
   "mimetype": "text/x-python",
   "name": "python",
   "nbconvert_exporter": "python",
   "pygments_lexer": "ipython3",
   "version": "3.10.6"
  }
 },
 "nbformat": 4,
 "nbformat_minor": 2
}
