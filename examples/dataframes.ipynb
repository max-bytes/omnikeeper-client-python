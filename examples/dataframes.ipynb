{
 "cells": [
  {
   "cell_type": "markdown",
   "metadata": {},
   "source": [
    "# Demonstrate Interaction of pandas Dataframes and omnikeeper"
   ]
  },
  {
   "cell_type": "code",
   "execution_count": 1,
   "metadata": {},
   "outputs": [],
   "source": [
    "\n",
    "import omnikeeper_client as okc\n",
    "from omnikeeper_client import simple_traits, TraitDefinition, TraitAttributeDefinition, ATTRIBUTETYPE_TEXT, ATTRIBUTETYPE_INTEGER\n",
    "import os\n",
    "import uuid"
   ]
  },
  {
   "cell_type": "markdown",
   "metadata": {},
   "source": [
    "define some nameings"
   ]
  },
  {
   "cell_type": "code",
   "execution_count": 2,
   "metadata": {},
   "outputs": [],
   "source": [
    "trait_name = \"python_client_demo.test\"\n",
    "layer_name = \"testlayer\""
   ]
  },
  {
   "cell_type": "markdown",
   "metadata": {},
   "source": [
    "as usual create our client"
   ]
  },
  {
   "cell_type": "code",
   "execution_count": 3,
   "metadata": {},
   "outputs": [],
   "source": [
    "okapiclient = okc.OkApiClient(\n",
    "    backend_url=os.getenv('OMNIKEEPER_URL'),\n",
    "    client_id=os.getenv('OMNIKEEPER_AUTH_CLIENTID'),\n",
    "    username=os.getenv('OMNIKEEPER_AUTH_USERNAME'),\n",
    "    password=os.getenv('OMNIKEEPER_AUTH_PASSWORD'),\n",
    ")\n"
   ]
  },
  {
   "cell_type": "markdown",
   "metadata": {},
   "source": [
    "ensure trait ``python_client_demo.test`` exists, define a function to interact with traits - this is obviosly somthing to be pushed to api/sdk ;-)"
   ]
  },
  {
   "cell_type": "code",
   "execution_count": 5,
   "metadata": {},
   "outputs": [
    {
     "data": {
      "text/plain": [
       "{'manage_upsertRecursiveTrait': {'id': 'python_client_demo.test'}}"
      ]
     },
     "execution_count": 5,
     "metadata": {},
     "output_type": "execute_result"
    }
   ],
   "source": [
    "okc.upsert_trait(okapiclient, TraitDefinition(trait_name, [\n",
    "        TraitAttributeDefinition(\"id\", \"test.id\", ATTRIBUTETYPE_INTEGER),\n",
    "        TraitAttributeDefinition(\"array\", \"test.array\", ATTRIBUTETYPE_TEXT),\n",
    "        TraitAttributeDefinition(\"some_key\", \"test.mapped_some_key\", ATTRIBUTETYPE_TEXT),\n",
    "      ]))"
   ]
  },
  {
   "cell_type": "markdown",
   "metadata": {},
   "source": [
    "TODO: example broken from here on down -> fix"
   ]
  },
  {
   "cell_type": "markdown",
   "metadata": {},
   "source": [
    "create a test DataFrame"
   ]
  },
  {
   "cell_type": "code",
   "execution_count": null,
   "metadata": {},
   "outputs": [],
   "source": [
    "import pandas as pd\n",
    "\n",
    "df_init = pd.DataFrame.from_records([\n",
    "    {\"id\": 1, \"array\": [\"a\", \"b\"], \"some_key\": \"Value 1\"},\n",
    "    {\"id\": 3, \"array\": [\"c\", \"d\"], \"some_key\": \"another Value\"},\n",
    "])\n",
    "\n",
    "df_init"
   ]
  },
  {
   "cell_type": "markdown",
   "metadata": {},
   "source": [
    "now write data to layer ``testlayer`` (ensure it exists from previuos samples)"
   ]
  },
  {
   "cell_type": "code",
   "execution_count": null,
   "metadata": {},
   "outputs": [],
   "source": [
    "# insert that new data, this will also delete all old trait entities, if there are any\n",
    "simple_traits.bulk_replace(client, trait_name=trait_name, input=df_init, id_attributes=[\"id\"], id_relations=[], write_layer=layer_name, filter={})"
   ]
  },
  {
   "cell_type": "markdown",
   "metadata": {},
   "source": [
    "load dataframe again"
   ]
  },
  {
   "cell_type": "code",
   "execution_count": null,
   "metadata": {},
   "outputs": [],
   "source": [
    "# get that data back out from omnikeeper\n",
    "# what we get back has an index that's the CIID of the corresponding CI\n",
    "\n",
    "df_work = simple_traits.get_all(client, trait_name=trait_name, layers=[layer_name])\n",
    "df_work"
   ]
  },
  {
   "cell_type": "markdown",
   "metadata": {},
   "source": [
    "modify our dataframe"
   ]
  },
  {
   "cell_type": "code",
   "execution_count": null,
   "metadata": {},
   "outputs": [],
   "source": [
    "# change things in the returned data\n",
    "# change single value of existing data\n",
    "df_work.iat[0, df_work.columns.get_loc(\"array\")] = [\"a\", \"b\", \"z\"]\n",
    "# add a new row, using our own created CIID\n",
    "df_work = pd.concat([df_work, pd.DataFrame([{\"id\": 4, \"array\": [\"x\"], \"some_key\": \"the new guy\"}], index=[str(uuid.uuid4())])])\n",
    "# drop a row\n",
    "df_work.drop([df_work.index[1]], inplace = True)\n",
    "\n",
    "df_work"
   ]
  },
  {
   "cell_type": "markdown",
   "metadata": {},
   "source": [
    "write it back"
   ]
  },
  {
   "cell_type": "code",
   "execution_count": null,
   "metadata": {},
   "outputs": [],
   "source": [
    "simple_traits.set_all(client, trait_name=trait_name, input=df_work, write_layer=layer_name)\n"
   ]
  },
  {
   "cell_type": "markdown",
   "metadata": {},
   "source": [
    "now compare it"
   ]
  },
  {
   "cell_type": "code",
   "execution_count": null,
   "metadata": {},
   "outputs": [],
   "source": [
    "df_final = simple_traits.get_all(client, trait_name=trait_name, layers=[layer_name])\n",
    "\n",
    "print(f\"Dataframes equal?: {df_final.equals(df_work)}\") \n",
    "\n",
    "df_final\n"
   ]
  }
 ],
 "metadata": {
  "kernelspec": {
   "display_name": ".venv",
   "language": "python",
   "name": "python3"
  },
  "language_info": {
   "codemirror_mode": {
    "name": "ipython",
    "version": 3
   },
   "file_extension": ".py",
   "mimetype": "text/x-python",
   "name": "python",
   "nbconvert_exporter": "python",
   "pygments_lexer": "ipython3",
   "version": "3.10.6"
  }
 },
 "nbformat": 4,
 "nbformat_minor": 2
}
