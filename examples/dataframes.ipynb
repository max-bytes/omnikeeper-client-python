{
 "cells": [
  {
   "cell_type": "markdown",
   "metadata": {},
   "source": [
    "# Demonstrate Interaction of pandas Dataframes and omnikeeper"
   ]
  },
  {
   "cell_type": "code",
   "execution_count": 1,
   "metadata": {},
   "outputs": [],
   "source": [
    "import os\n",
    "import omnikeeper_client as okc\n",
    "from omnikeeper_client import TraitDefinition, TraitAttributeDefinition, ATTRIBUTETYPE_TEXT, ATTRIBUTETYPE_INTEGER\n",
    "import uuid\n",
    "import pandas as pd"
   ]
  },
  {
   "cell_type": "code",
   "execution_count": 2,
   "metadata": {},
   "outputs": [],
   "source": [
    "trait_id = \"python_client_demo.test\"\n",
    "layer_id = \"testlayer\""
   ]
  },
  {
   "cell_type": "markdown",
   "metadata": {},
   "source": [
    "create a omnikeeper client"
   ]
  },
  {
   "cell_type": "code",
   "execution_count": 3,
   "metadata": {},
   "outputs": [],
   "source": [
    "okapiclient = okc.OkApiClient(\n",
    "    backend_url=os.getenv('OMNIKEEPER_URL'),\n",
    "    client_id=os.getenv('OMNIKEEPER_AUTH_CLIENTID'),\n",
    "    username=os.getenv('OMNIKEEPER_AUTH_USERNAME'),\n",
    "    password=os.getenv('OMNIKEEPER_AUTH_PASSWORD'),\n",
    ")"
   ]
  },
  {
   "cell_type": "markdown",
   "metadata": {},
   "source": [
    "ensure trait exists"
   ]
  },
  {
   "cell_type": "code",
   "execution_count": 4,
   "metadata": {},
   "outputs": [],
   "source": [
    "ret = okc.upsert_trait(okapiclient, TraitDefinition(trait_id, [\n",
    "        TraitAttributeDefinition(\"id\", \"test.id\", ATTRIBUTETYPE_INTEGER),\n",
    "        TraitAttributeDefinition(\"array\", \"test.array\", ATTRIBUTETYPE_TEXT, is_array=True),\n",
    "        TraitAttributeDefinition(\"some_key\", \"test.mapped_some_key\", ATTRIBUTETYPE_TEXT),\n",
    "      ]))\n",
    "assert(ret)"
   ]
  },
  {
   "cell_type": "markdown",
   "metadata": {},
   "source": [
    "ensure layer exists"
   ]
  },
  {
   "cell_type": "code",
   "execution_count": 5,
   "metadata": {},
   "outputs": [],
   "source": [
    "ret = okc.create_layer(okapiclient, layer_id, \"just a test layer\", okc.hex_string_to_rgb_color(\"#6666FF\"))\n",
    "assert(ret)"
   ]
  },
  {
   "cell_type": "markdown",
   "metadata": {},
   "source": [
    "create a test DataFrame"
   ]
  },
  {
   "cell_type": "code",
   "execution_count": 6,
   "metadata": {},
   "outputs": [
    {
     "data": {
      "text/html": [
       "<div>\n",
       "<style scoped>\n",
       "    .dataframe tbody tr th:only-of-type {\n",
       "        vertical-align: middle;\n",
       "    }\n",
       "\n",
       "    .dataframe tbody tr th {\n",
       "        vertical-align: top;\n",
       "    }\n",
       "\n",
       "    .dataframe thead th {\n",
       "        text-align: right;\n",
       "    }\n",
       "</style>\n",
       "<table border=\"1\" class=\"dataframe\">\n",
       "  <thead>\n",
       "    <tr style=\"text-align: right;\">\n",
       "      <th></th>\n",
       "      <th>id</th>\n",
       "      <th>array</th>\n",
       "      <th>some_key</th>\n",
       "    </tr>\n",
       "  </thead>\n",
       "  <tbody>\n",
       "    <tr>\n",
       "      <th>0</th>\n",
       "      <td>1</td>\n",
       "      <td>[a, b]</td>\n",
       "      <td>Value 1</td>\n",
       "    </tr>\n",
       "    <tr>\n",
       "      <th>1</th>\n",
       "      <td>3</td>\n",
       "      <td>[c, d]</td>\n",
       "      <td>another Value</td>\n",
       "    </tr>\n",
       "  </tbody>\n",
       "</table>\n",
       "</div>"
      ],
      "text/plain": [
       "   id   array       some_key\n",
       "0   1  [a, b]        Value 1\n",
       "1   3  [c, d]  another Value"
      ]
     },
     "execution_count": 6,
     "metadata": {},
     "output_type": "execute_result"
    }
   ],
   "source": [
    "df_init = pd.DataFrame.from_records([\n",
    "    {\"id\": 1, \"array\": [\"a\", \"b\"], \"some_key\": \"Value 1\"},\n",
    "    {\"id\": 3, \"array\": [\"c\", \"d\"], \"some_key\": \"another Value\"},\n",
    "])\n",
    "\n",
    "df_init"
   ]
  },
  {
   "cell_type": "markdown",
   "metadata": {},
   "source": [
    "write data to layer ``testlayer``"
   ]
  },
  {
   "cell_type": "code",
   "execution_count": 7,
   "metadata": {},
   "outputs": [],
   "source": [
    "ret = okc.bulk_replace_trait_entities_by_filter_dataframe(okapiclient, trait_name=trait_id, input=df_init, id_attributes=[\"id\"], id_relations=[], write_layer=layer_id, filter={})\n",
    "assert(ret)"
   ]
  },
  {
   "cell_type": "markdown",
   "metadata": {},
   "source": [
    "load data again from omnikeeper\n",
    "\n",
    "- get that data back out from omnikeeper\n",
    "- what we get back has an index that's the CIID of the corresponding CI\n",
    "- we can choose if we want to keep the ciid as column, in this case we will not keep it"
   ]
  },
  {
   "cell_type": "code",
   "execution_count": 8,
   "metadata": {},
   "outputs": [
    {
     "data": {
      "text/html": [
       "<div>\n",
       "<style scoped>\n",
       "    .dataframe tbody tr th:only-of-type {\n",
       "        vertical-align: middle;\n",
       "    }\n",
       "\n",
       "    .dataframe tbody tr th {\n",
       "        vertical-align: top;\n",
       "    }\n",
       "\n",
       "    .dataframe thead th {\n",
       "        text-align: right;\n",
       "    }\n",
       "</style>\n",
       "<table border=\"1\" class=\"dataframe\">\n",
       "  <thead>\n",
       "    <tr style=\"text-align: right;\">\n",
       "      <th></th>\n",
       "      <th>id</th>\n",
       "      <th>array</th>\n",
       "      <th>some_key</th>\n",
       "    </tr>\n",
       "    <tr>\n",
       "      <th>ciid</th>\n",
       "      <th></th>\n",
       "      <th></th>\n",
       "      <th></th>\n",
       "    </tr>\n",
       "  </thead>\n",
       "  <tbody>\n",
       "    <tr>\n",
       "      <th>2b321321-f307-47ba-970f-95486ed15bb1</th>\n",
       "      <td>3</td>\n",
       "      <td>[c, d]</td>\n",
       "      <td>another Value</td>\n",
       "    </tr>\n",
       "    <tr>\n",
       "      <th>4d462469-a3c4-4f8c-be1f-020f64ddc142</th>\n",
       "      <td>1</td>\n",
       "      <td>[a, b]</td>\n",
       "      <td>Value 1</td>\n",
       "    </tr>\n",
       "  </tbody>\n",
       "</table>\n",
       "</div>"
      ],
      "text/plain": [
       "                                      id   array       some_key\n",
       "ciid                                                           \n",
       "2b321321-f307-47ba-970f-95486ed15bb1   3  [c, d]  another Value\n",
       "4d462469-a3c4-4f8c-be1f-020f64ddc142   1  [a, b]        Value 1"
      ]
     },
     "execution_count": 8,
     "metadata": {},
     "output_type": "execute_result"
    }
   ],
   "source": [
    "updated_df = okc.get_all_traitentities_dataframe(okapiclient, trait_name=trait_id, layers=[layer_id])\n",
    "updated_df"
   ]
  },
  {
   "cell_type": "markdown",
   "metadata": {},
   "source": [
    "modify our dataframe"
   ]
  },
  {
   "cell_type": "code",
   "execution_count": 9,
   "metadata": {},
   "outputs": [
    {
     "data": {
      "text/html": [
       "<div>\n",
       "<style scoped>\n",
       "    .dataframe tbody tr th:only-of-type {\n",
       "        vertical-align: middle;\n",
       "    }\n",
       "\n",
       "    .dataframe tbody tr th {\n",
       "        vertical-align: top;\n",
       "    }\n",
       "\n",
       "    .dataframe thead th {\n",
       "        text-align: right;\n",
       "    }\n",
       "</style>\n",
       "<table border=\"1\" class=\"dataframe\">\n",
       "  <thead>\n",
       "    <tr style=\"text-align: right;\">\n",
       "      <th></th>\n",
       "      <th>id</th>\n",
       "      <th>array</th>\n",
       "      <th>some_key</th>\n",
       "    </tr>\n",
       "  </thead>\n",
       "  <tbody>\n",
       "    <tr>\n",
       "      <th>2b321321-f307-47ba-970f-95486ed15bb1</th>\n",
       "      <td>3</td>\n",
       "      <td>[a, b, z]</td>\n",
       "      <td>another Value</td>\n",
       "    </tr>\n",
       "    <tr>\n",
       "      <th>9b27175d-2af7-48da-a272-8964efeb006d</th>\n",
       "      <td>4</td>\n",
       "      <td>[x]</td>\n",
       "      <td>the new guy</td>\n",
       "    </tr>\n",
       "  </tbody>\n",
       "</table>\n",
       "</div>"
      ],
      "text/plain": [
       "                                      id      array       some_key\n",
       "2b321321-f307-47ba-970f-95486ed15bb1   3  [a, b, z]  another Value\n",
       "9b27175d-2af7-48da-a272-8964efeb006d   4        [x]    the new guy"
      ]
     },
     "execution_count": 9,
     "metadata": {},
     "output_type": "execute_result"
    }
   ],
   "source": [
    "# change things in the returned data\n",
    "# change single value of existing data\n",
    "updated_df.iat[0, updated_df.columns.get_loc(\"array\")] = [\"a\", \"b\", \"z\"]\n",
    "# add a new row, using our own created CIID\n",
    "updated_df = pd.concat([updated_df, pd.DataFrame([{\"id\": 4, \"array\": [\"x\"], \"some_key\": \"the new guy\"}], index=[str(uuid.uuid4())])])\n",
    "# drop a row\n",
    "updated_df.drop([updated_df.index[1]], inplace = True)\n",
    "\n",
    "updated_df"
   ]
  },
  {
   "cell_type": "markdown",
   "metadata": {},
   "source": [
    "write it back to omnikeeper"
   ]
  },
  {
   "cell_type": "code",
   "execution_count": 10,
   "metadata": {},
   "outputs": [],
   "source": [
    "ret = okc.bulk_replace_trait_entities_dataframe(okapiclient, trait_name=trait_id, input=updated_df, write_layer=layer_id)\n",
    "assert(ret)"
   ]
  },
  {
   "cell_type": "markdown",
   "metadata": {},
   "source": [
    "Fetch again the data"
   ]
  },
  {
   "cell_type": "code",
   "execution_count": 11,
   "metadata": {},
   "outputs": [
    {
     "data": {
      "text/html": [
       "<div>\n",
       "<style scoped>\n",
       "    .dataframe tbody tr th:only-of-type {\n",
       "        vertical-align: middle;\n",
       "    }\n",
       "\n",
       "    .dataframe tbody tr th {\n",
       "        vertical-align: top;\n",
       "    }\n",
       "\n",
       "    .dataframe thead th {\n",
       "        text-align: right;\n",
       "    }\n",
       "</style>\n",
       "<table border=\"1\" class=\"dataframe\">\n",
       "  <thead>\n",
       "    <tr style=\"text-align: right;\">\n",
       "      <th></th>\n",
       "      <th>id</th>\n",
       "      <th>array</th>\n",
       "      <th>some_key</th>\n",
       "    </tr>\n",
       "    <tr>\n",
       "      <th>ciid</th>\n",
       "      <th></th>\n",
       "      <th></th>\n",
       "      <th></th>\n",
       "    </tr>\n",
       "  </thead>\n",
       "  <tbody>\n",
       "    <tr>\n",
       "      <th>2b321321-f307-47ba-970f-95486ed15bb1</th>\n",
       "      <td>3</td>\n",
       "      <td>[a, b, z]</td>\n",
       "      <td>another Value</td>\n",
       "    </tr>\n",
       "    <tr>\n",
       "      <th>9b27175d-2af7-48da-a272-8964efeb006d</th>\n",
       "      <td>4</td>\n",
       "      <td>[x]</td>\n",
       "      <td>the new guy</td>\n",
       "    </tr>\n",
       "  </tbody>\n",
       "</table>\n",
       "</div>"
      ],
      "text/plain": [
       "                                      id      array       some_key\n",
       "ciid                                                              \n",
       "2b321321-f307-47ba-970f-95486ed15bb1   3  [a, b, z]  another Value\n",
       "9b27175d-2af7-48da-a272-8964efeb006d   4        [x]    the new guy"
      ]
     },
     "execution_count": 11,
     "metadata": {},
     "output_type": "execute_result"
    }
   ],
   "source": [
    "final_df = okc.get_all_traitentities_dataframe(okapiclient, trait_name=trait_id, layers=[layer_id])\n",
    "final_df"
   ]
  },
  {
   "cell_type": "code",
   "execution_count": 12,
   "metadata": {},
   "outputs": [
    {
     "data": {
      "text/plain": [
       "True"
      ]
     },
     "execution_count": 12,
     "metadata": {},
     "output_type": "execute_result"
    }
   ],
   "source": [
    "# cleanup\n",
    "okc.delete_trait(okapiclient, trait_id)\n",
    "okc.truncate_layer(okapiclient, layer_id)"
   ]
  }
 ],
 "metadata": {
  "kernelspec": {
   "display_name": ".venv",
   "language": "python",
   "name": "python3"
  },
  "language_info": {
   "codemirror_mode": {
    "name": "ipython",
    "version": 3
   },
   "file_extension": ".py",
   "mimetype": "text/x-python",
   "name": "python",
   "nbconvert_exporter": "python",
   "pygments_lexer": "ipython3",
   "version": "3.10.6"
  }
 },
 "nbformat": 4,
 "nbformat_minor": 2
}
