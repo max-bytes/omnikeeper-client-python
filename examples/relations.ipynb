{
 "cells": [
  {
   "cell_type": "markdown",
   "metadata": {},
   "source": [
    "## Demonstrate interactions with relations using omnikeeper"
   ]
  },
  {
   "cell_type": "code",
   "execution_count": 1,
   "metadata": {},
   "outputs": [],
   "source": [
    "import os\n",
    "import omnikeeper_client as okc\n",
    "from omnikeeper_client import TraitDefinition, TraitAttributeDefinition, TraitRelationDefinition, ATTRIBUTETYPE_TEXT, ATTRIBUTETYPE_INTEGER\n",
    "import pandas as pd"
   ]
  },
  {
   "cell_type": "markdown",
   "metadata": {},
   "source": [
    "As usual create the omnikeeper client"
   ]
  },
  {
   "cell_type": "code",
   "execution_count": 2,
   "metadata": {},
   "outputs": [],
   "source": [
    "okapiclient = okc.OkApiClient(\n",
    "    backend_url=os.getenv('OMNIKEEPER_URL'),\n",
    "    client_id=os.getenv('OMNIKEEPER_AUTH_CLIENTID'),\n",
    "    username=os.getenv('OMNIKEEPER_AUTH_USERNAME'),\n",
    "    password=os.getenv('OMNIKEEPER_AUTH_PASSWORD'),\n",
    ")"
   ]
  },
  {
   "cell_type": "markdown",
   "metadata": {},
   "source": [
    "Define the trait names and layer"
   ]
  },
  {
   "cell_type": "code",
   "execution_count": 3,
   "metadata": {},
   "outputs": [],
   "source": [
    "host_trait_name = \"python_client_demo.host\"\n",
    "interface_trait_name = \"python_client_demo.interface\"\n",
    "layer_name = \"relations\""
   ]
  },
  {
   "cell_type": "markdown",
   "metadata": {},
   "source": [
    "Make sure that traits are created correctly"
   ]
  },
  {
   "cell_type": "code",
   "execution_count": 4,
   "metadata": {},
   "outputs": [
    {
     "name": "stdout",
     "output_type": "stream",
     "text": [
      "True\n",
      "True\n"
     ]
    }
   ],
   "source": [
    "is_host_trait_created = okc.upsert_trait(okapiclient, TraitDefinition(host_trait_name, [\n",
    "        TraitAttributeDefinition(\"id\", \"host.id\", ATTRIBUTETYPE_INTEGER),\n",
    "      ], optional_relations = [\n",
    "        TraitRelationDefinition(identifier = \"has_interface\", predicate_id = \"has_interface\", direction_forward=True)\n",
    "      ]))\n",
    "print(is_host_trait_created)\n",
    "\n",
    "is_interface_trait_created = okc.upsert_trait(okapiclient, TraitDefinition(interface_trait_name, [\n",
    "        TraitAttributeDefinition(\"id\", \"interface.id\", ATTRIBUTETYPE_INTEGER),\n",
    "      ], optional_relations = [\n",
    "        TraitRelationDefinition(identifier = \"has_host\", predicate_id = \"has_host\", direction_forward=True)\n",
    "      ]))\n",
    "print(is_interface_trait_created)"
   ]
  },
  {
   "cell_type": "markdown",
   "metadata": {},
   "source": [
    "Create the host and interface CIs"
   ]
  },
  {
   "cell_type": "code",
   "execution_count": 5,
   "metadata": {},
   "outputs": [
    {
     "data": {
      "text/plain": [
       "UUID('c05824b5-cb00-4227-aea9-9a73aaa5f909')"
      ]
     },
     "execution_count": 5,
     "metadata": {},
     "output_type": "execute_result"
    }
   ],
   "source": [
    "host_ci_id = okc.create_ci(okapiclient, \"Host A\", layer_name)\n",
    "host_ci_id"
   ]
  },
  {
   "cell_type": "markdown",
   "metadata": {},
   "source": [
    "Update created host ci, add host.id attribute"
   ]
  },
  {
   "cell_type": "code",
   "execution_count": 6,
   "metadata": {},
   "outputs": [
    {
     "data": {
      "text/plain": [
       "{'mutateCIs': {'affectedCIs': [{'id': 'c05824b5-cb00-4227-aea9-9a73aaa5f909'}]}}"
      ]
     },
     "execution_count": 6,
     "metadata": {},
     "output_type": "execute_result"
    }
   ],
   "source": [
    "host_attributes = {\n",
    "    \"host.id\": 1,\n",
    "}\n",
    "\n",
    "okc.mutate_ci(okapiclient, layer_name, host_ci_id, host_attributes)"
   ]
  },
  {
   "cell_type": "code",
   "execution_count": 7,
   "metadata": {},
   "outputs": [
    {
     "data": {
      "text/plain": [
       "UUID('ed6b1972-97a6-4601-a1fd-d4cc3e52b282')"
      ]
     },
     "execution_count": 7,
     "metadata": {},
     "output_type": "execute_result"
    }
   ],
   "source": [
    "interface_ci_id = okc.create_ci(okapiclient, \"Interface A\", layer_name)\n",
    "interface_ci_id"
   ]
  },
  {
   "cell_type": "code",
   "execution_count": 8,
   "metadata": {},
   "outputs": [
    {
     "data": {
      "text/plain": [
       "{'mutateCIs': {'affectedCIs': [{'id': 'ed6b1972-97a6-4601-a1fd-d4cc3e52b282'}]}}"
      ]
     },
     "execution_count": 8,
     "metadata": {},
     "output_type": "execute_result"
    }
   ],
   "source": [
    "interface_attributes = {\n",
    "    \"interface.id\": 1,\n",
    "}\n",
    "\n",
    "okc.mutate_ci(okapiclient, layer_name, interface_ci_id, interface_attributes)"
   ]
  },
  {
   "cell_type": "markdown",
   "metadata": {},
   "source": [
    "Add host and interface relations using the created cis and okc"
   ]
  },
  {
   "cell_type": "code",
   "execution_count": 9,
   "metadata": {},
   "outputs": [
    {
     "data": {
      "text/plain": [
       "True"
      ]
     },
     "execution_count": 9,
     "metadata": {},
     "output_type": "execute_result"
    }
   ],
   "source": [
    "okc.add_trait_relations_by_ciid(okapiclient, host_trait_name, \"has_interface\", host_ci_id, [interface_ci_id], layer_name)"
   ]
  },
  {
   "cell_type": "code",
   "execution_count": 10,
   "metadata": {},
   "outputs": [
    {
     "data": {
      "text/plain": [
       "True"
      ]
     },
     "execution_count": 10,
     "metadata": {},
     "output_type": "execute_result"
    }
   ],
   "source": [
    "okc.add_trait_relations_by_ciid(okapiclient, interface_trait_name, \"has_host\", interface_ci_id, [host_ci_id], layer_name)"
   ]
  },
  {
   "cell_type": "markdown",
   "metadata": {},
   "source": [
    "### Relations operations using lists"
   ]
  },
  {
   "cell_type": "markdown",
   "metadata": {},
   "source": [
    "Fetch hosts and interfaces from the specified layer"
   ]
  },
  {
   "cell_type": "code",
   "execution_count": 11,
   "metadata": {},
   "outputs": [
    {
     "data": {
      "text/plain": [
       "[{'ciid': 'c05824b5-cb00-4227-aea9-9a73aaa5f909', 'id': 1}]"
      ]
     },
     "execution_count": 11,
     "metadata": {},
     "output_type": "execute_result"
    }
   ],
   "source": [
    "hosts = okc.get_all_traitentities_list(okapiclient, trait_name=host_trait_name, layers=[layer_name])\n",
    "hosts"
   ]
  },
  {
   "cell_type": "code",
   "execution_count": 12,
   "metadata": {},
   "outputs": [
    {
     "data": {
      "text/plain": [
       "[{'ciid': 'ed6b1972-97a6-4601-a1fd-d4cc3e52b282', 'id': 1}]"
      ]
     },
     "execution_count": 12,
     "metadata": {},
     "output_type": "execute_result"
    }
   ],
   "source": [
    "interfaces = okc.get_all_traitentities_list(okapiclient, trait_name=interface_trait_name, layers=[layer_name])\n",
    "interfaces"
   ]
  },
  {
   "cell_type": "markdown",
   "metadata": {},
   "source": [
    "Fetch has_host realtions. In the result interfaces will be as base_cis and hosts as related cis"
   ]
  },
  {
   "cell_type": "code",
   "execution_count": 13,
   "metadata": {},
   "outputs": [
    {
     "data": {
      "text/plain": [
       "[{'base_ciid': 'ed6b1972-97a6-4601-a1fd-d4cc3e52b282',\n",
       "  'related_ciids': ['c05824b5-cb00-4227-aea9-9a73aaa5f909']}]"
      ]
     },
     "execution_count": 13,
     "metadata": {},
     "output_type": "execute_result"
    }
   ],
   "source": [
    "has_host_relations = okc.get_trait_relation(okapiclient, trait_name=interface_trait_name, relation_name=\"has_host\", layers=[layer_name])\n",
    "has_host_relations"
   ]
  },
  {
   "cell_type": "markdown",
   "metadata": {},
   "source": [
    "Fetch has_interface relations for all hosts"
   ]
  },
  {
   "cell_type": "code",
   "execution_count": 14,
   "metadata": {},
   "outputs": [
    {
     "data": {
      "text/plain": [
       "[{'base_ciid': 'c05824b5-cb00-4227-aea9-9a73aaa5f909',\n",
       "  'related_ciids': ['ed6b1972-97a6-4601-a1fd-d4cc3e52b282']}]"
      ]
     },
     "execution_count": 14,
     "metadata": {},
     "output_type": "execute_result"
    }
   ],
   "source": [
    "has_interface_relations = okc.get_trait_relation(okapiclient, trait_name=host_trait_name, relation_name=\"has_interface\", layers=[layer_name])\n",
    "has_interface_relations"
   ]
  },
  {
   "cell_type": "markdown",
   "metadata": {},
   "source": [
    "Merge hosts with realted cis in this case interfaces"
   ]
  },
  {
   "cell_type": "code",
   "execution_count": 15,
   "metadata": {},
   "outputs": [
    {
     "data": {
      "text/plain": [
       "[{'ciid': 'c05824b5-cb00-4227-aea9-9a73aaa5f909',\n",
       "  'id': 1,\n",
       "  'related_ciis': [{'ciid': 'ed6b1972-97a6-4601-a1fd-d4cc3e52b282', 'id': 1}]}]"
      ]
     },
     "execution_count": 15,
     "metadata": {},
     "output_type": "execute_result"
    }
   ],
   "source": [
    "interface_dict = {interface['ciid']: interface for interface in interfaces}\n",
    "\n",
    "hosts_with_relations = []\n",
    "for host in hosts:\n",
    "    merged_dict = host.copy()\n",
    "    merged_dict['related_ciis'] = []\n",
    "    for relation in has_interface_relations:\n",
    "        if host['ciid'] == relation['base_ciid']:\n",
    "            for related_ciid in relation['related_ciids']:\n",
    "                if related_ciid in interface_dict:\n",
    "                    merged_dict['related_ciis'].append(interface_dict[related_ciid])\n",
    "    hosts_with_relations.append(merged_dict)\n",
    "\n",
    "hosts_with_relations"
   ]
  },
  {
   "cell_type": "markdown",
   "metadata": {},
   "source": [
    "The same can be done for interfaces to fetch its relations"
   ]
  },
  {
   "cell_type": "code",
   "execution_count": 16,
   "metadata": {},
   "outputs": [
    {
     "data": {
      "text/plain": [
       "[{'ciid': 'ed6b1972-97a6-4601-a1fd-d4cc3e52b282',\n",
       "  'id': 1,\n",
       "  'related_ciis': [{'ciid': 'c05824b5-cb00-4227-aea9-9a73aaa5f909', 'id': 1}]}]"
      ]
     },
     "execution_count": 16,
     "metadata": {},
     "output_type": "execute_result"
    }
   ],
   "source": [
    "host_dict = {host['ciid']: host for host in hosts}\n",
    "\n",
    "interfaces_with_relations = []\n",
    "for interface in interfaces:\n",
    "    merged_dict = interface.copy()\n",
    "    merged_dict['related_ciis'] = []\n",
    "    for relation in has_host_relations:\n",
    "        if interface['ciid'] == relation['base_ciid']:\n",
    "            for related_ciid in relation['related_ciids']:\n",
    "                if related_ciid in host_dict:\n",
    "                    merged_dict['related_ciis'].append(host_dict[related_ciid])\n",
    "    interfaces_with_relations.append(merged_dict)\n",
    "\n",
    "interfaces_with_relations"
   ]
  },
  {
   "cell_type": "markdown",
   "metadata": {},
   "source": [
    "### Relations operations using pandas dataframes"
   ]
  },
  {
   "cell_type": "code",
   "execution_count": 17,
   "metadata": {},
   "outputs": [],
   "source": [
    "# TODO"
   ]
  }
 ],
 "metadata": {
  "kernelspec": {
   "display_name": ".venv",
   "language": "python",
   "name": "python3"
  },
  "language_info": {
   "codemirror_mode": {
    "name": "ipython",
    "version": 3
   },
   "file_extension": ".py",
   "mimetype": "text/x-python",
   "name": "python",
   "nbconvert_exporter": "python",
   "pygments_lexer": "ipython3",
   "version": "3.12.0"
  }
 },
 "nbformat": 4,
 "nbformat_minor": 2
}
